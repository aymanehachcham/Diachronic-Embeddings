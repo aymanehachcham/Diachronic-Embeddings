{
 "cells": [
  {
   "cell_type": "code",
   "execution_count": 1,
   "metadata": {},
   "outputs": [],
   "source": [
    "import  requests\n",
    "import json"
   ]
  },
  {
   "cell_type": "code",
   "execution_count": 38,
   "outputs": [],
   "source": [
    "API_CREDENTIALS = 'oxford_api_credentials.txt'\n",
    "with open(API_CREDENTIALS) as f:\n",
    "    creds = f.read()"
   ],
   "metadata": {
    "collapsed": false
   }
  },
  {
   "cell_type": "code",
   "execution_count": 39,
   "outputs": [
    {
     "data": {
      "text/plain": "{'Accept': 'application/json',\n 'app_id': '8beabadc',\n 'app_key': '4d85f3e2e7cd293da9a811f156c99841',\n 'url': 'https://od-api.oxforddictionaries.com/api/v2'}"
     },
     "execution_count": 39,
     "metadata": {},
     "output_type": "execute_result"
    }
   ],
   "source": [
    "api_creds = {}\n",
    "creds.split('\\n')\n",
    "api_creds['Accept'] = creds.split('\\n')[0].split(':')[1].strip()\n",
    "api_creds['app_id'] = creds.split('\\n')[1].split(':')[1].strip()\n",
    "api_creds['app_key'] = creds.split('\\n')[2].split(':')[1].strip()\n",
    "api_creds['url'] = creds.split('\\n')[3].split(':', 1)[1].strip()\n",
    "\n",
    "api_creds"
   ],
   "metadata": {
    "collapsed": false
   }
  },
  {
   "cell_type": "code",
   "execution_count": 36,
   "outputs": [],
   "source": [
    "def json_load(res):\n",
    "  t = json.dumps(res.json())\n",
    "  return json.loads(t)\n",
    "\n",
    "headers = {\n",
    "        \"Accept\": api_creds['Accept'],\n",
    "        \"app_id\": api_creds['app_id'],\n",
    "        \"app_key\": api_creds['app_key']\n",
    "    }\n",
    "word_id = 'abusive'\n",
    "url_entries = api_creds['url'] + 'entries/en/' + word_id + '?strictMatch=true'\n",
    "res_entries = requests.get(url_entries, headers = {'app_id' : headers['app_id'], 'app_key' : headers['app_key']})\n",
    "\n",
    "senses_examples = json_load(res_entries)"
   ],
   "metadata": {
    "collapsed": false
   }
  },
  {
   "cell_type": "code",
   "execution_count": 37,
   "outputs": [
    {
     "data": {
      "text/plain": "'the goalkeeper was sent off for using abusive language'"
     },
     "execution_count": 37,
     "metadata": {},
     "output_type": "execute_result"
    }
   ],
   "source": [
    "senses_examples['results'][0]['lexicalEntries'][0]['entries'][0]['senses'][0]['examples'][0]['text']"
   ],
   "metadata": {
    "collapsed": false
   }
  },
  {
   "cell_type": "code",
   "execution_count": 111,
   "outputs": [
    {
     "data": {
      "text/plain": "{'id': 'washington',\n 'metadata': {'operation': 'retrieve',\n  'provider': 'Oxford University Press',\n  'schema': 'RetrieveEntry'},\n 'results': [{'id': 'Washington',\n   'language': 'en-gb',\n   'lexicalEntries': [{'entries': [{'grammaticalFeatures': [{'id': 'proper',\n         'text': 'Proper',\n         'type': 'Properness'}],\n       'pronunciations': [{'audioFile': 'https://audio.oxforddictionaries.com/en/mp3/washington_1_gb_1.mp3',\n         'dialects': ['British English'],\n         'phoneticNotation': 'IPA',\n         'phoneticSpelling': 'ˈwɒʃɪŋt(ə)n'}],\n       'senses': [{'definitions': ['a state of the north-western US, on the coast of the Pacific Ocean; population 6,549,224 (est. 2008); capital, Olympia. It became the 42nd state in 1889.'],\n         'id': 'm_en_gbus1142220.006',\n         'semanticClasses': [{'id': 'us_state', 'text': 'Us_State'}],\n         'shortDefinitions': ['state of north-western US, on Pacific coast']},\n        {'definitions': ['the capital of the US; population 591,833 (est. 2008). It is coextensive with the District of Columbia, a federal district on the Potomac River with boundaries on the states of Virginia and Maryland. Founded in 1790, during the presidency of George Washington, it was planned and built as a capital city.'],\n         'id': 'm_en_gbus1142220.009',\n         'semanticClasses': [{'id': 'city', 'text': 'City'}],\n         'shortDefinitions': ['capital of US'],\n         'subsenses': [{'definitions': ['used in reference to the US government'],\n           'examples': [{'text': 'they warned of serious consequences if Washington said no'}],\n           'id': 'm_en_gbus1142220.028',\n           'semanticClasses': [{'id': 'organization', 'text': 'Organization'}],\n           'shortDefinitions': ['used in reference to US government']}],\n         'variantForms': [{'text': 'Washington DC'}]},\n        {'definitions': ['an industrial town in north-eastern England, designated as a new town in 1964; population 51,700 (est. 2009).'],\n         'id': 'm_en_gbus1142220.015',\n         'semanticClasses': [{'id': 'city', 'text': 'City'}],\n         'shortDefinitions': ['industrial town in NE England']}]}],\n     'language': 'en-gb',\n     'lexicalCategory': {'id': 'noun', 'text': 'Noun'},\n     'text': 'Washington'}],\n   'type': 'headword',\n   'word': 'Washington'}],\n 'word': 'Washington'}"
     },
     "execution_count": 111,
     "metadata": {},
     "output_type": "execute_result"
    }
   ],
   "source": [
    "def json_load(res):\n",
    "  t = json.dumps(res.json())\n",
    "  return json.loads(t)\n",
    "\n",
    "word_id = 'Washington'\n",
    "url_entries = 'https://od-api.oxforddictionaries.com/api/v2/entries/en/' + word_id + '?strictMatch=true'\n",
    "res_entries = requests.get(url_entries, headers = {'app_id' : headers['app_id'], 'app_key' : headers['app_key']})\n",
    "\n",
    "json_load(res_entries)"
   ],
   "metadata": {
    "collapsed": false
   }
  },
  {
   "cell_type": "code",
   "execution_count": 131,
   "outputs": [],
   "source": [
    "def json_load(res):\n",
    "  t = json.dumps(res.json())\n",
    "  return json.loads(t)\n",
    "\n",
    "def prepare_api(word:str):\n",
    "    headers = {\n",
    "        \"Accept\": \"application/json\",\n",
    "        \"app_id\": \"8beabadc\",\n",
    "        \"app_key\": \"4d85f3e2e7cd293da9a811f156c99841\"\n",
    "    }\n",
    "    word_id = word\n",
    "    url_entries = 'https://od-api.oxforddictionaries.com/api/v2/entries/en/' + word_id + '?strictMatch=true'\n",
    "    res_entries = requests.get(url_entries, headers = {'app_id' : headers['app_id'], 'app_key' : headers['app_key']})\n",
    "    url_sentences = 'https://od-api.oxforddictionaries.com/api/v2/sentences/en/' + word_id + '?strictMatch=true'\n",
    "    res_sentences = requests.get(url_sentences, headers = {'app_id' : headers['app_id'], 'app_key' : headers['app_key']})\n",
    "\n",
    "    senses_examples = json_load(res_entries)\n",
    "    sentences_examples = json_load(res_sentences)\n",
    "\n",
    "    return senses_examples, sentences_examples\n",
    "\n",
    "def run_words(word:str):\n",
    "    from itertools import chain\n",
    "    senses_examples, sentences_examples = prepare_api(word)\n",
    "\n",
    "    try:\n",
    "        senses_examples['results']\n",
    "    except KeyError:\n",
    "        raise ValueError(\n",
    "            'No resutls for senses'\n",
    "        )\n",
    "    try:\n",
    "        sentences_examples['results']\n",
    "    except KeyError:\n",
    "        raise ValueError(\n",
    "            'No resutls for senteces'\n",
    "        )\n",
    "\n",
    "    api_call_senses = senses_examples['results'][0]['lexicalEntries'][0]['entries'][0]['senses']\n",
    "    sentences = sentences_examples['results'][0]['lexicalEntries'][0]['sentences']\n",
    "    senses = []\n",
    "    sense_with_examples = {}\n",
    "    diff_sense_ids = []\n",
    "\n",
    "\n",
    "    for el in sentences:\n",
    "        diff_sense_ids.append(el['senseIds'][0])\n",
    "\n",
    "    sense_ids = set(diff_sense_ids)\n",
    "\n",
    "    def search(id):\n",
    "        return list(sent['text'] for sent in sentences if sent['senseIds'][0] == id)\n",
    "\n",
    "    for idx, sens in enumerate(api_call_senses):\n",
    "        try:\n",
    "            sense_with_examples['word'] = word\n",
    "            sense_with_examples['sense'] = sens['id']\n",
    "            sense_with_examples['definition'] = sens['definitions'][0]\n",
    "            examples_for_senses = list(ex['text'] for ex in sens['examples'])\n",
    "\n",
    "            if sens['id'] in list(sense_ids):\n",
    "                examples_sense = search(sens['id'])\n",
    "                sense_with_examples['examples'] = list(chain(examples_sense, examples_for_senses))\n",
    "        except KeyError:\n",
    "            raise ValueError(\n",
    "                'No examples for the word: {}'.format(word)\n",
    "            )\n",
    "\n",
    "        senses.append(sense_with_examples.copy())\n",
    "\n",
    "    return senses"
   ],
   "metadata": {
    "collapsed": false
   }
  },
  {
   "cell_type": "code",
   "execution_count": 118,
   "outputs": [],
   "source": [
    "senses = run_words('people')"
   ],
   "metadata": {
    "collapsed": false
   }
  },
  {
   "cell_type": "code",
   "execution_count": 132,
   "outputs": [
    {
     "data": {
      "text/plain": "[{'sense': 'm_en_gbus0763900.006',\n  'definition': 'human beings in general or considered collectively',\n  'examples': [\"He's a very strong personality, but he talks to people as human beings and he's very honest.\",\n   'The Home Office had to treat these people as decent human beings and provide extra resources.',\n   'We may well decide that it was the most evil act ever perpetrated by human beings on fellow people.',\n   \"We don't have nearly the amount of litter because people in general take pride in their city.\",\n   'It is high among the reasons why people consult general practitioners and neurologists.',\n   'You can count the number of people at most general openings on your fingers and toes.',\n   'If so, was his stringent demand only for disciples, or was it intended for people in general?',\n   'Neither do I have a problem in general with people who wish to follow religious beliefs.',\n   'As I grew older, my imaginary friends took on the personas of real living people.',\n   'In general, too many people put too much emphasis on historic stock market statistics.',\n   'She was bewildered due to the general lack of people running the place, apparently.',\n   'At the scene they interviewed a local man and some other people from the general area.',\n   'I feel they are aiming at older people and people in wealthy jobs more than the younger generation.',\n   'Each day he has looked at a key issue facing us as a nation, as a people, as frail human beings.',\n   'The most interesting aspect to this issue is the question of how people generate a sense of belonging.',\n   \"It's not going to change until people from my generation, the baby boomers, start to die.\",\n   'Staff warn that as the exhibition contains human remains some people may find it disturbing.',\n   'Who better to take advice from than the experienced people who make their living from tourism?',\n   'I have always had an almost perverse desire to mix with people who make their living from crime.',\n   'The chances of people making a living without skills are reducing all the time.',\n   'the earthquake killed 30,000 people',\n   \"people think I'm mad\"]},\n {'sense': 'm_en_gbus0763900.013',\n  'definition': 'the members of a particular nation, community, or ethnic group',\n  'examples': [\"However, the nation's indigenous peoples have never tasted their share of Argentina's riches.\",\n   'Ethnic minorities, indigenous peoples and tribal people everywhere face discrimination.',\n   \"There is also an eloquent record of tribal history of the indigenous peoples of Alaska's ethnic Indian and Inuit population.\",\n   'Water has great significance for First Nations and Aboriginal peoples.',\n   'We want a Europe where power flows upwards from nation states and their peoples, and not downwards from Brussels and its remote elites.',\n   'The interests and diversity of all nations and all peoples must be respected.',\n   'It is also hugely noticeable what winning and success can do for peoples, races, nations.',\n   'We need to embrace Europe, including the single currency, if good relations between nations and their peoples are to be fostered.',\n   'You are an old man who thinks in terms of nations and peoples.',\n   'We reject, also, the cultural relativist view according to which these basic human rights are not appropriate for certain nations or peoples.',\n   'Why am I convinced that more sophisticated armaments, or bigger armies, cannot make nations and peoples secure?',\n   'How exactly does a nation or peoples get itself on the list to be humiliated at taxpayer expense and who is it that makes that final decision anyway?',\n   'Other nations and peoples at similar stages of development could do themselves a good turn by following suit.',\n   'For sure, a conflict between nations or peoples would be difficult to square.',\n   'War is rolling the dice with the future of nations and peoples hanging in the balance.',\n   'Sport, in this case at least, perhaps does have the capacity to build bridges between nations and peoples.',\n   'Nowhere is this neglect more salient than in the consideration of the experiences of indigenous peoples and ethnic minority groups.',\n   'That document will guide all Government departments on creating policy that is responsive to the needs of ethnic peoples.',\n   'The peoples of all nations had offices there and they traded with each other and with the United States of America.',\n   'This strategy has had the remarkable effect of forging a French nation from many diverse peoples.',\n   'the native peoples of Canada']},\n {'sense': 'm_en_gbus0763900.017',\n  'definition': 'the supporters or employees of a person in a position of power or authority',\n  'examples': ['The coaching staff consists of the team of people that is employed by the club to support the manager.',\n   \"I've had my people watching the house for some time now\"]}]"
     },
     "execution_count": 132,
     "metadata": {},
     "output_type": "execute_result"
    }
   ],
   "source": [
    "senses"
   ],
   "metadata": {
    "collapsed": false
   }
  },
  {
   "cell_type": "code",
   "execution_count": 175,
   "outputs": [
    {
     "ename": "KeyboardInterrupt",
     "evalue": "",
     "output_type": "error",
     "traceback": [
      "\u001B[0;31m---------------------------------------------------------------------------\u001B[0m",
      "\u001B[0;31mKeyboardInterrupt\u001B[0m                         Traceback (most recent call last)",
      "Cell \u001B[0;32mIn[175], line 9\u001B[0m\n\u001B[1;32m      7\u001B[0m \u001B[38;5;28;01mfor\u001B[39;00m word \u001B[38;5;129;01min\u001B[39;00m full_text\u001B[38;5;241m.\u001B[39msplit(\u001B[38;5;124m'\u001B[39m\u001B[38;5;130;01m\\n\u001B[39;00m\u001B[38;5;124m'\u001B[39m):\n\u001B[1;32m      8\u001B[0m     \u001B[38;5;28;01mtry\u001B[39;00m:\n\u001B[0;32m----> 9\u001B[0m         out_dict \u001B[38;5;241m=\u001B[39m \u001B[43mrun_words\u001B[49m\u001B[43m(\u001B[49m\u001B[43mword\u001B[49m\u001B[43m)\u001B[49m\n\u001B[1;32m     10\u001B[0m         all_words\u001B[38;5;241m.\u001B[39mappend(out_dict)\n\u001B[1;32m     11\u001B[0m     \u001B[38;5;28;01mexcept\u001B[39;00m \u001B[38;5;167;01mValueError\u001B[39;00m:\n",
      "Cell \u001B[0;32mIn[131], line 24\u001B[0m, in \u001B[0;36mrun_words\u001B[0;34m(word)\u001B[0m\n\u001B[1;32m     22\u001B[0m \u001B[38;5;28;01mdef\u001B[39;00m \u001B[38;5;21mrun_words\u001B[39m(word:\u001B[38;5;28mstr\u001B[39m):\n\u001B[1;32m     23\u001B[0m     \u001B[38;5;28;01mfrom\u001B[39;00m \u001B[38;5;21;01mitertools\u001B[39;00m \u001B[38;5;28;01mimport\u001B[39;00m chain\n\u001B[0;32m---> 24\u001B[0m     senses_examples, sentences_examples \u001B[38;5;241m=\u001B[39m \u001B[43mprepare_api\u001B[49m\u001B[43m(\u001B[49m\u001B[43mword\u001B[49m\u001B[43m)\u001B[49m\n\u001B[1;32m     26\u001B[0m     \u001B[38;5;28;01mtry\u001B[39;00m:\n\u001B[1;32m     27\u001B[0m         senses_examples[\u001B[38;5;124m'\u001B[39m\u001B[38;5;124mresults\u001B[39m\u001B[38;5;124m'\u001B[39m]\n",
      "Cell \u001B[0;32mIn[131], line 15\u001B[0m, in \u001B[0;36mprepare_api\u001B[0;34m(word)\u001B[0m\n\u001B[1;32m     13\u001B[0m res_entries \u001B[38;5;241m=\u001B[39m requests\u001B[38;5;241m.\u001B[39mget(url_entries, headers \u001B[38;5;241m=\u001B[39m {\u001B[38;5;124m'\u001B[39m\u001B[38;5;124mapp_id\u001B[39m\u001B[38;5;124m'\u001B[39m : headers[\u001B[38;5;124m'\u001B[39m\u001B[38;5;124mapp_id\u001B[39m\u001B[38;5;124m'\u001B[39m], \u001B[38;5;124m'\u001B[39m\u001B[38;5;124mapp_key\u001B[39m\u001B[38;5;124m'\u001B[39m : headers[\u001B[38;5;124m'\u001B[39m\u001B[38;5;124mapp_key\u001B[39m\u001B[38;5;124m'\u001B[39m]})\n\u001B[1;32m     14\u001B[0m url_sentences \u001B[38;5;241m=\u001B[39m \u001B[38;5;124m'\u001B[39m\u001B[38;5;124mhttps://od-api.oxforddictionaries.com/api/v2/sentences/en/\u001B[39m\u001B[38;5;124m'\u001B[39m \u001B[38;5;241m+\u001B[39m word_id \u001B[38;5;241m+\u001B[39m \u001B[38;5;124m'\u001B[39m\u001B[38;5;124m?strictMatch=true\u001B[39m\u001B[38;5;124m'\u001B[39m\n\u001B[0;32m---> 15\u001B[0m res_sentences \u001B[38;5;241m=\u001B[39m \u001B[43mrequests\u001B[49m\u001B[38;5;241;43m.\u001B[39;49m\u001B[43mget\u001B[49m\u001B[43m(\u001B[49m\u001B[43murl_sentences\u001B[49m\u001B[43m,\u001B[49m\u001B[43m \u001B[49m\u001B[43mheaders\u001B[49m\u001B[43m \u001B[49m\u001B[38;5;241;43m=\u001B[39;49m\u001B[43m \u001B[49m\u001B[43m{\u001B[49m\u001B[38;5;124;43m'\u001B[39;49m\u001B[38;5;124;43mapp_id\u001B[39;49m\u001B[38;5;124;43m'\u001B[39;49m\u001B[43m \u001B[49m\u001B[43m:\u001B[49m\u001B[43m \u001B[49m\u001B[43mheaders\u001B[49m\u001B[43m[\u001B[49m\u001B[38;5;124;43m'\u001B[39;49m\u001B[38;5;124;43mapp_id\u001B[39;49m\u001B[38;5;124;43m'\u001B[39;49m\u001B[43m]\u001B[49m\u001B[43m,\u001B[49m\u001B[43m \u001B[49m\u001B[38;5;124;43m'\u001B[39;49m\u001B[38;5;124;43mapp_key\u001B[39;49m\u001B[38;5;124;43m'\u001B[39;49m\u001B[43m \u001B[49m\u001B[43m:\u001B[49m\u001B[43m \u001B[49m\u001B[43mheaders\u001B[49m\u001B[43m[\u001B[49m\u001B[38;5;124;43m'\u001B[39;49m\u001B[38;5;124;43mapp_key\u001B[39;49m\u001B[38;5;124;43m'\u001B[39;49m\u001B[43m]\u001B[49m\u001B[43m}\u001B[49m\u001B[43m)\u001B[49m\n\u001B[1;32m     17\u001B[0m senses_examples \u001B[38;5;241m=\u001B[39m json_load(res_entries)\n\u001B[1;32m     18\u001B[0m sentences_examples \u001B[38;5;241m=\u001B[39m json_load(res_sentences)\n",
      "File \u001B[0;32m~/Documents/TU Dortmund/Diachronic Embeddings/venv/lib/python3.9/site-packages/requests/api.py:73\u001B[0m, in \u001B[0;36mget\u001B[0;34m(url, params, **kwargs)\u001B[0m\n\u001B[1;32m     62\u001B[0m \u001B[38;5;28;01mdef\u001B[39;00m \u001B[38;5;21mget\u001B[39m(url, params\u001B[38;5;241m=\u001B[39m\u001B[38;5;28;01mNone\u001B[39;00m, \u001B[38;5;241m*\u001B[39m\u001B[38;5;241m*\u001B[39mkwargs):\n\u001B[1;32m     63\u001B[0m \u001B[38;5;250m    \u001B[39m\u001B[38;5;124mr\u001B[39m\u001B[38;5;124;03m\"\"\"Sends a GET request.\u001B[39;00m\n\u001B[1;32m     64\u001B[0m \n\u001B[1;32m     65\u001B[0m \u001B[38;5;124;03m    :param url: URL for the new :class:`Request` object.\u001B[39;00m\n\u001B[0;32m   (...)\u001B[0m\n\u001B[1;32m     70\u001B[0m \u001B[38;5;124;03m    :rtype: requests.Response\u001B[39;00m\n\u001B[1;32m     71\u001B[0m \u001B[38;5;124;03m    \"\"\"\u001B[39;00m\n\u001B[0;32m---> 73\u001B[0m     \u001B[38;5;28;01mreturn\u001B[39;00m \u001B[43mrequest\u001B[49m\u001B[43m(\u001B[49m\u001B[38;5;124;43m\"\u001B[39;49m\u001B[38;5;124;43mget\u001B[39;49m\u001B[38;5;124;43m\"\u001B[39;49m\u001B[43m,\u001B[49m\u001B[43m \u001B[49m\u001B[43murl\u001B[49m\u001B[43m,\u001B[49m\u001B[43m \u001B[49m\u001B[43mparams\u001B[49m\u001B[38;5;241;43m=\u001B[39;49m\u001B[43mparams\u001B[49m\u001B[43m,\u001B[49m\u001B[43m \u001B[49m\u001B[38;5;241;43m*\u001B[39;49m\u001B[38;5;241;43m*\u001B[39;49m\u001B[43mkwargs\u001B[49m\u001B[43m)\u001B[49m\n",
      "File \u001B[0;32m~/Documents/TU Dortmund/Diachronic Embeddings/venv/lib/python3.9/site-packages/requests/api.py:59\u001B[0m, in \u001B[0;36mrequest\u001B[0;34m(method, url, **kwargs)\u001B[0m\n\u001B[1;32m     55\u001B[0m \u001B[38;5;66;03m# By using the 'with' statement we are sure the session is closed, thus we\u001B[39;00m\n\u001B[1;32m     56\u001B[0m \u001B[38;5;66;03m# avoid leaving sockets open which can trigger a ResourceWarning in some\u001B[39;00m\n\u001B[1;32m     57\u001B[0m \u001B[38;5;66;03m# cases, and look like a memory leak in others.\u001B[39;00m\n\u001B[1;32m     58\u001B[0m \u001B[38;5;28;01mwith\u001B[39;00m sessions\u001B[38;5;241m.\u001B[39mSession() \u001B[38;5;28;01mas\u001B[39;00m session:\n\u001B[0;32m---> 59\u001B[0m     \u001B[38;5;28;01mreturn\u001B[39;00m \u001B[43msession\u001B[49m\u001B[38;5;241;43m.\u001B[39;49m\u001B[43mrequest\u001B[49m\u001B[43m(\u001B[49m\u001B[43mmethod\u001B[49m\u001B[38;5;241;43m=\u001B[39;49m\u001B[43mmethod\u001B[49m\u001B[43m,\u001B[49m\u001B[43m \u001B[49m\u001B[43murl\u001B[49m\u001B[38;5;241;43m=\u001B[39;49m\u001B[43murl\u001B[49m\u001B[43m,\u001B[49m\u001B[43m \u001B[49m\u001B[38;5;241;43m*\u001B[39;49m\u001B[38;5;241;43m*\u001B[39;49m\u001B[43mkwargs\u001B[49m\u001B[43m)\u001B[49m\n",
      "File \u001B[0;32m~/Documents/TU Dortmund/Diachronic Embeddings/venv/lib/python3.9/site-packages/requests/sessions.py:587\u001B[0m, in \u001B[0;36mSession.request\u001B[0;34m(self, method, url, params, data, headers, cookies, files, auth, timeout, allow_redirects, proxies, hooks, stream, verify, cert, json)\u001B[0m\n\u001B[1;32m    582\u001B[0m send_kwargs \u001B[38;5;241m=\u001B[39m {\n\u001B[1;32m    583\u001B[0m     \u001B[38;5;124m\"\u001B[39m\u001B[38;5;124mtimeout\u001B[39m\u001B[38;5;124m\"\u001B[39m: timeout,\n\u001B[1;32m    584\u001B[0m     \u001B[38;5;124m\"\u001B[39m\u001B[38;5;124mallow_redirects\u001B[39m\u001B[38;5;124m\"\u001B[39m: allow_redirects,\n\u001B[1;32m    585\u001B[0m }\n\u001B[1;32m    586\u001B[0m send_kwargs\u001B[38;5;241m.\u001B[39mupdate(settings)\n\u001B[0;32m--> 587\u001B[0m resp \u001B[38;5;241m=\u001B[39m \u001B[38;5;28;43mself\u001B[39;49m\u001B[38;5;241;43m.\u001B[39;49m\u001B[43msend\u001B[49m\u001B[43m(\u001B[49m\u001B[43mprep\u001B[49m\u001B[43m,\u001B[49m\u001B[43m \u001B[49m\u001B[38;5;241;43m*\u001B[39;49m\u001B[38;5;241;43m*\u001B[39;49m\u001B[43msend_kwargs\u001B[49m\u001B[43m)\u001B[49m\n\u001B[1;32m    589\u001B[0m \u001B[38;5;28;01mreturn\u001B[39;00m resp\n",
      "File \u001B[0;32m~/Documents/TU Dortmund/Diachronic Embeddings/venv/lib/python3.9/site-packages/requests/sessions.py:745\u001B[0m, in \u001B[0;36mSession.send\u001B[0;34m(self, request, **kwargs)\u001B[0m\n\u001B[1;32m    742\u001B[0m         \u001B[38;5;28;01mpass\u001B[39;00m\n\u001B[1;32m    744\u001B[0m \u001B[38;5;28;01mif\u001B[39;00m \u001B[38;5;129;01mnot\u001B[39;00m stream:\n\u001B[0;32m--> 745\u001B[0m     \u001B[43mr\u001B[49m\u001B[38;5;241;43m.\u001B[39;49m\u001B[43mcontent\u001B[49m\n\u001B[1;32m    747\u001B[0m \u001B[38;5;28;01mreturn\u001B[39;00m r\n",
      "File \u001B[0;32m~/Documents/TU Dortmund/Diachronic Embeddings/venv/lib/python3.9/site-packages/requests/models.py:899\u001B[0m, in \u001B[0;36mResponse.content\u001B[0;34m(self)\u001B[0m\n\u001B[1;32m    897\u001B[0m         \u001B[38;5;28mself\u001B[39m\u001B[38;5;241m.\u001B[39m_content \u001B[38;5;241m=\u001B[39m \u001B[38;5;28;01mNone\u001B[39;00m\n\u001B[1;32m    898\u001B[0m     \u001B[38;5;28;01melse\u001B[39;00m:\n\u001B[0;32m--> 899\u001B[0m         \u001B[38;5;28mself\u001B[39m\u001B[38;5;241m.\u001B[39m_content \u001B[38;5;241m=\u001B[39m \u001B[38;5;124;43mb\u001B[39;49m\u001B[38;5;124;43m\"\u001B[39;49m\u001B[38;5;124;43m\"\u001B[39;49m\u001B[38;5;241;43m.\u001B[39;49m\u001B[43mjoin\u001B[49m\u001B[43m(\u001B[49m\u001B[38;5;28;43mself\u001B[39;49m\u001B[38;5;241;43m.\u001B[39;49m\u001B[43miter_content\u001B[49m\u001B[43m(\u001B[49m\u001B[43mCONTENT_CHUNK_SIZE\u001B[49m\u001B[43m)\u001B[49m\u001B[43m)\u001B[49m \u001B[38;5;129;01mor\u001B[39;00m \u001B[38;5;124mb\u001B[39m\u001B[38;5;124m\"\u001B[39m\u001B[38;5;124m\"\u001B[39m\n\u001B[1;32m    901\u001B[0m \u001B[38;5;28mself\u001B[39m\u001B[38;5;241m.\u001B[39m_content_consumed \u001B[38;5;241m=\u001B[39m \u001B[38;5;28;01mTrue\u001B[39;00m\n\u001B[1;32m    902\u001B[0m \u001B[38;5;66;03m# don't need to release the connection; that's been handled by urllib3\u001B[39;00m\n\u001B[1;32m    903\u001B[0m \u001B[38;5;66;03m# since we exhausted the data.\u001B[39;00m\n",
      "File \u001B[0;32m~/Documents/TU Dortmund/Diachronic Embeddings/venv/lib/python3.9/site-packages/requests/models.py:816\u001B[0m, in \u001B[0;36mResponse.iter_content.<locals>.generate\u001B[0;34m()\u001B[0m\n\u001B[1;32m    814\u001B[0m \u001B[38;5;28;01mif\u001B[39;00m \u001B[38;5;28mhasattr\u001B[39m(\u001B[38;5;28mself\u001B[39m\u001B[38;5;241m.\u001B[39mraw, \u001B[38;5;124m\"\u001B[39m\u001B[38;5;124mstream\u001B[39m\u001B[38;5;124m\"\u001B[39m):\n\u001B[1;32m    815\u001B[0m     \u001B[38;5;28;01mtry\u001B[39;00m:\n\u001B[0;32m--> 816\u001B[0m         \u001B[38;5;28;01myield from\u001B[39;00m \u001B[38;5;28mself\u001B[39m\u001B[38;5;241m.\u001B[39mraw\u001B[38;5;241m.\u001B[39mstream(chunk_size, decode_content\u001B[38;5;241m=\u001B[39m\u001B[38;5;28;01mTrue\u001B[39;00m)\n\u001B[1;32m    817\u001B[0m     \u001B[38;5;28;01mexcept\u001B[39;00m ProtocolError \u001B[38;5;28;01mas\u001B[39;00m e:\n\u001B[1;32m    818\u001B[0m         \u001B[38;5;28;01mraise\u001B[39;00m ChunkedEncodingError(e)\n",
      "File \u001B[0;32m~/Documents/TU Dortmund/Diachronic Embeddings/venv/lib/python3.9/site-packages/urllib3/response.py:628\u001B[0m, in \u001B[0;36mHTTPResponse.stream\u001B[0;34m(self, amt, decode_content)\u001B[0m\n\u001B[1;32m    626\u001B[0m \u001B[38;5;28;01melse\u001B[39;00m:\n\u001B[1;32m    627\u001B[0m     \u001B[38;5;28;01mwhile\u001B[39;00m \u001B[38;5;129;01mnot\u001B[39;00m is_fp_closed(\u001B[38;5;28mself\u001B[39m\u001B[38;5;241m.\u001B[39m_fp):\n\u001B[0;32m--> 628\u001B[0m         data \u001B[38;5;241m=\u001B[39m \u001B[38;5;28;43mself\u001B[39;49m\u001B[38;5;241;43m.\u001B[39;49m\u001B[43mread\u001B[49m\u001B[43m(\u001B[49m\u001B[43mamt\u001B[49m\u001B[38;5;241;43m=\u001B[39;49m\u001B[43mamt\u001B[49m\u001B[43m,\u001B[49m\u001B[43m \u001B[49m\u001B[43mdecode_content\u001B[49m\u001B[38;5;241;43m=\u001B[39;49m\u001B[43mdecode_content\u001B[49m\u001B[43m)\u001B[49m\n\u001B[1;32m    630\u001B[0m         \u001B[38;5;28;01mif\u001B[39;00m data:\n\u001B[1;32m    631\u001B[0m             \u001B[38;5;28;01myield\u001B[39;00m data\n",
      "File \u001B[0;32m~/Documents/TU Dortmund/Diachronic Embeddings/venv/lib/python3.9/site-packages/urllib3/response.py:567\u001B[0m, in \u001B[0;36mHTTPResponse.read\u001B[0;34m(self, amt, decode_content, cache_content)\u001B[0m\n\u001B[1;32m    564\u001B[0m fp_closed \u001B[38;5;241m=\u001B[39m \u001B[38;5;28mgetattr\u001B[39m(\u001B[38;5;28mself\u001B[39m\u001B[38;5;241m.\u001B[39m_fp, \u001B[38;5;124m\"\u001B[39m\u001B[38;5;124mclosed\u001B[39m\u001B[38;5;124m\"\u001B[39m, \u001B[38;5;28;01mFalse\u001B[39;00m)\n\u001B[1;32m    566\u001B[0m \u001B[38;5;28;01mwith\u001B[39;00m \u001B[38;5;28mself\u001B[39m\u001B[38;5;241m.\u001B[39m_error_catcher():\n\u001B[0;32m--> 567\u001B[0m     data \u001B[38;5;241m=\u001B[39m \u001B[38;5;28;43mself\u001B[39;49m\u001B[38;5;241;43m.\u001B[39;49m\u001B[43m_fp_read\u001B[49m\u001B[43m(\u001B[49m\u001B[43mamt\u001B[49m\u001B[43m)\u001B[49m \u001B[38;5;28;01mif\u001B[39;00m \u001B[38;5;129;01mnot\u001B[39;00m fp_closed \u001B[38;5;28;01melse\u001B[39;00m \u001B[38;5;124mb\u001B[39m\u001B[38;5;124m\"\u001B[39m\u001B[38;5;124m\"\u001B[39m\n\u001B[1;32m    568\u001B[0m     \u001B[38;5;28;01mif\u001B[39;00m amt \u001B[38;5;129;01mis\u001B[39;00m \u001B[38;5;28;01mNone\u001B[39;00m:\n\u001B[1;32m    569\u001B[0m         flush_decoder \u001B[38;5;241m=\u001B[39m \u001B[38;5;28;01mTrue\u001B[39;00m\n",
      "File \u001B[0;32m~/Documents/TU Dortmund/Diachronic Embeddings/venv/lib/python3.9/site-packages/urllib3/response.py:533\u001B[0m, in \u001B[0;36mHTTPResponse._fp_read\u001B[0;34m(self, amt)\u001B[0m\n\u001B[1;32m    530\u001B[0m     \u001B[38;5;28;01mreturn\u001B[39;00m buffer\u001B[38;5;241m.\u001B[39mgetvalue()\n\u001B[1;32m    531\u001B[0m \u001B[38;5;28;01melse\u001B[39;00m:\n\u001B[1;32m    532\u001B[0m     \u001B[38;5;66;03m# StringIO doesn't like amt=None\u001B[39;00m\n\u001B[0;32m--> 533\u001B[0m     \u001B[38;5;28;01mreturn\u001B[39;00m \u001B[38;5;28;43mself\u001B[39;49m\u001B[38;5;241;43m.\u001B[39;49m\u001B[43m_fp\u001B[49m\u001B[38;5;241;43m.\u001B[39;49m\u001B[43mread\u001B[49m\u001B[43m(\u001B[49m\u001B[43mamt\u001B[49m\u001B[43m)\u001B[49m \u001B[38;5;28;01mif\u001B[39;00m amt \u001B[38;5;129;01mis\u001B[39;00m \u001B[38;5;129;01mnot\u001B[39;00m \u001B[38;5;28;01mNone\u001B[39;00m \u001B[38;5;28;01melse\u001B[39;00m \u001B[38;5;28mself\u001B[39m\u001B[38;5;241m.\u001B[39m_fp\u001B[38;5;241m.\u001B[39mread()\n",
      "File \u001B[0;32m/Library/Developer/CommandLineTools/Library/Frameworks/Python3.framework/Versions/3.9/lib/python3.9/http/client.py:459\u001B[0m, in \u001B[0;36mHTTPResponse.read\u001B[0;34m(self, amt)\u001B[0m\n\u001B[1;32m    456\u001B[0m \u001B[38;5;28;01mif\u001B[39;00m amt \u001B[38;5;129;01mis\u001B[39;00m \u001B[38;5;129;01mnot\u001B[39;00m \u001B[38;5;28;01mNone\u001B[39;00m:\n\u001B[1;32m    457\u001B[0m     \u001B[38;5;66;03m# Amount is given, implement using readinto\u001B[39;00m\n\u001B[1;32m    458\u001B[0m     b \u001B[38;5;241m=\u001B[39m \u001B[38;5;28mbytearray\u001B[39m(amt)\n\u001B[0;32m--> 459\u001B[0m     n \u001B[38;5;241m=\u001B[39m \u001B[38;5;28;43mself\u001B[39;49m\u001B[38;5;241;43m.\u001B[39;49m\u001B[43mreadinto\u001B[49m\u001B[43m(\u001B[49m\u001B[43mb\u001B[49m\u001B[43m)\u001B[49m\n\u001B[1;32m    460\u001B[0m     \u001B[38;5;28;01mreturn\u001B[39;00m \u001B[38;5;28mmemoryview\u001B[39m(b)[:n]\u001B[38;5;241m.\u001B[39mtobytes()\n\u001B[1;32m    461\u001B[0m \u001B[38;5;28;01melse\u001B[39;00m:\n\u001B[1;32m    462\u001B[0m     \u001B[38;5;66;03m# Amount is not given (unbounded read) so we must check self.length\u001B[39;00m\n\u001B[1;32m    463\u001B[0m     \u001B[38;5;66;03m# and self.chunked\u001B[39;00m\n",
      "File \u001B[0;32m/Library/Developer/CommandLineTools/Library/Frameworks/Python3.framework/Versions/3.9/lib/python3.9/http/client.py:503\u001B[0m, in \u001B[0;36mHTTPResponse.readinto\u001B[0;34m(self, b)\u001B[0m\n\u001B[1;32m    498\u001B[0m         b \u001B[38;5;241m=\u001B[39m \u001B[38;5;28mmemoryview\u001B[39m(b)[\u001B[38;5;241m0\u001B[39m:\u001B[38;5;28mself\u001B[39m\u001B[38;5;241m.\u001B[39mlength]\n\u001B[1;32m    500\u001B[0m \u001B[38;5;66;03m# we do not use _safe_read() here because this may be a .will_close\u001B[39;00m\n\u001B[1;32m    501\u001B[0m \u001B[38;5;66;03m# connection, and the user is reading more bytes than will be provided\u001B[39;00m\n\u001B[1;32m    502\u001B[0m \u001B[38;5;66;03m# (for example, reading in 1k chunks)\u001B[39;00m\n\u001B[0;32m--> 503\u001B[0m n \u001B[38;5;241m=\u001B[39m \u001B[38;5;28;43mself\u001B[39;49m\u001B[38;5;241;43m.\u001B[39;49m\u001B[43mfp\u001B[49m\u001B[38;5;241;43m.\u001B[39;49m\u001B[43mreadinto\u001B[49m\u001B[43m(\u001B[49m\u001B[43mb\u001B[49m\u001B[43m)\u001B[49m\n\u001B[1;32m    504\u001B[0m \u001B[38;5;28;01mif\u001B[39;00m \u001B[38;5;129;01mnot\u001B[39;00m n \u001B[38;5;129;01mand\u001B[39;00m b:\n\u001B[1;32m    505\u001B[0m     \u001B[38;5;66;03m# Ideally, we would raise IncompleteRead if the content-length\u001B[39;00m\n\u001B[1;32m    506\u001B[0m     \u001B[38;5;66;03m# wasn't satisfied, but it might break compatibility.\u001B[39;00m\n\u001B[1;32m    507\u001B[0m     \u001B[38;5;28mself\u001B[39m\u001B[38;5;241m.\u001B[39m_close_conn()\n",
      "File \u001B[0;32m/Library/Developer/CommandLineTools/Library/Frameworks/Python3.framework/Versions/3.9/lib/python3.9/socket.py:704\u001B[0m, in \u001B[0;36mSocketIO.readinto\u001B[0;34m(self, b)\u001B[0m\n\u001B[1;32m    702\u001B[0m \u001B[38;5;28;01mwhile\u001B[39;00m \u001B[38;5;28;01mTrue\u001B[39;00m:\n\u001B[1;32m    703\u001B[0m     \u001B[38;5;28;01mtry\u001B[39;00m:\n\u001B[0;32m--> 704\u001B[0m         \u001B[38;5;28;01mreturn\u001B[39;00m \u001B[38;5;28;43mself\u001B[39;49m\u001B[38;5;241;43m.\u001B[39;49m\u001B[43m_sock\u001B[49m\u001B[38;5;241;43m.\u001B[39;49m\u001B[43mrecv_into\u001B[49m\u001B[43m(\u001B[49m\u001B[43mb\u001B[49m\u001B[43m)\u001B[49m\n\u001B[1;32m    705\u001B[0m     \u001B[38;5;28;01mexcept\u001B[39;00m timeout:\n\u001B[1;32m    706\u001B[0m         \u001B[38;5;28mself\u001B[39m\u001B[38;5;241m.\u001B[39m_timeout_occurred \u001B[38;5;241m=\u001B[39m \u001B[38;5;28;01mTrue\u001B[39;00m\n",
      "File \u001B[0;32m/Library/Developer/CommandLineTools/Library/Frameworks/Python3.framework/Versions/3.9/lib/python3.9/ssl.py:1241\u001B[0m, in \u001B[0;36mSSLSocket.recv_into\u001B[0;34m(self, buffer, nbytes, flags)\u001B[0m\n\u001B[1;32m   1237\u001B[0m     \u001B[38;5;28;01mif\u001B[39;00m flags \u001B[38;5;241m!=\u001B[39m \u001B[38;5;241m0\u001B[39m:\n\u001B[1;32m   1238\u001B[0m         \u001B[38;5;28;01mraise\u001B[39;00m \u001B[38;5;167;01mValueError\u001B[39;00m(\n\u001B[1;32m   1239\u001B[0m           \u001B[38;5;124m\"\u001B[39m\u001B[38;5;124mnon-zero flags not allowed in calls to recv_into() on \u001B[39m\u001B[38;5;132;01m%s\u001B[39;00m\u001B[38;5;124m\"\u001B[39m \u001B[38;5;241m%\u001B[39m\n\u001B[1;32m   1240\u001B[0m           \u001B[38;5;28mself\u001B[39m\u001B[38;5;241m.\u001B[39m\u001B[38;5;18m__class__\u001B[39m)\n\u001B[0;32m-> 1241\u001B[0m     \u001B[38;5;28;01mreturn\u001B[39;00m \u001B[38;5;28;43mself\u001B[39;49m\u001B[38;5;241;43m.\u001B[39;49m\u001B[43mread\u001B[49m\u001B[43m(\u001B[49m\u001B[43mnbytes\u001B[49m\u001B[43m,\u001B[49m\u001B[43m \u001B[49m\u001B[43mbuffer\u001B[49m\u001B[43m)\u001B[49m\n\u001B[1;32m   1242\u001B[0m \u001B[38;5;28;01melse\u001B[39;00m:\n\u001B[1;32m   1243\u001B[0m     \u001B[38;5;28;01mreturn\u001B[39;00m \u001B[38;5;28msuper\u001B[39m()\u001B[38;5;241m.\u001B[39mrecv_into(buffer, nbytes, flags)\n",
      "File \u001B[0;32m/Library/Developer/CommandLineTools/Library/Frameworks/Python3.framework/Versions/3.9/lib/python3.9/ssl.py:1099\u001B[0m, in \u001B[0;36mSSLSocket.read\u001B[0;34m(self, len, buffer)\u001B[0m\n\u001B[1;32m   1097\u001B[0m \u001B[38;5;28;01mtry\u001B[39;00m:\n\u001B[1;32m   1098\u001B[0m     \u001B[38;5;28;01mif\u001B[39;00m buffer \u001B[38;5;129;01mis\u001B[39;00m \u001B[38;5;129;01mnot\u001B[39;00m \u001B[38;5;28;01mNone\u001B[39;00m:\n\u001B[0;32m-> 1099\u001B[0m         \u001B[38;5;28;01mreturn\u001B[39;00m \u001B[38;5;28;43mself\u001B[39;49m\u001B[38;5;241;43m.\u001B[39;49m\u001B[43m_sslobj\u001B[49m\u001B[38;5;241;43m.\u001B[39;49m\u001B[43mread\u001B[49m\u001B[43m(\u001B[49m\u001B[38;5;28;43mlen\u001B[39;49m\u001B[43m,\u001B[49m\u001B[43m \u001B[49m\u001B[43mbuffer\u001B[49m\u001B[43m)\u001B[49m\n\u001B[1;32m   1100\u001B[0m     \u001B[38;5;28;01melse\u001B[39;00m:\n\u001B[1;32m   1101\u001B[0m         \u001B[38;5;28;01mreturn\u001B[39;00m \u001B[38;5;28mself\u001B[39m\u001B[38;5;241m.\u001B[39m_sslobj\u001B[38;5;241m.\u001B[39mread(\u001B[38;5;28mlen\u001B[39m)\n",
      "\u001B[0;31mKeyboardInterrupt\u001B[0m: "
     ]
    }
   ],
   "source": [
    "## Read words and load into json file:\n",
    "TARGET_WORDS_PATH = '../data/target_words/target.txt'\n",
    "with open(TARGET_WORDS_PATH) as f:\n",
    "    full_text = f.read()\n",
    "\n",
    "all_words = []\n",
    "for word in full_text.split('\\n'):\n",
    "    try:\n",
    "        out_dict = run_words(word)\n",
    "        all_words.append(out_dict)\n",
    "    except ValueError:\n",
    "        continue\n",
    "\n",
    "all_words"
   ],
   "metadata": {
    "collapsed": false
   }
  },
  {
   "cell_type": "code",
   "execution_count": 169,
   "outputs": [],
   "source": [
    "def look_for_poly():\n",
    "    for word in all_words:\n",
    "        if len(word) > 4:\n",
    "            yield word[0]['word']\n",
    "\n",
    "# with open('../News-data-project/target words/senses_oxford_api.txt', 'w') as f:\n",
    "#     json.dump(list(look_for_poly()), f, indent=4)"
   ],
   "metadata": {
    "collapsed": false
   }
  },
  {
   "cell_type": "code",
   "execution_count": 172,
   "outputs": [
    {
     "data": {
      "text/plain": "['state', 'right', 'around', 'black', 'force', 'interest', 'support', 'charge']"
     },
     "execution_count": 172,
     "metadata": {},
     "output_type": "execute_result"
    }
   ],
   "source": [
    "list(look_for_poly())"
   ],
   "metadata": {
    "collapsed": false
   }
  },
  {
   "cell_type": "code",
   "execution_count": 105,
   "outputs": [
    {
     "name": "stdout",
     "output_type": "stream",
     "text": [
      "[('That', 'DT'), ('year', 'NN'), ('he', 'PRP'), ('moved', 'VBD'), ('to', 'TO'), ('London', 'NNP'), ('but', 'CC'), ('his', 'PRP$'), ('love', 'NN'), ('for', 'IN'), ('Wales', 'NNP'), ('was', 'VBD'), ('strong', 'JJ'), ('and', 'CC'), ('he', 'PRP'), ('eventually', 'RB'), ('settled', 'VBD'), ('permanently', 'RB'), ('there', 'RB'), ('.', '.')]\n",
      "\n",
      "\n",
      "[('His', 'PRP$'), ('love', 'NN'), ('for', 'IN'), ('children', 'NNS'), ('and', 'CC'), ('affection', 'NN'), ('for', 'IN'), ('the', 'DT'), ('sick', 'NN'), ('have', 'VBP'), ('endeared', 'VBN'), ('him', 'PRP'), ('to', 'TO'), ('all', 'DT'), ('.', '.')]\n",
      "\n",
      "\n",
      "[('My', 'PRP$'), ('brother', 'NN'), (',', ','), ('and', 'CC'), ('his', 'PRP$'), ('real', 'JJ'), (',', ','), ('strong', 'JJ'), ('love', 'NN'), ('for', 'IN'), ('me', 'PRP'), ('that', 'DT'), ('was', 'VBD'), ('able', 'JJ'), ('to', 'TO'), ('pull', 'VB'), ('me', 'PRP'), ('back', 'RB'), ('into', 'IN'), ('the', 'DT'), ('world', 'NN'), ('I', 'PRP'), ('know', 'VBP'), ('.', '.')]\n",
      "\n",
      "\n",
      "[('Each', 'DT'), ('one', 'CD'), ('is', 'VBZ'), ('very', 'RB'), ('powerful', 'JJ'), (',', ','), ('but', 'CC'), ('none', 'NN'), ('of', 'IN'), ('them', 'PRP'), ('is', 'VBZ'), ('as', 'RB'), ('strong', 'JJ'), ('as', 'IN'), ('your', 'PRP$'), ('love', 'NN'), ('for', 'IN'), ('your', 'PRP$'), ('daughter', 'NN'), ('.', '.')]\n",
      "\n",
      "\n",
      "[('There', 'EX'), ('is', 'VBZ'), ('no', 'DT'), ('romance', 'NN'), ('involved', 'VBN'), (',', ','), ('still', 'RB'), ('the', 'DT'), ('affection', 'NN'), ('and', 'CC'), ('love', 'VB'), ('for', 'IN'), ('a', 'DT'), ('friend', 'NN'), ('is', 'VBZ'), ('implied', 'VBN'), ('and', 'CC'), ('understood', 'NN'), ('.', '.')]\n",
      "\n",
      "\n",
      "[('Yet', 'RB'), ('they', 'PRP'), ('still', 'RB'), ('retain', 'VBP'), ('a', 'DT'), ('strong', 'JJ'), ('love', 'NN'), ('for', 'IN'), ('their', 'PRP$'), ('mother', 'NN'), ('land', 'NN'), (',', ','), ('its', 'PRP$'), ('culture', 'NN'), ('and', 'CC'), ('its', 'PRP$'), ('traditions', 'NNS'), ('.', '.')]\n",
      "\n",
      "\n",
      "[('The', 'DT'), ('long', 'JJ'), ('periods', 'NNS'), ('of', 'IN'), ('separation', 'NN'), ('never', 'RB'), ('affected', 'VBD'), ('her', 'PRP'), ('love', 'NN'), ('for', 'IN'), ('her', 'PRP$'), ('mother', 'NN'), ('.', '.')]\n",
      "\n",
      "\n",
      "[('He', 'PRP'), ('was', 'VBD'), ('acting', 'VBG'), ('on', 'IN'), ('his', 'PRP$'), ('love', 'NN'), ('for', 'IN'), ('her', 'PRP$'), ('and', 'CC'), ('his', 'PRP$'), ('strong', 'JJ'), ('need', 'NN'), ('to', 'TO'), ('make', 'VB'), ('sure', 'JJ'), ('that', 'IN'), ('she', 'PRP'), ('and', 'CC'), ('their', 'PRP$'), ('baby', 'NN'), ('were', 'VBD'), ('being', 'VBG'), ('taken', 'VBN'), ('care', 'NN'), ('of', 'IN'), ('.', '.')]\n",
      "\n",
      "\n",
      "[('But', 'CC'), ('the', 'DT'), ('biggest', 'JJS'), ('thing', 'NN'), ('in', 'IN'), ('Amanda', 'NNP'), (\"'s\", 'POS'), ('life', 'NN'), ('was', 'VBD'), ('children', 'NNS'), (',', ','), ('her', 'PRP$'), ('incredible', 'JJ'), ('love', 'NN'), ('for', 'IN'), ('them', 'PRP'), ('and', 'CC'), ('devotion', 'NN'), ('to', 'TO'), ('them', 'PRP'), ('.', '.')]\n",
      "\n",
      "\n",
      "[('The', 'DT'), ('conscientious', 'JJ'), ('objectors', 'NNS'), ('have', 'VBP'), ('nothing', 'NN'), ('but', 'CC'), ('admiration', 'NN'), (',', ','), ('pride', 'NN'), ('and', 'CC'), ('love', 'VB'), ('for', 'IN'), ('their', 'PRP$'), ('homeland', 'NN'), ('.', '.')]\n",
      "\n",
      "\n",
      "[('In', 'IN'), ('my', 'PRP$'), ('book', 'NN'), (',', ','), ('a', 'DT'), ('mother', 'NN'), (\"'s\", 'POS'), ('love', 'NN'), ('for', 'IN'), ('her', 'PRP$'), ('child', 'NN'), ('is', 'VBZ'), ('the', 'DT'), ('highest', 'JJS'), ('form', 'NN'), ('of', 'IN'), ('human', 'JJ'), ('love', 'NN'), ('.', '.')]\n",
      "\n",
      "\n",
      "[('In', 'IN'), ('short', 'JJ'), (',', ','), ('how', 'WRB'), ('can', 'MD'), ('there', 'RB'), ('be', 'VB'), ('love', 'JJR'), ('for', 'IN'), ('the', 'DT'), ('country', 'NN'), ('without', 'IN'), ('love', 'NN'), ('for', 'IN'), ('the', 'DT'), ('people', 'NNS'), ('?', '.')]\n",
      "\n",
      "\n",
      "[('His', 'PRP$'), ('devotion', 'NN'), ('to', 'TO'), ('his', 'PRP$'), ('work', 'NN'), ('and', 'CC'), ('his', 'PRP$'), ('love', 'NN'), ('for', 'IN'), ('children', 'NNS'), ('made', 'VBD'), ('him', 'PRP'), ('popular', 'JJ'), ('with', 'IN'), ('both', 'DT'), ('pupils', 'NNS'), ('and', 'CC'), ('parents', 'NNS'), ('.', '.')]\n",
      "\n",
      "\n",
      "[('It', 'PRP'), ('is', 'VBZ'), ('a', 'DT'), ('moving', 'VBG'), ('account', 'NN'), ('of', 'IN'), ('his', 'PRP$'), ('time', 'NN'), ('in', 'IN'), ('Chile', 'NNP'), (',', ','), ('his', 'PRP$'), ('love', 'NN'), ('for', 'IN'), ('the', 'DT'), ('people', 'NNS'), ('and', 'CC'), ('their', 'PRP$'), ('love', 'NN'), ('for', 'IN'), ('him', 'PRP'), ('.', '.')]\n",
      "\n",
      "\n",
      "[('If', 'IN'), ('there', 'EX'), ('is', 'VBZ'), ('one', 'CD'), ('thing', 'NN'), ('to', 'TO'), ('beat', 'VB'), ('crime', 'NN'), ('it', 'PRP'), ('is', 'VBZ'), ('love', 'RBR'), (',', ','), ('love', 'VB'), ('for', 'IN'), ('our', 'PRP$'), ('children', 'NNS'), (',', ','), ('love', 'NN'), ('for', 'IN'), ('our', 'PRP$'), ('family', 'NN'), ('and', 'CC'), ('friends', 'NNS'), (',', ','), ('and', 'CC'), ('love', 'VB'), ('for', 'IN'), ('all', 'DT'), ('!', '.')]\n",
      "\n",
      "\n",
      "[('He', 'PRP'), ('has', 'VBZ'), ('expressed', 'VBN'), ('his', 'PRP$'), ('love', 'NN'), ('for', 'IN'), ('his', 'PRP$'), ('mother', 'NN'), ('in', 'IN'), ('the', 'DT'), ('most', 'RBS'), ('tender', 'NN'), (',', ','), ('touching', 'VBG'), ('terms', 'NNS'), ('.', '.')]\n",
      "\n",
      "\n",
      "[('Is', 'VBZ'), ('it', 'PRP'), ('a', 'DT'), ('story', 'NN'), ('about', 'IN'), ('love', 'NN'), ('for', 'IN'), ('your', 'PRP$'), ('family', 'NN'), (',', ','), ('love', 'VB'), ('for', 'IN'), ('your', 'PRP$'), ('country', 'NN'), (',', ','), ('a', 'DT'), ('revolution', 'NN'), ('.', '.')]\n",
      "\n",
      "\n",
      "[('I', 'PRP'), ('guess', 'VBP'), ('Michael', 'NNP'), ('and', 'CC'), ('I', 'PRP'), ('were', 'VBD'), ('trying', 'VBG'), ('to', 'TO'), ('find', 'VB'), ('a', 'DT'), ('way', 'NN'), ('to', 'TO'), ('express', 'VB'), ('our', 'PRP$'), ('brotherly', 'JJ'), ('love', 'NN'), ('for', 'IN'), ('one', 'CD'), ('another', 'DT'), ('.', '.')]\n",
      "\n",
      "\n",
      "[('Brotherly', 'NNP'), ('love', 'NN'), ('comes', 'VBZ'), ('at', 'IN'), ('a', 'DT'), ('price', 'NN'), (',', ','), ('it', 'PRP'), ('seems', 'VBZ'), ('.', '.')]\n",
      "\n",
      "\n",
      "[('``', '``'), ('I', 'PRP'), (',', ','), ('too', 'RB'), (',', ','), ('have', 'VBP'), ('known', 'VBN'), ('a', 'DT'), ('mother', 'NN'), (\"'s\", 'POS'), ('love', 'NN'), ('for', 'IN'), ('her', 'PRP$'), ('child', 'NN'), ('.', '.')]\n",
      "\n",
      "\n",
      "[('babies', 'NNS'), ('fill', 'VBP'), ('parents', 'NNS'), ('with', 'IN'), ('feelings', 'NNS'), ('of', 'IN'), ('love', 'NN')]\n",
      "\n",
      "\n",
      "[('their', 'PRP$'), ('love', 'NN'), ('for', 'IN'), ('their', 'PRP$'), ('country', 'NN')]\n",
      "\n",
      "\n",
      "[('Willie', 'NNP'), ('was', 'VBD'), ('the', 'DT'), ('local', 'JJ'), ('historian', 'NN'), (',', ','), ('a', 'DT'), ('very', 'RB'), ('popular', 'JJ'), ('man', 'NN'), ('who', 'WP'), ('had', 'VBD'), ('a', 'DT'), ('great', 'JJ'), ('interest', 'NN'), ('and', 'CC'), ('love', 'NN'), ('of', 'IN'), ('his', 'PRP$'), ('locality', 'NN'), ('.', '.')]\n",
      "\n",
      "\n",
      "[('I', 'PRP'), ('had', 'VBD'), ('a', 'DT'), ('great', 'JJ'), ('interest', 'NN'), ('and', 'CC'), ('love', 'NN'), ('of', 'IN'), ('music', 'NN'), (',', ','), ('and', 'CC'), ('music', 'NN'), ('was', 'VBD'), ('always', 'RB'), ('a', 'DT'), ('part', 'NN'), ('of', 'IN'), ('the', 'DT'), ('family', 'NN'), (',', ','), ('but', 'CC'), ('no', 'DT'), ('one', 'NN'), ('had', 'VBD'), ('ever', 'RB'), ('pursued', 'VBN'), ('it', 'PRP'), ('.', '.')]\n",
      "\n",
      "\n",
      "[('You', 'PRP'), (\"'ll\", 'MD'), ('need', 'VB'), ('to', 'TO'), ('read', 'VB'), ('this', 'DT'), ('book', 'NN'), ('to', 'TO'), ('taste', 'VB'), ('his', 'PRP$'), ('love', 'NN'), ('of', 'IN'), ('the', 'DT'), ('hurley', 'NN'), (',', ','), ('the', 'DT'), ('alley', 'NN'), ('and', 'CC'), ('hurling', 'VBG'), ('itself', 'PRP'), ('.', '.')]\n",
      "\n",
      "\n",
      "[('But', 'CC'), ('he', 'PRP'), ('is', 'VBZ'), ('one', 'CD'), ('of', 'IN'), ('life', 'NN'), (\"'s\", 'POS'), ('great', 'JJ'), ('enthusiasts', 'NNS'), ('and', 'CC'), ('his', 'PRP$'), ('love', 'NN'), ('of', 'IN'), ('his', 'PRP$'), ('subject', 'NN'), ('is', 'VBZ'), ('getting', 'VBG'), ('quite', 'RB'), ('infectious', 'JJ'), ('.', '.')]\n",
      "\n",
      "\n",
      "[('Ian', 'NNP'), ('drinks', 'VBZ'), ('his', 'PRP$'), ('coffee', 'NN'), ('and', 'CC'), ('talks', 'NNS'), ('enthusiastically', 'RB'), ('about', 'IN'), ('his', 'PRP$'), ('love', 'NN'), ('of', 'IN'), ('singing', 'NN'), ('.', '.')]\n",
      "\n",
      "\n",
      "[('She', 'PRP'), ('dwells', 'VBZ'), ('on', 'IN'), ('her', 'PRP$'), ('charming', 'NN'), ('manner', 'NN'), (',', ','), ('love', 'NN'), ('of', 'IN'), ('clothes', 'NNS'), (',', ','), ('loyalty', 'NN'), ('to', 'TO'), ('her', 'PRP$'), ('brother', 'NN'), ('and', 'CC'), (',', ','), ('in', 'IN'), ('later', 'JJ'), ('life', 'NN'), (',', ','), ('to', 'TO'), ('her', 'PRP$'), ('adoptive', 'JJ'), ('city', 'NN'), ('.', '.')]\n",
      "\n",
      "\n",
      "[('And', 'CC'), ('these', 'DT'), ('days', 'NNS'), ('he', 'PRP'), ('loves', 'VBZ'), ('nothing', 'NN'), ('more', 'JJR'), ('than', 'IN'), ('combining', 'VBG'), ('his', 'PRP$'), ('love', 'NN'), ('of', 'IN'), ('running', 'VBG'), ('with', 'IN'), ('his', 'PRP$'), ('passion', 'NN'), ('for', 'IN'), ('travel', 'NN'), ('.', '.')]\n",
      "\n",
      "\n",
      "[('So', 'RB'), ('passionate', 'NN'), ('is', 'VBZ'), ('my', 'PRP$'), ('love', 'NN'), ('of', 'IN'), ('opera', 'NN'), (',', ','), ('that', 'IN'), ('I', 'PRP'), ('crave', 'VBP'), ('any', 'DT'), ('activity', 'NN'), ('that', 'IN'), ('extends', 'VBZ'), ('my', 'PRP$'), ('time', 'NN'), ('in', 'IN'), ('the', 'DT'), ('Arts', 'NNP'), ('Centre', 'NNP'), ('.', '.')]\n",
      "\n",
      "\n",
      "[('Though', 'IN'), ('coming', 'VBG'), ('from', 'IN'), ('a', 'DT'), ('football', 'NN'), ('heartland', 'NN'), (',', ','), ('he', 'PRP'), ('had', 'VBD'), ('an', 'DT'), ('even', 'RB'), ('bigger', 'JJR'), ('interest', 'NN'), ('and', 'CC'), ('love', 'VB'), ('for', 'IN'), ('hurling', 'NN'), ('.', '.')]\n",
      "\n",
      "\n",
      "[('Liam', 'NNP'), ('in', 'IN'), ('his', 'PRP$'), ('reply', 'NN'), ('spoke', 'NN'), ('of', 'IN'), ('his', 'PRP$'), ('love', 'NN'), ('of', 'IN'), ('the', 'DT'), ('game', 'NN'), ('and', 'CC'), ('the', 'DT'), ('enjoyment', 'NN'), ('he', 'PRP'), ('still', 'RB'), ('gets', 'VBZ'), ('out', 'IN'), ('of', 'IN'), ('coaching', 'NN'), ('.', '.')]\n",
      "\n",
      "\n",
      "[('He', 'PRP'), ('is', 'VBZ'), ('remembered', 'VBN'), ('for', 'IN'), ('his', 'PRP$'), ('joviality', 'NN'), ('and', 'CC'), ('zest', 'NN'), ('for', 'IN'), ('life', 'NN'), ('and', 'CC'), ('love', 'NN'), ('of', 'IN'), ('the', 'DT'), ('game', 'NN'), ('.', '.')]\n",
      "\n",
      "\n",
      "[('He', 'PRP'), ('turned', 'VBD'), ('his', 'PRP$'), ('love', 'NN'), ('of', 'IN'), ('surfing', 'VBG'), ('into', 'IN'), ('a', 'DT'), ('company', 'NN'), ('worth', 'VBZ'), ('more', 'JJR'), ('than', 'IN'), ('half', 'PDT'), ('a', 'DT'), ('billion', 'CD'), ('dollars', 'NNS'), ('.', '.')]\n",
      "\n",
      "\n",
      "[('His', 'PRP$'), ('love', 'NN'), ('of', 'IN'), ('animals', 'NNS'), ('preceded', 'VBD'), ('his', 'PRP$'), ('love', 'NN'), ('of', 'IN'), ('gardening', 'NN'), (',', ','), ('and', 'CC'), ('he', 'PRP'), ('says', 'VBZ'), ('a', 'DT'), ('good', 'JJ'), ('gardener', 'NN'), ('is', 'VBZ'), ('automatically', 'RB'), ('a', 'DT'), ('naturalist', 'NN'), ('.', '.')]\n",
      "\n",
      "\n",
      "[('He', 'PRP'), ('loved', 'VBD'), ('his', 'PRP$'), ('music', 'NN'), ('and', 'CC'), ('he', 'PRP'), ('passed', 'VBD'), ('on', 'IN'), ('his', 'PRP$'), ('love', 'NN'), ('for', 'IN'), ('music', 'NN'), ('to', 'TO'), ('his', 'PRP$'), ('children', 'NNS'), ('.', '.')]\n",
      "\n",
      "\n",
      "[('He', 'PRP'), ('lived', 'VBD'), ('on', 'IN'), ('a', 'DT'), ('farm', 'NN'), ('in', 'IN'), ('the', 'DT'), ('country', 'NN'), ('and', 'CC'), ('grew', 'VBD'), ('up', 'RP'), ('with', 'IN'), ('an', 'DT'), ('appreciation', 'NN'), ('and', 'CC'), ('love', 'NN'), ('for', 'IN'), ('nature', 'NN'), ('.', '.')]\n",
      "\n",
      "\n",
      "[('Years', 'NNS'), ('later', 'RB'), ('he', 'PRP'), ('has', 'VBZ'), ('combined', 'VBN'), ('his', 'PRP$'), ('love', 'NN'), ('for', 'IN'), ('zoology', 'NN'), ('with', 'IN'), ('his', 'PRP$'), ('appreciation', 'NN'), ('of', 'IN'), ('the', 'DT'), ('female', 'JJ'), ('form', 'NN'), ('.', '.')]\n",
      "\n",
      "\n",
      "[('Though', 'IN'), ('her', 'PRP$'), ('appreciation', 'NN'), ('and', 'CC'), ('love', 'NN'), ('for', 'IN'), ('music', 'NN'), ('never', 'RB'), ('subsided', 'VBD'), (',', ','), ('Jen', 'NNP'), ('did', 'VBD'), ('not', 'RB'), ('actively', 'RB'), ('compose', 'VB'), ('again', 'RB'), ('for', 'IN'), ('several', 'JJ'), ('years', 'NNS'), ('.', '.')]\n",
      "\n",
      "\n",
      "[('There', 'EX'), ('is', 'VBZ'), ('no', 'DT'), ('questioning', 'VBG'), ('his', 'PRP$'), ('enthusiasm', 'NN'), ('and', 'CC'), ('love', 'NN'), ('for', 'IN'), ('the', 'DT'), ('game', 'NN'), ('and', 'CC'), ('you', 'PRP'), ('are', 'VBP'), ('always', 'RB'), ('off', 'IN'), ('to', 'TO'), ('a', 'DT'), ('good', 'JJ'), ('start', 'NN'), ('when', 'WRB'), ('you', 'PRP'), ('have', 'VBP'), ('that', 'DT'), ('kind', 'NN'), ('of', 'IN'), ('passion', 'NN'), ('.', '.')]\n",
      "\n",
      "\n",
      "[('The', 'DT'), ('fact', 'NN'), ('that', 'IN'), ('you', 'PRP'), ('would', 'MD'), ('do', 'VB'), ('it', 'PRP'), ('for', 'IN'), ('free', 'JJ'), ('is', 'VBZ'), ('just', 'RB'), ('an', 'DT'), ('indicator', 'NN'), ('of', 'IN'), ('your', 'PRP$'), ('passion', 'NN'), ('and', 'CC'), ('love', 'NN'), ('for', 'IN'), ('it', 'PRP'), ('.', '.')]\n",
      "\n",
      "\n",
      "[('They', 'PRP'), ('share', 'NN'), ('a', 'DT'), ('mutual', 'JJ'), ('love', 'NN'), ('of', 'IN'), ('music', 'NN'), ('and', 'CC'), ('both', 'DT'), ('are', 'VBP'), ('very', 'RB'), ('deep', 'JJ'), ('thinkers', 'NNS'), ('.', '.')]\n",
      "\n",
      "\n",
      "[('his', 'PRP$'), ('love', 'NN'), ('for', 'IN'), ('football', 'NN')]\n",
      "\n",
      "\n",
      "[('we', 'PRP'), ('share', 'NN'), ('a', 'DT'), ('love', 'NN'), ('of', 'IN'), ('music', 'NN')]\n",
      "\n",
      "\n",
      "[('By', 'IN'), ('the', 'DT'), ('end', 'NN'), ('of', 'IN'), ('the', 'DT'), ('trip', 'NN'), ('I', 'PRP'), ('knew', 'VBD'), ('she', 'PRP'), ('had', 'VBD'), ('two', 'CD'), ('loves', 'NNS'), (';', ':'), ('her', 'PRP$'), ('son', 'NN'), ('and', 'CC'), ('her', 'PRP$'), ('carpets', 'NNS'), ('.', '.')]\n",
      "\n",
      "\n",
      "[('This', 'DT'), ('tale', 'NN'), ('of', 'IN'), ('country', 'NN'), ('folk', 'NN'), (',', ','), ('their', 'PRP$'), ('loves', 'NNS'), ('and', 'CC'), ('hates', 'NNS'), (',', ','), ('their', 'PRP$'), ('customs', 'NNS'), (',', ','), ('is', 'VBZ'), ('like', 'IN'), ('a', 'DT'), ('prescription', 'NN'), ('for', 'IN'), ('our', 'PRP$'), ('troubled', 'JJ'), ('age', 'NN'), ('.', '.')]\n",
      "\n",
      "\n",
      "[('The', 'DT'), ('prolific', 'JJ'), ('writer', 'NN'), ('spent', 'VBD'), ('his', 'PRP$'), ('life', 'NN'), ('combining', 'VBG'), ('his', 'PRP$'), ('two', 'CD'), ('great', 'JJ'), ('loves', 'NNS'), ('-', ':'), ('writing', 'NN'), ('and', 'CC'), ('the', 'DT'), ('Lake', 'NNP'), ('District', 'NNP'), ('.', '.')]\n",
      "\n",
      "\n",
      "[('By', 'IN'), ('the', 'DT'), ('time', 'NN'), ('he', 'PRP'), ('was', 'VBD'), ('a', 'DT'), ('young', 'JJ'), ('man', 'NN'), (',', ','), ('his', 'PRP$'), ('two', 'CD'), ('great', 'JJ'), ('loves', 'NNS'), (',', ','), ('politics', 'NNS'), ('and', 'CC'), ('horse-racing', 'NN'), (',', ','), ('soon', 'RB'), ('became', 'VBD'), ('apparent', 'JJ'), ('.', '.')]\n",
      "\n",
      "\n",
      "[('She', 'PRP'), ('was', 'VBD'), ('a', 'DT'), ('young', 'JJ'), ('woman', 'NN'), ('who', 'WP'), ('had', 'VBD'), ('many', 'JJ'), ('loves', 'NNS'), ('in', 'IN'), ('her', 'PRP$'), ('life', 'NN'), ('-', ':'), ('most', 'JJS'), ('of', 'IN'), ('which', 'WDT'), ('revolved', 'VBD'), ('around', 'IN'), ('her', 'PRP$'), ('family', 'NN'), ('.', '.')]\n",
      "\n",
      "\n",
      "[('His', 'PRP$'), ('chief', 'NN'), ('love', 'NN'), ('is', 'VBZ'), ('painting', 'VBG'), (',', ','), ('sorry', 'NN'), (',', ','), ('his', 'PRP$'), ('two', 'CD'), ('chief', 'NN'), ('loves', 'NNS'), ('are', 'VBP'), ('painting', 'VBG'), ('and', 'CC'), ('some', 'DT'), ('old', 'JJ'), ('guru', 'NN'), ('or', 'CC'), ('other', 'JJ'), ('.', '.')]\n",
      "\n",
      "\n",
      "[('She', 'PRP'), ('is', 'VBZ'), ('fascinated', 'VBN'), ('with', 'IN'), ('history', 'NN'), ('and', 'CC'), ('theatre', 'NN'), (',', ','), ('two', 'CD'), ('loves', 'NNS'), ('passed', 'VBD'), ('down', 'RB'), ('from', 'IN'), ('her', 'PRP$'), ('mother', 'NN'), ('.', '.')]\n",
      "\n",
      "\n",
      "[('While', 'IN'), ('she', 'PRP'), ('was', 'VBD'), ('a', 'DT'), ('singer', 'NN'), ('first', 'RB'), ('and', 'CC'), ('foremost', 'RB'), (',', ','), ('she', 'PRP'), ('is', 'VBZ'), ('loathe', 'JJ'), ('to', 'TO'), ('choose', 'VB'), ('between', 'IN'), ('her', 'PRP'), ('two', 'CD'), ('loves', 'NNS'), ('.', '.')]\n",
      "\n",
      "\n",
      "[('My', 'PRP$'), ('job', 'NN'), ('and', 'CC'), ('my', 'PRP$'), ('family', 'NN'), ('are', 'VBP'), ('both', 'DT'), ('great', 'JJ'), ('loves', 'NNS'), ('of', 'IN'), ('my', 'PRP$'), ('life', 'NN'), ('and', 'CC'), ('have', 'VBP'), ('helped', 'VBN'), ('.', '.')]\n",
      "\n",
      "\n",
      "[('She', 'PRP'), ('tours', 'VBZ'), ('America', 'NNP'), ('and', 'CC'), ('in', 'IN'), ('the', 'DT'), ('process', 'NN'), ('of', 'IN'), ('winning', 'VBG'), ('recognition', 'NN'), ('she', 'PRP'), ('betrays', 'VBZ'), ('her', 'PRP$'), ('loves', 'NNS'), ('and', 'CC'), ('her', 'PRP$'), ('artistic', 'JJ'), ('beliefs', 'NN'), ('.', '.')]\n",
      "\n",
      "\n",
      "[('The', 'DT'), ('two', 'CD'), ('loves', 'NNS'), ('of', 'IN'), ('the', 'DT'), ('club', 'NN'), ('crooner', 'NN'), (\"'s\", 'POS'), ('life', 'NN'), ('were', 'VBD'), ('always', 'RB'), ('his', 'PRP$'), ('wife', 'NN'), ('-', ':'), ('and', 'CC'), ('song', 'NN'), ('.', '.')]\n",
      "\n",
      "\n",
      "[('Music', 'NNP'), ('was', 'VBD'), ('one', 'CD'), ('of', 'IN'), ('his', 'PRP$'), ('great', 'JJ'), ('loves', 'NNS'), ('and', 'CC'), ('before', 'IN'), ('long', 'RB'), ('he', 'PRP'), ('could', 'MD'), ('play', 'VB'), ('several', 'JJ'), ('instruments', 'NNS'), ('.', '.')]\n",
      "\n",
      "\n",
      "[('He', 'PRP'), ('had', 'VBD'), ('three', 'CD'), ('great', 'JJ'), (',', ','), ('simple', 'JJ'), ('loves', 'NNS'), ('in', 'IN'), ('his', 'PRP$'), ('life', 'NN'), (',', ','), ('his', 'PRP$'), ('family', 'NN'), ('and', 'CC'), ('friends', 'NNS'), (',', ','), ('his', 'PRP$'), ('football', 'NN'), ('and', 'CC'), ('his', 'PRP$'), ('faith', 'NN'), ('.', '.')]\n",
      "\n",
      "\n",
      "[('The', 'DT'), ('lives', 'NNS'), (',', ','), ('loves', 'NNS'), ('and', 'CC'), ('actions', 'NNS'), ('of', 'IN'), ('everybody', 'NN'), ('are', 'VBP'), ('shrunk', 'VBN'), ('down', 'RP'), ('so', 'RB'), ('that', 'IN'), ('everyone', 'NN'), ('can', 'MD'), ('have', 'VB'), ('their', 'PRP$'), ('fifteen', 'JJ'), ('minutes', 'NNS'), ('of', 'IN'), ('fame', 'NN'), ('.', '.')]\n",
      "\n",
      "\n",
      "[('The', 'DT'), ('talk', 'NN'), ('covered', 'VBD'), ('not', 'RB'), ('only', 'RB'), ('her', 'PRP$'), ('life', 'NN'), ('and', 'CC'), ('loves', 'NNS'), ('but', 'CC'), ('also', 'RB'), ('family', 'NN'), ('and', 'CC'), ('domestic', 'JJ'), ('life', 'NN'), ('in', 'IN'), ('the', 'DT'), ('13', 'CD'), ('th', 'JJ'), ('century', 'NN'), ('.', '.')]\n",
      "\n",
      "\n",
      "[('she', 'PRP'), ('was', 'VBD'), ('the', 'DT'), ('love', 'NN'), ('of', 'IN'), ('his', 'PRP$'), ('life', 'NN')]\n",
      "\n",
      "\n",
      "[('their', 'PRP$'), ('two', 'CD'), ('great', 'JJ'), ('loves', 'NNS'), ('are', 'VBP'), ('tobacco', 'JJ'), ('and', 'CC'), ('whisky', 'JJ')]\n",
      "\n",
      "\n",
      "[('More', 'RBR'), ('so', 'RB'), ('in', 'IN'), ('the', 'DT'), ('second', 'JJ'), ('set', 'NN'), ('where', 'WRB'), ('Jones', 'NNP'), ('held', 'VBD'), ('four', 'CD'), ('out', 'IN'), ('of', 'IN'), ('five', 'CD'), ('service', 'NN'), ('games', 'NNS'), ('at', 'IN'), ('love', 'NN'), ('.', '.')]\n",
      "\n",
      "\n",
      "[('To', 'TO'), ('come', 'VB'), ('back', 'RB'), ('from', 'IN'), ('two', 'CD'), ('sets', 'NNS'), ('to', 'TO'), ('love', 'VB'), ('and', 'CC'), ('win', 'VB'), ('it', 'PRP'), ('is', 'VBZ'), ('an', 'DT'), ('awesome', 'JJ'), ('feeling', 'NN'), ('.', '.')]\n",
      "\n",
      "\n",
      "[('The', 'DT'), ('running', 'VBG'), ('tennis', 'NN'), ('score', 'NN'), ('of', 'IN'), ('each', 'DT'), ('of', 'IN'), ('the', 'DT'), ('games', 'NNS'), ('is', 'VBZ'), ('expressed', 'VBN'), ('in', 'IN'), ('a', 'DT'), ('style', 'NN'), ('peculiar', 'NN'), ('to', 'TO'), ('tennis', 'VB'), (':', ':'), ('score', 'NN'), ('in', 'IN'), ('a', 'DT'), ('game', 'NN'), ('from', 'IN'), ('zero', 'CD'), ('to', 'TO'), ('three', 'CD'), ('points', 'NNS'), ('is', 'VBZ'), ('represented', 'VBN'), ('as', 'IN'), ('zero', 'NN'), ('(', '('), ('or', 'CC'), ('``', '``'), ('love', 'VB'), (\"''\", \"''\"), (')', ')'), (',', ','), ('fifteen', 'JJ'), (',', ','), ('thirty', 'NN'), (',', ','), ('and', 'CC'), ('forty', 'RB'), ('correspondingly', 'RB'), ('.', '.')]\n",
      "\n",
      "\n",
      "[('love', 'NN'), ('fifteen', 'NN')]\n",
      "\n",
      "\n"
     ]
    },
    {
     "name": "stderr",
     "output_type": "stream",
     "text": [
      "[nltk_data] Downloading package punkt to\n",
      "[nltk_data]     /Users/aymanehachcham/nltk_data...\n",
      "[nltk_data]   Package punkt is already up-to-date!\n"
     ]
    }
   ],
   "source": [
    "from nltk import pos_tag, word_tokenize\n",
    "\n",
    "def search_word_tag(tagged_words:list, word_s:str):\n",
    "    return next(word for word in tagged_words if word[0] == word_s)\n",
    "\n",
    "for sens in senses:\n",
    "    for ex in sens['examples']:\n",
    "        tokens = word_tokenize(ex)\n",
    "        tags = pos_tag(tokens)\n",
    "        print(tags)\n",
    "        print('\\n')\n",
    "        # print(search_word_tag(tags, 'love'))\n"
   ],
   "metadata": {
    "collapsed": false
   }
  },
  {
   "cell_type": "code",
   "execution_count": null,
   "outputs": [],
   "source": [],
   "metadata": {
    "collapsed": false
   }
  }
 ],
 "metadata": {
  "kernelspec": {
   "display_name": "imenepy",
   "language": "python",
   "name": "python3"
  },
  "language_info": {
   "codemirror_mode": {
    "name": "ipython",
    "version": 3
   },
   "file_extension": ".py",
   "mimetype": "text/x-python",
   "name": "python",
   "nbconvert_exporter": "python",
   "pygments_lexer": "ipython3",
   "version": "3.9.13"
  },
  "orig_nbformat": 4,
  "vscode": {
   "interpreter": {
    "hash": "a504093cd48dbf41332b0076d682ce93e05d52a892a597f2a787966ee958626a"
   }
  }
 },
 "nbformat": 4,
 "nbformat_minor": 2
}
