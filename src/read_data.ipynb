{
 "cells": [
  {
   "cell_type": "code",
   "execution_count": 1,
   "metadata": {},
   "outputs": [
    {
     "name": "stdout",
     "output_type": "stream",
     "text": [
      "Requirement already satisfied: xmltodict in /opt/homebrew/Caskroom/miniconda/base/envs/imenepy/lib/python3.9/site-packages (0.13.0)\n"
     ]
    }
   ],
   "source": [
    "#!pip install xmltodict"
   ]
  },
  {
   "cell_type": "code",
   "execution_count": 1,
   "metadata": {},
   "outputs": [],
   "source": [
    "import xmltodict\n",
    "import json\n",
    "import pandas as pd"
   ]
  },
  {
   "cell_type": "code",
   "execution_count": 2,
   "metadata": {},
   "outputs": [],
   "source": [
    "periods = [2015] #1980, 1985, 1987, 1989, 1990, 1992, 1995, 2000, 2001, 2005, 2008, 2010,\n",
    "\n",
    "all_data = {}"
   ]
  },
  {
   "cell_type": "code",
   "execution_count": 3,
   "metadata": {},
   "outputs": [],
   "source": [
    "for period in periods:\n",
    "    period = str(period)\n",
    "\n",
    "    with open('../articles_raw_data/TheNewYorkTimes.' + period +'.xml') as xml_file:\n",
    "        all_data[period] = xmltodict.parse(xml_file.read())"
   ]
  },
  {
   "cell_type": "code",
   "execution_count": 4,
   "metadata": {},
   "outputs": [],
   "source": [
    "for period in periods:\n",
    "    period = str(period)\n",
    "\n",
    "    a = len(all_data[period]['records']['record'])\n",
    "    data = {}\n",
    "    c = 0\n",
    "\n",
    "    for i in range(a):\n",
    "\n",
    "        if 'fulltext' not in all_data[period]['records']['record'][i].keys():\n",
    "            continue\n",
    "\n",
    "        elif c < 30000:\n",
    "            data[i] = all_data[period]['records']['record'][i]\n",
    "            c += 1\n",
    "        else:\n",
    "            break\n",
    "\n",
    "    all_data[period] = pd.DataFrame.from_dict(data, orient='index')\n"
   ]
  },
  {
   "cell_type": "code",
   "execution_count": 5,
   "metadata": {},
   "outputs": [],
   "source": [
    "for period in periods:\n",
    "    period = str(period)\n",
    "    all_data[period] = all_data[period].fillna('')"
   ]
  },
  {
   "cell_type": "code",
   "execution_count": 6,
   "metadata": {},
   "outputs": [],
   "source": [
    "for period in periods:\n",
    "    period = str(period)\n",
    "    all_data[period]['year'] = list(map(lambda x: int(x[:4]), all_data[period]['publishDate']))\n",
    "\n",
    "    all_data[period]['text'] = all_data[period]['leadtext'] + all_data[period]['fulltext']\n",
    "\n",
    "    all_data[period].drop(['record_id', 'source_id', 'publishDate', 'series', 'series2', 'author', 'title', 'link', 'leadtext', 'fulltext'], axis = 1, inplace= True)"
   ]
  },
  {
   "cell_type": "code",
   "execution_count": 7,
   "metadata": {},
   "outputs": [],
   "source": [
    "for period in periods:\n",
    "    period = str(period)\n",
    "    all_data[period] = all_data[period][all_data[period]['year'] == int(period)]"
   ]
  },
  {
   "cell_type": "code",
   "execution_count": 8,
   "metadata": {},
   "outputs": [],
   "source": [
    "for period in periods:\n",
    "    period = str(period)\n",
    "\n",
    "    all_data[period]['word_count'] = list(map(lambda x: len(str(x).split()), all_data[period]['text']))\n",
    "\n",
    "    all_data[period] = all_data[period][all_data[period]['word_count'] > 20]"
   ]
  },
  {
   "cell_type": "markdown",
   "metadata": {},
   "source": [
    "# Pre-processing "
   ]
  },
  {
   "cell_type": "code",
   "execution_count": 9,
   "metadata": {},
   "outputs": [],
   "source": [
    "import re\n",
    "import numpy as np\n",
    "import nltk"
   ]
  },
  {
   "cell_type": "code",
   "execution_count": 10,
   "metadata": {},
   "outputs": [],
   "source": [
    "def preprocess(text_string:str):\n",
    "    \n",
    "    non_word_char = \"[^\\w\\'\\.]\"\n",
    "    quotations = \"\\'\\'\"\n",
    "\n",
    "    parsed_text = text_string.lower().split()\n",
    "\n",
    "    parsed_text = list(map(lambda x: x[:-1] if (x[-1] == '.') and (len(x) < 4) else x, parsed_text))\n",
    "    parsed_text = list(map(lambda x: 'mrs' if x == 'mrs.' else x, parsed_text))\n",
    "\n",
    "    parsed_text = ' '.join(parsed_text)\n",
    "\n",
    "    parsed_text = re.sub(non_word_char, ' ', parsed_text)\n",
    "    parsed_text = re.sub(quotations, '', parsed_text)\n",
    "    \n",
    "    return parsed_text"
   ]
  },
  {
   "cell_type": "code",
   "execution_count": 11,
   "metadata": {},
   "outputs": [
    {
     "name": "stdout",
     "output_type": "stream",
     "text": [
      "(29304, 3)\n"
     ]
    }
   ],
   "source": [
    "for period in periods:\n",
    "    period = str(period)\n",
    "\n",
    "\n",
    "    print(all_data[period].shape)"
   ]
  },
  {
   "cell_type": "code",
   "execution_count": 13,
   "metadata": {},
   "outputs": [],
   "source": [
    "all_data['1980']['text'] = np.vectorize(preprocess)(all_data['1980']['text'])\n",
    "all_data['1980'].to_csv('../articles_raw_data/news_1980.csv', index = False)"
   ]
  },
  {
   "cell_type": "code",
   "execution_count": 14,
   "metadata": {},
   "outputs": [],
   "source": [
    "all_data['1985']['text'] = np.vectorize(preprocess)(all_data['1985']['text'])\n",
    "all_data['1985'].to_csv('../articles_raw_data/news_1985.csv', index = False)"
   ]
  },
  {
   "cell_type": "code",
   "execution_count": 15,
   "metadata": {},
   "outputs": [],
   "source": [
    "all_data['1990']['text'] = np.vectorize(preprocess)(all_data['1990']['text'])\n",
    "all_data['1990'].to_csv('../articles_raw_data/news_1990.csv', index = False)"
   ]
  },
  {
   "cell_type": "code",
   "execution_count": 16,
   "metadata": {},
   "outputs": [],
   "source": [
    "all_data['1995']['text'] = np.vectorize(preprocess)(all_data['1995']['text'])\n",
    "all_data['1995'].to_csv('../articles_raw_data/news_1995.csv', index = False)"
   ]
  },
  {
   "cell_type": "code",
   "execution_count": 17,
   "metadata": {},
   "outputs": [],
   "source": [
    "all_data['2000']['text'] = np.vectorize(preprocess)(all_data['2000']['text'])\n",
    "all_data['2000'].to_csv('../articles_raw_data/news_2000.csv')"
   ]
  },
  {
   "cell_type": "code",
   "execution_count": 18,
   "metadata": {},
   "outputs": [],
   "source": [
    "all_data['2005']['text'] = np.vectorize(preprocess)(all_data['2005']['text'])\n",
    "all_data['2005'].to_csv('../articles_raw_data/news_2005.csv')"
   ]
  },
  {
   "cell_type": "code",
   "execution_count": 19,
   "metadata": {},
   "outputs": [],
   "source": [
    "all_data['2010']['text'] = np.vectorize(preprocess)(all_data['2010']['text'])\n",
    "all_data['2010'].to_csv('../articles_raw_data/news_2010.csv')"
   ]
  },
  {
   "cell_type": "code",
   "execution_count": 12,
   "metadata": {},
   "outputs": [
    {
     "ename": "",
     "evalue": "",
     "output_type": "error",
     "traceback": [
      "\u001b[1;31mThe Kernel crashed while executing code in the the current cell or a previous cell. Please review the code in the cell(s) to identify a possible cause of the failure. Click <a href='https://aka.ms/vscodeJupyterKernelCrash'>here</a> for more info. View Jupyter <a href='command:jupyter.viewOutput'>log</a> for further details."
     ]
    },
    {
     "ename": "",
     "evalue": "",
     "output_type": "error",
     "traceback": [
      "\u001b[1;31mCanceled future for execute_request message before replies were done"
     ]
    }
   ],
   "source": [
    "all_data['2015']['text'] = np.vectorize(preprocess)(all_data['2015']['text'])\n",
    "all_data['2015'].to_csv('../articles_raw_data/news_2015.csv', index = False)"
   ]
  },
  {
   "cell_type": "code",
   "execution_count": null,
   "metadata": {},
   "outputs": [],
   "source": []
  }
 ],
 "metadata": {
  "kernelspec": {
   "display_name": "imenepy",
   "language": "python",
   "name": "python3"
  },
  "language_info": {
   "codemirror_mode": {
    "name": "ipython",
    "version": 3
   },
   "file_extension": ".py",
   "mimetype": "text/x-python",
   "name": "python",
   "nbconvert_exporter": "python",
   "pygments_lexer": "ipython3",
   "version": "3.9.13"
  },
  "orig_nbformat": 4,
  "vscode": {
   "interpreter": {
    "hash": "a504093cd48dbf41332b0076d682ce93e05d52a892a597f2a787966ee958626a"
   }
  }
 },
 "nbformat": 4,
 "nbformat_minor": 2
}
