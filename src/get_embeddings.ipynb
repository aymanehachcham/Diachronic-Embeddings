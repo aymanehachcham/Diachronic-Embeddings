{
 "cells": [
  {
   "cell_type": "code",
   "execution_count": 1,
   "metadata": {},
   "outputs": [
    {
     "name": "stderr",
     "output_type": "stream",
     "text": [
      "Some weights of the model checkpoint at bert-base-uncased were not used when initializing BertModel: ['cls.predictions.transform.LayerNorm.bias', 'cls.predictions.decoder.weight', 'cls.predictions.bias', 'cls.predictions.transform.dense.bias', 'cls.predictions.transform.LayerNorm.weight', 'cls.seq_relationship.weight', 'cls.predictions.transform.dense.weight', 'cls.seq_relationship.bias']\n",
      "- This IS expected if you are initializing BertModel from the checkpoint of a model trained on another task or with another architecture (e.g. initializing a BertForSequenceClassification model from a BertForPreTraining model).\n",
      "- This IS NOT expected if you are initializing BertModel from the checkpoint of a model that you expect to be exactly identical (initializing a BertForSequenceClassification model from a BertForSequenceClassification model).\n"
     ]
    }
   ],
   "source": [
    "from transformers import BertTokenizer, BertModel\n",
    "import torch\n",
    "\n",
    "bert_tokenizer = BertTokenizer.from_pretrained('bert-base-uncased')\n",
    "model = BertModel.from_pretrained('bert-base-uncased', output_hidden_states = True)"
   ]
  },
  {
   "cell_type": "code",
   "execution_count": 2,
   "metadata": {},
   "outputs": [],
   "source": [
    "model.eval();"
   ]
  },
  {
   "cell_type": "code",
   "execution_count": 3,
   "metadata": {},
   "outputs": [],
   "source": [
    "import pandas as pd"
   ]
  },
  {
   "cell_type": "code",
   "execution_count": 4,
   "metadata": {},
   "outputs": [],
   "source": [
    "year = 1995"
   ]
  },
  {
   "cell_type": "code",
   "execution_count": 5,
   "metadata": {},
   "outputs": [],
   "source": [
    "df = pd.read_csv('../articles_raw_data/news_' + str(year) + '.csv')"
   ]
  },
  {
   "cell_type": "code",
   "execution_count": 6,
   "metadata": {},
   "outputs": [],
   "source": [
    "df = df['text']"
   ]
  },
  {
   "cell_type": "code",
   "execution_count": 7,
   "metadata": {},
   "outputs": [],
   "source": [
    "bag = [item for sentence in df for item in sentence.split('.') if item != '']\n",
    "bag_size = len(bag)"
   ]
  },
  {
   "cell_type": "code",
   "execution_count": 8,
   "metadata": {},
   "outputs": [
    {
     "data": {
      "text/plain": [
       "1519311"
      ]
     },
     "execution_count": 8,
     "metadata": {},
     "output_type": "execute_result"
    }
   ],
   "source": [
    "bag_size"
   ]
  },
  {
   "cell_type": "code",
   "execution_count": 9,
   "metadata": {},
   "outputs": [],
   "source": [
    "targets = ['state', 'right', 'around', 'black', 'force', 'interest', 'support', 'charge', 'please']"
   ]
  },
  {
   "cell_type": "code",
   "execution_count": 10,
   "metadata": {},
   "outputs": [
    {
     "data": {
      "text/plain": [
       "9"
      ]
     },
     "execution_count": 10,
     "metadata": {},
     "output_type": "execute_result"
    }
   ],
   "source": [
    "len(targets)"
   ]
  },
  {
   "cell_type": "code",
   "execution_count": 11,
   "metadata": {},
   "outputs": [
    {
     "name": "stdout",
     "output_type": "stream",
     "text": [
      "state\n",
      "right\n",
      "around\n",
      "black\n",
      "force\n",
      "interest\n",
      "support\n",
      "charge\n",
      "please\n",
      "91203\n"
     ]
    }
   ],
   "source": [
    "sentences = []\n",
    "\n",
    "\n",
    "for i in targets:\n",
    "    print(i)\n",
    "    for j in range(bag_size):\n",
    "        sentence = bag[j].split()\n",
    "\n",
    "        if len(sentence) > 512:\n",
    "            sentence = sentence[:512]\n",
    "\n",
    "\n",
    "        if i in sentence:\n",
    "            sentences.append(bag[j])\n",
    "        else:\n",
    "            continue\n",
    "print(len(sentences))"
   ]
  },
  {
   "cell_type": "code",
   "execution_count": 12,
   "metadata": {},
   "outputs": [],
   "source": [
    "file = open('../articles_raw_data/' + str(year) + '_sentences.txt','w') \n",
    "\n",
    "for item in sentences:\n",
    "\tfile.write(item+\"\\n\")\n",
    "file.close()"
   ]
  },
  {
   "cell_type": "code",
   "execution_count": 13,
   "metadata": {},
   "outputs": [],
   "source": [
    "def infer_vector(doc:str):\n",
    "\n",
    "    marked_text = \"[CLS] \" + doc + \" [SEP]\"\n",
    "    tokens = bert_tokenizer.tokenize(marked_text)[:512]\n",
    "    idx = bert_tokenizer.convert_tokens_to_ids(tokens)\n",
    "    segment_id = [1] * len(tokens)\n",
    "\n",
    "\n",
    "    tokens_tensor = torch.tensor([idx])\n",
    "    segments_tensors = torch.tensor([segment_id])\n",
    "\n",
    "    with torch.no_grad():\n",
    "        outputs = model(tokens_tensor, segments_tensors)\n",
    "        hidden_states = outputs[2]\n",
    "\n",
    "    hidden_states = hidden_states\n",
    "\n",
    "    return hidden_states[-2][0], tokens"
   ]
  },
  {
   "cell_type": "code",
   "execution_count": 14,
   "metadata": {},
   "outputs": [
    {
     "data": {
      "text/plain": [
       "91203"
      ]
     },
     "execution_count": 14,
     "metadata": {},
     "output_type": "execute_result"
    }
   ],
   "source": [
    "len(sentences)"
   ]
  },
  {
   "cell_type": "code",
   "execution_count": 15,
   "metadata": {},
   "outputs": [
    {
     "name": "stdout",
     "output_type": "stream",
     "text": [
      "0\n",
      "10000\n",
      "20000\n",
      "30000\n",
      "40000\n"
     ]
    },
    {
     "ename": "ValueError",
     "evalue": "'right' is not in list",
     "output_type": "error",
     "traceback": [
      "\u001b[0;31m---------------------------------------------------------------------------\u001b[0m",
      "\u001b[0;31mValueError\u001b[0m                                Traceback (most recent call last)",
      "Cell \u001b[0;32mIn [15], line 14\u001b[0m\n\u001b[1;32m     11\u001b[0m \u001b[39mif\u001b[39;00m word \u001b[39min\u001b[39;00m sentence:\n\u001b[1;32m     12\u001b[0m     embeddings, tokens \u001b[39m=\u001b[39m infer_vector(sentences[i])\n\u001b[0;32m---> 14\u001b[0m     index \u001b[39m=\u001b[39m tokens\u001b[39m.\u001b[39;49mindex(word)\n\u001b[1;32m     15\u001b[0m     embedding \u001b[39m=\u001b[39m embeddings[index]\u001b[39m.\u001b[39mtolist()\n\u001b[1;32m     17\u001b[0m     results[word][\u001b[39m'\u001b[39m\u001b[39msentence_number_index\u001b[39m\u001b[39m'\u001b[39m]\u001b[39m.\u001b[39mappend([i, index])\n",
      "\u001b[0;31mValueError\u001b[0m: 'right' is not in list"
     ]
    }
   ],
   "source": [
    "results = {k: {'sentence_number_index': [] , 'embeddings': []} for k in targets}\n",
    "\n",
    "for i in range(len(sentences)): #len(sentences)\n",
    "    if i%10000 == 0:\n",
    "        print(i)\n",
    "\n",
    "    sentence = sentences[i].split()[:512]\n",
    "\n",
    "    for word in targets:\n",
    "\n",
    "        if word in sentence:\n",
    "            embeddings, tokens = infer_vector(sentences[i])\n",
    "\n",
    "            index = tokens.index(word)\n",
    "            embedding = embeddings[index].tolist()\n",
    "\n",
    "            results[word]['sentence_number_index'].append([i, index])\n",
    "            results[word]['embeddings'].append(embedding)\n",
    "        \n",
    "        else:\n",
    "            continue\n",
    "\n",
    "\n"
   ]
  },
  {
   "cell_type": "code",
   "execution_count": 17,
   "metadata": {},
   "outputs": [
    {
     "name": "stdout",
     "output_type": "stream",
     "text": [
      "['[CLS]', \"'\", 's', 'green', 'onions', 'boston', 'more', 'than', 'feeling', 'david', 'bowie', 'fame', 'david', 'bowie', 'space', 'odd', '##ity', 'david', 'bowie', 'z', '##ig', '##gy', 'star', '##dus', 'the', 'box', 'tops', 'the', 'letter', 'charles', 'brown', 'drift', '##in', \"'\", 'blues', 'james', 'brown', 'got', 'you', 'i', 'feel', 'good', 'james', 'brown', 'please', 'please', 'please', 'james', 'brown', 'say', 'it', 'loud', 'i', \"'\", 'm', 'black', 'and', 'i', \"'\", 'm', 'proud', 'ruth', 'brown', 'mama', 'he', 'treats', 'your', 'daughter', 'mean', 'jackson', 'browne', 'late', 'for', 'the', 'sky', 'buffalo', 'springfield', 'for', 'what', 'it', \"'\", 's', 'worth', 'solomon', 'burke', 'everybody', 'needs', 'somebody', 'to', 'love', 'johnny', 'burnett', '##e', 'trio', 'train', 'kept', 'a', 'roll', '##in', \"'\", 'the', 'byrd', '##s', 'eight', 'miles', 'high', 'the', 'byrd', '##s', 'hickory', 'wind', 'the', 'byrd', '##s', 'mr', 'tam', '##bour', '##ine', 'man', 'johnny', 'cash', 'f', '##ols', '##om', 'prison', 'blues', 'johnny', 'cash', 'walk', 'the', 'line', 'the', 'champs', 'tequila', 'gene', 'chandler', 'duke', 'of', 'earl', 'the', 'chant', '##ays', 'pipeline', 'ray', 'charles', 'halle', '##lu', '##jah', 'love', 'her', 'so', 'ray', 'charles', 'got', 'woman', 'ray', 'charles', 'what', \"'\", 'd', 'say', 'chu', '##bby', 'check', '##er', 'the', 'twist', 'chi', '##c', 'le', 'freak', 'charlie', 'christian', 'with', 'the', 'benny', 'goodman', 'orchestra', 'solo', 'flight', 'eric', 'clapton', 'after', 'midnight', 'dave', 'clark', 'five', 'glad', 'all', 'over', 'the', 'clash', 'london', 'calling', 'jimmy', 'cliff', 'many', 'rivers', 'to', 'cross', 'jimmy', 'cliff', 'they', 'harder', 'they', 'come', 'patsy', 'cl', '##ine', 'fall', 'to', 'pieces', 'the', 'clover', '##s', 'love', 'potion', 'no', 'the', 'coaster', 'ya', '##ke', '##ty', 'ya', '##k', 'the', 'coaster', '##s', 'young', 'blood', 'eddie', 'cochran', 'c', \"'\", 'mon', 'everybody', 'eddie', 'cochran', 'summer', '##time', 'blues', 'joe', 'cock', '##er', 'with', 'little', 'help', 'from', 'my', 'friends', 'the', 'con', '##tour', '##s', 'do', 'you', 'love', 'me', 'sam', 'cooke', 'change', 'is', 'gonna', 'come', 'sam', 'cooke', 'bring', 'it', 'on', 'home', 'to', 'me', 'sam', 'cooke', 'you', 'send', 'me', 'alice', 'cooper', 'i', \"'\", 'm', 'eighteen', 'elvis', 'costello', 'pump', 'it', 'up', 'the', 'count', 'five', 'psychotic', 'reaction', 'country', 'joe', 'and', 'the', 'fish', 'the', 'fish', 'cheer', 'and', 'i', 'feel', 'like', 'i', \"'\", 'm', 'fix', '##in', \"'\", 'to', 'die', 'rag', 'don', 'co', '##va', '##y', 'mercy', 'mercy', 'cream', 'crossroads', 'cream', 'sunshine', 'of', 'your', 'love', 'creed', '##ence', 'clear', '##water', 'revival', 'fortunate', 'son', 'creed', '##ence', 'clear', '##water', 'revival', 'proud', 'mary', 'crosby', 'stills', 'and', 'nash', 'suite', 'judy', 'blue', 'eyes', 'crosby', 'stills', 'nash', 'and', 'you', '##nd', 'ohio', 'the', 'crows', 'gee', 'the', 'crystals', 'da', 'doo', 'ron', 'ron', 'when', 'he', 'walked', 'me', 'home', 'the', 'crystals', 'he', \"'\", 's', 'rebel', 'culture', 'club', 'time', 'clock', 'of', 'the', 'heart', 'dick', 'dale', 'and', 'the', 'del', 'tones', 'let', \"'\", 's', 'go', 'trip', '##pin', \"'\", 'the', 'damned', 'new', 'rose', 'danny', 'the', 'juniors', 'at', 'the', 'hop', 'bobby', 'dar', '##in', 'sp', '##lish', 'splash', 'spencer', 'davis', 'group', 'gi', '##mme', 'some', 'lo', '##vin', \"'\", 'de', 'la', 'soul', 'me', 'myself', 'and', 'deep', 'purple', 'smoke', 'on', 'the', 'water', 'the', 'dell', 'vikings', 'come', 'go', 'with', 'me', 'the', 'dell', '##s', 'oh', 'what', 'night', 'the', 'del', '##more', 'brothers', 'hill', '##bill', '##y', 'boogie', 'derek', 'and', 'the', 'domino', '##s', 'layla', 'dev', '##o', 'whip', 'it', 'bo', 'did', '##dley', 'bo', 'did', '##dley', 'dion', 'and', 'the', 'belmont', '##s', 'teenager', 'in', 'love', 'dire', 'straits', 'sultan', '##s', 'of', 'swing', 'the', 'dixie', 'cups', 'chapel', 'of', 'love', 'the', 'dixie', 'humming', '##birds', 'i', \"'\", 'll', 'live', 'again', 'bill', 'dogg', '##ett', 'hon', '##ky', 'ton', '##k', 'fat', '##s', 'domino', 'ain', \"'\", 't']\n"
     ]
    }
   ],
   "source": [
    "print(tokens)"
   ]
  },
  {
   "cell_type": "code",
   "execution_count": 20,
   "metadata": {},
   "outputs": [
    {
     "data": {
      "text/plain": [
       "906"
      ]
     },
     "execution_count": 20,
     "metadata": {},
     "output_type": "execute_result"
    }
   ],
   "source": [
    "len(sentences[i].split())"
   ]
  },
  {
   "cell_type": "code",
   "execution_count": 16,
   "metadata": {},
   "outputs": [],
   "source": [
    "import json\n",
    "\n",
    "with open('../embeddings/embeddings_' + str(year) + '.json', 'w') as fp:\n",
    "    json.dump(results, fp)"
   ]
  },
  {
   "cell_type": "code",
   "execution_count": 17,
   "metadata": {},
   "outputs": [
    {
     "name": "stdout",
     "output_type": "stream",
     "text": [
      "../embeddings/embeddings_1990.json\n"
     ]
    }
   ],
   "source": [
    "print('../embeddings/embeddings_' + str(year) + '.json')"
   ]
  },
  {
   "cell_type": "code",
   "execution_count": null,
   "metadata": {},
   "outputs": [],
   "source": []
  }
 ],
 "metadata": {
  "kernelspec": {
   "display_name": "imenepy",
   "language": "python",
   "name": "python3"
  },
  "language_info": {
   "codemirror_mode": {
    "name": "ipython",
    "version": 3
   },
   "file_extension": ".py",
   "mimetype": "text/x-python",
   "name": "python",
   "nbconvert_exporter": "python",
   "pygments_lexer": "ipython3",
   "version": "3.9.13"
  },
  "orig_nbformat": 4,
  "vscode": {
   "interpreter": {
    "hash": "a504093cd48dbf41332b0076d682ce93e05d52a892a597f2a787966ee958626a"
   }
  }
 },
 "nbformat": 4,
 "nbformat_minor": 2
}
