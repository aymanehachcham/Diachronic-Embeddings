{
 "cells": [
  {
   "cell_type": "code",
   "execution_count": 25,
   "metadata": {},
   "outputs": [],
   "source": [
    "import numpy as np\n",
    "from numpy.linalg import norm\n",
    "import json\n",
    "from scipy import spatial\n",
    "\n",
    "\n",
    "\n",
    "def word_vector(emb):\n",
    "    a = np.array(emb)\n",
    "    vector = np.mean(a, axis=0)\n",
    "    return vector\n",
    "\n",
    "def cos_sim(vect_a:np.array, vect_b:np.array):\n",
    "    return (vect_a @ vect_b)/(norm(vect_a) * norm(vect_b))\n",
    "\n",
    "\n",
    "\n",
    "def get_similarity(word1, word2, year):\n",
    "    \n",
    "    data = []\n",
    "    with open('../embeddings/embeddings_' + str(year) + '.json', 'r') as f:\n",
    "        for line in f:\n",
    "            data.append(json.loads(line))\n",
    "\n",
    "        \n",
    "    results = {}\n",
    "    for w in data:\n",
    "        if w['word'] in [word1, word2]:\n",
    "            results[w['word']] = {'index': w['sentence_number_index'], 'embeddings': w['embeddings']}\n",
    "\n",
    "\n",
    "    word_embeddings = {}\n",
    "    for word, value in results.items():\n",
    "        word_embeddings[word] = word_vector(value['embeddings'])\n",
    "    \n",
    "    result = cos_sim(word_embeddings[word1], word_embeddings[word2])\n",
    "\n",
    "    return result\n",
    "\n",
    "\n",
    "    "
   ]
  },
  {
   "cell_type": "code",
   "execution_count": 26,
   "metadata": {},
   "outputs": [
    {
     "data": {
      "text/plain": [
       "0.6134349271143078"
      ]
     },
     "execution_count": 26,
     "metadata": {},
     "output_type": "execute_result"
    }
   ],
   "source": [
    "get_similarity('administration', 'white', 1980)"
   ]
  },
  {
   "cell_type": "code",
   "execution_count": 27,
   "metadata": {},
   "outputs": [],
   "source": [
    "years = [1980, 1985, 1987, 1989, 1990, 1992, 1995, 2000, 2001, 2005, 2008, 2010, 2015]"
   ]
  },
  {
   "cell_type": "code",
   "execution_count": 28,
   "metadata": {},
   "outputs": [
    {
     "name": "stdout",
     "output_type": "stream",
     "text": [
      "1980 0.5335846593259473\n",
      "1985 0.4138146756371786\n",
      "1987 0.4301887550207626\n",
      "1989 0.4595541145347521\n",
      "1990 0.4760644726401668\n",
      "1992 0.49492303365549833\n",
      "1995 0.47107655606801113\n",
      "2000 0.5062048156906076\n",
      "2001 0.46654952710055386\n",
      "2005 0.44585490400833594\n",
      "2008 0.4883235276633935\n",
      "2010 0.47534109225012744\n",
      "2015 0.5224337567080692\n"
     ]
    }
   ],
   "source": [
    "for year in years:\n",
    "    print(year, get_similarity('white', 'aids', year))\n"
   ]
  },
  {
   "cell_type": "code",
   "execution_count": 29,
   "metadata": {},
   "outputs": [
    {
     "name": "stdout",
     "output_type": "stream",
     "text": [
      "1980 0.5678930864678454\n",
      "1985 0.500025749016114\n",
      "1987 0.5220442348009298\n",
      "1989 0.5312158112787152\n",
      "1990 0.5601013457768088\n",
      "1992 0.5407377375144511\n",
      "1995 0.5458151992101112\n",
      "2000 0.5514113459383099\n",
      "2001 0.5534045214571172\n",
      "2005 0.5506118139311664\n",
      "2008 0.537457585798878\n",
      "2010 0.524317455113604\n",
      "2015 0.5597489430697016\n"
     ]
    }
   ],
   "source": [
    "for year in years:\n",
    "    print(year, get_similarity('wall', 'cold', year))\n"
   ]
  },
  {
   "cell_type": "code",
   "execution_count": 30,
   "metadata": {},
   "outputs": [
    {
     "name": "stdout",
     "output_type": "stream",
     "text": [
      "['abuse', 'administration', 'cold', 'wall', 'aids', 'authority', 'battle', 'black', 'campaign', 'lives', 'head', 'march', 'public', 'release', 'screen', 'shot', 'war', 'union', 'white']\n"
     ]
    }
   ],
   "source": [
    "words = []\n",
    "with open('../data/target_words/polysemous.txt', 'r') as f:\n",
    "    for w in f:\n",
    "        words.append(w.strip())\n",
    "\n",
    "print(words)"
   ]
  }
 ],
 "metadata": {
  "kernelspec": {
   "display_name": "imenepy",
   "language": "python",
   "name": "python3"
  },
  "language_info": {
   "codemirror_mode": {
    "name": "ipython",
    "version": 3
   },
   "file_extension": ".py",
   "mimetype": "text/x-python",
   "name": "python",
   "nbconvert_exporter": "python",
   "pygments_lexer": "ipython3",
   "version": "3.10.9"
  },
  "orig_nbformat": 4,
  "vscode": {
   "interpreter": {
    "hash": "a504093cd48dbf41332b0076d682ce93e05d52a892a597f2a787966ee958626a"
   }
  }
 },
 "nbformat": 4,
 "nbformat_minor": 2
}
