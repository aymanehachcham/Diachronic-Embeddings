{
 "cells": [
  {
   "cell_type": "code",
   "execution_count": 4,
   "metadata": {},
   "outputs": [],
   "source": [
    "import  requests\n",
    "import json"
   ]
  },
  {
   "cell_type": "code",
   "execution_count": 5,
   "outputs": [],
   "source": [
    "API_CREDENTIALS = 'API_credentials/oxford_api_credentials.txt'\n",
    "with open(API_CREDENTIALS) as f:\n",
    "    creds = f.read()"
   ],
   "metadata": {
    "collapsed": false
   }
  },
  {
   "cell_type": "code",
   "execution_count": 6,
   "outputs": [
    {
     "data": {
      "text/plain": "{'Accept': 'application/json',\n 'app_id': '8beabadc',\n 'app_key': '4d85f3e2e7cd293da9a811f156c99841',\n 'url': 'https://od-api.oxforddictionaries.com/api/v2'}"
     },
     "execution_count": 6,
     "metadata": {},
     "output_type": "execute_result"
    }
   ],
   "source": [
    "api_creds = {}\n",
    "creds.split('\\n')\n",
    "api_creds['Accept'] = creds.split('\\n')[0].split(':')[1].strip()\n",
    "api_creds['app_id'] = creds.split('\\n')[1].split(':')[1].strip()\n",
    "api_creds['app_key'] = creds.split('\\n')[2].split(':')[1].strip()\n",
    "api_creds['url'] = creds.split('\\n')[3].split(':', 1)[1].strip()\n",
    "\n",
    "api_creds"
   ],
   "metadata": {
    "collapsed": false
   }
  },
  {
   "cell_type": "code",
   "execution_count": 54,
   "outputs": [],
   "source": [
    "def json_load(res):\n",
    "  t = json.dumps(res.json())\n",
    "  return json.loads(t)\n",
    "\n",
    "headers = {\n",
    "        \"Accept\": api_creds['Accept'],\n",
    "        \"app_id\": api_creds['app_id'],\n",
    "        \"app_key\": api_creds['app_key']\n",
    "    }\n",
    "word_id = 'black'\n",
    "url_entries = api_creds['url'] + '/entries/en/' + word_id + '?strictMatch=true'\n",
    "res_entries = requests.get(url_entries, headers = {'app_id' : headers['app_id'], 'app_key' : headers['app_key']})\n",
    "\n",
    "senses_examples = json_load(res_entries)"
   ],
   "metadata": {
    "collapsed": false
   }
  },
  {
   "cell_type": "code",
   "execution_count": 58,
   "outputs": [
    {
     "name": "stdout",
     "output_type": "stream",
     "text": [
      "dict_keys(['definitions', 'examples', 'id', 'shortDefinitions', 'subsenses', 'synonyms', 'thesaurusLinks'])\n",
      "dict_keys(['crossReferenceMarkers', 'crossReferences', 'definitions', 'examples', 'id', 'shortDefinitions', 'subsenses', 'variantForms'])\n",
      "dict_keys(['definitions', 'examples', 'id', 'shortDefinitions', 'subsenses', 'synonyms', 'thesaurusLinks'])\n",
      "dict_keys(['definitions', 'examples', 'id', 'shortDefinitions', 'synonyms', 'thesaurusLinks'])\n",
      "dict_keys(['definitions', 'domainClasses', 'examples', 'id', 'regions', 'registers', 'shortDefinitions'])\n",
      "dict_keys(['definitions', 'examples', 'id', 'notes', 'semanticClasses', 'shortDefinitions', 'subsenses'])\n",
      "dict_keys(['crossReferenceMarkers', 'crossReferences', 'definitions', 'id', 'semanticClasses', 'shortDefinitions', 'subsenses', 'variantForms'])\n",
      "dict_keys(['constructions', 'definitions', 'examples', 'id', 'notes', 'shortDefinitions', 'synonyms', 'thesaurusLinks'])\n",
      "dict_keys(['definitions', 'examples', 'id', 'shortDefinitions', 'subsenses', 'synonyms', 'thesaurusLinks'])\n",
      "dict_keys(['definitions', 'domainClasses', 'examples', 'id', 'regions', 'registers', 'shortDefinitions', 'synonyms', 'thesaurusLinks'])\n"
     ]
    }
   ],
   "source": [
    "for res in senses_examples['results']:\n",
    "    for ent in res['lexicalEntries']:\n",
    "        for ex in ent['entries']:\n",
    "            for sens in ex['senses']:\n",
    "                print(sens.keys())"
   ],
   "metadata": {
    "collapsed": false
   }
  },
  {
   "cell_type": "code",
   "execution_count": 111,
   "outputs": [
    {
     "data": {
      "text/plain": "{'id': 'washington',\n 'metadata': {'operation': 'retrieve',\n  'provider': 'Oxford University Press',\n  'schema': 'RetrieveEntry'},\n 'results': [{'id': 'Washington',\n   'language': 'en-gb',\n   'lexicalEntries': [{'entries': [{'grammaticalFeatures': [{'id': 'proper',\n         'text': 'Proper',\n         'type': 'Properness'}],\n       'pronunciations': [{'audioFile': 'https://audio.oxforddictionaries.com/en/mp3/washington_1_gb_1.mp3',\n         'dialects': ['British English'],\n         'phoneticNotation': 'IPA',\n         'phoneticSpelling': 'ˈwɒʃɪŋt(ə)n'}],\n       'senses': [{'definitions': ['a state of the north-western US, on the coast of the Pacific Ocean; population 6,549,224 (est. 2008); capital, Olympia. It became the 42nd state in 1889.'],\n         'id': 'm_en_gbus1142220.006',\n         'semanticClasses': [{'id': 'us_state', 'text': 'Us_State'}],\n         'shortDefinitions': ['state of north-western US, on Pacific coast']},\n        {'definitions': ['the capital of the US; population 591,833 (est. 2008). It is coextensive with the District of Columbia, a federal district on the Potomac River with boundaries on the states of Virginia and Maryland. Founded in 1790, during the presidency of George Washington, it was planned and built as a capital city.'],\n         'id': 'm_en_gbus1142220.009',\n         'semanticClasses': [{'id': 'city', 'text': 'City'}],\n         'shortDefinitions': ['capital of US'],\n         'subsenses': [{'definitions': ['used in reference to the US government'],\n           'examples': [{'text': 'they warned of serious consequences if Washington said no'}],\n           'id': 'm_en_gbus1142220.028',\n           'semanticClasses': [{'id': 'organization', 'text': 'Organization'}],\n           'shortDefinitions': ['used in reference to US government']}],\n         'variantForms': [{'text': 'Washington DC'}]},\n        {'definitions': ['an industrial town in north-eastern England, designated as a new town in 1964; population 51,700 (est. 2009).'],\n         'id': 'm_en_gbus1142220.015',\n         'semanticClasses': [{'id': 'city', 'text': 'City'}],\n         'shortDefinitions': ['industrial town in NE England']}]}],\n     'language': 'en-gb',\n     'lexicalCategory': {'id': 'noun', 'text': 'Noun'},\n     'text': 'Washington'}],\n   'type': 'headword',\n   'word': 'Washington'}],\n 'word': 'Washington'}"
     },
     "execution_count": 111,
     "metadata": {},
     "output_type": "execute_result"
    }
   ],
   "source": [
    "def json_load(res):\n",
    "  t = json.dumps(res.json())\n",
    "  return json.loads(t)\n",
    "\n",
    "word_id = 'Washington'\n",
    "url_entries = api_creds['url'] + '/entries/en/' + word_id + '?strictMatch=true'\n",
    "res_entries = requests.get(url_entries, headers = {'app_id' : headers['app_id'], 'app_key' : headers['app_key']})\n",
    "\n",
    "json_load(res_entries)"
   ],
   "metadata": {
    "collapsed": false
   }
  },
  {
   "cell_type": "code",
   "execution_count": 65,
   "outputs": [],
   "source": [
    "def json_load(res):\n",
    "  t = json.dumps(res.json())\n",
    "  return json.loads(t)\n",
    "\n",
    "def prepare_api(word:str):\n",
    "    headers = {\n",
    "        \"Accept\": api_creds['Accept'],\n",
    "        \"app_id\": api_creds['app_id'],\n",
    "        \"app_key\": api_creds['app_key']\n",
    "    }\n",
    "    word_id = word\n",
    "    url_entries = api_creds['url'] + '/entries/en/' + word_id + '?strictMatch=true'\n",
    "    res_entries = requests.get(url_entries, headers = {'app_id' : headers['app_id'], 'app_key' : headers['app_key']})\n",
    "    url_sentences = api_creds['url'] + '/sentences/en/' + word_id + '?strictMatch=true'\n",
    "    res_sentences = requests.get(url_sentences, headers = {'app_id' : headers['app_id'], 'app_key' : headers['app_key']})\n",
    "\n",
    "    senses_examples = json_load(res_entries)\n",
    "    sentences_examples = json_load(res_sentences)\n",
    "\n",
    "    return senses_examples, sentences_examples\n",
    "\n",
    "def run_words(word:str):\n",
    "    from itertools import chain\n",
    "    senses_examples, sentences_examples = prepare_api(word)\n",
    "\n",
    "    try:\n",
    "        senses_examples['results']\n",
    "    except KeyError:\n",
    "        raise ValueError(\n",
    "            'No resutls for senses'\n",
    "        )\n",
    "    try:\n",
    "        sentences_examples['results']\n",
    "    except KeyError:\n",
    "        raise ValueError(\n",
    "            'No resutls for senteces'\n",
    "        )\n",
    "\n",
    "    senses_all_res = senses_examples['results']\n",
    "    sentences_all_res = sentences_examples['results']\n",
    "    api_call_senses = senses_examples['results'][0]['lexicalEntries'][0]['entries'][0]['senses']\n",
    "    sentences = sentences_examples['results'][0]['lexicalEntries'][0]['sentences']\n",
    "    senses = []\n",
    "    sense_with_examples = {}\n",
    "    diff_sense_ids = []\n",
    "\n",
    "\n",
    "    for res_s in sentences_all_res:\n",
    "            for ent in res_s['lexicalEntries']:\n",
    "                for el in ent['sentences']:\n",
    "                    diff_sense_ids.append(el['senseIds'][0])\n",
    "\n",
    "    sense_ids = set(diff_sense_ids)\n",
    "\n",
    "    def search(id):\n",
    "        for res_s in sentences_all_res:\n",
    "            for ent in res_s['lexicalEntries']:\n",
    "                    return [sent['text'] for sent in ent['sentences'] if sent['senseIds'][0] == id]\n",
    "\n",
    "    for res in senses_all_res:\n",
    "        for lent in res['lexicalEntries']:\n",
    "            for ent in lent['entries']:\n",
    "                for idx, sens in enumerate(ent['senses']):\n",
    "                    try:\n",
    "                        sense_with_examples['word'] = word\n",
    "                        sense_with_examples['sense'] = sens['id']\n",
    "                        sense_with_examples['definition'] = sens['definitions'][0]\n",
    "                        if 'examples' in sens.keys():\n",
    "                            examples_for_senses = list(ex['text'] for ex in sens['examples'])\n",
    "                        else:\n",
    "                            continue\n",
    "\n",
    "                        if sens['id'] in list(sense_ids):\n",
    "                            examples_sense = search(sens['id'])\n",
    "                            sense_with_examples['examples'] = list(chain(examples_sense, examples_for_senses))\n",
    "                            if sense_with_examples['examples'] == []:\n",
    "                                sense_with_examples.pop('examples')\n",
    "\n",
    "                    except KeyError:\n",
    "                        raise ValueError(\n",
    "                            'No examples for the word: {}'.format(word)\n",
    "                        )\n",
    "\n",
    "                    senses.append(sense_with_examples.copy())\n",
    "\n",
    "    return senses"
   ],
   "metadata": {
    "collapsed": false
   }
  },
  {
   "cell_type": "code",
   "execution_count": 68,
   "outputs": [],
   "source": [
    "senses = run_words('charge')"
   ],
   "metadata": {
    "collapsed": false
   }
  },
  {
   "cell_type": "code",
   "execution_count": 69,
   "outputs": [
    {
     "data": {
      "text/plain": "[{'word': 'charge',\n  'sense': 'm_en_gbus0169930.006',\n  'definition': 'demand (an amount) as a price for a service rendered or goods supplied',\n  'examples': ['Much confusion exists regarding the tariff payable by the medical aid funds and the amount charged by the various service providers or institutions.',\n   'By January, the billings department had yet to charge Bitton for services rendered.',\n   'For the amount of money they charge for the ticket, the service should be much better.',\n   'There is a range of prices open to you to charge for your services.',\n   'He said motorists who complained after pumping their own fuel at full service pumps and being charged the higher price were offered a refund.',\n   'Of the 126 who responded, 81 per cent agreed that it was reasonable for the council to charge an adequate amount for services provided.',\n   \"Right now I have no life coaching qualifications or experience, and so I don't feel qualified to charge for my services.\",\n   'Representations made to the rail authorities about the high prices they charge for improvements had also been made, without success.',\n   'And if you use your card abroad to take out local currency, almost all banks and building societies charge for this service.',\n   \"With Lynne's help, the charity, which has to charge for its services because funding is so tight, hopes to be able to expand.\",\n   'It was also possible to arrange an item of mail to be left at a convenient Post Office though the Post Office would charge for this service.',\n   'Although banks have a standard penalty rate, it is worth asking the amount your bank will charge for the delay.',\n   \"The council admits that few boroughs charge for children's services.\",\n   'There is no word as to whether they will charge for this service or not.',\n   'The council is facing a £11.5million shortfall if it charges the average amount of council tax for outer London.',\n   'The province requires us to charge the same low price to all our clients, yet many of them are affluent and could easily afford to pay more.',\n   \"They charge a premium amount in the UK for their printing services and the sums simply don't add up.\",\n   \"The council is currently reviewing the amount it charges people to use the town's car parks.\",\n   'This is partly for financial reasons, as the council charges a fee to cover its costs, meaning some schools choose not to run the training classes.',\n   'He said three years ago, homeowners were conned in a fraud worth more than £500,000 when they were charged excessive amounts to have their drives resurfaced.',\n   'wedding planners may charge an hourly fee of up to £150',\n   'he charged me five dollars for the wine']},\n {'word': 'charge',\n  'sense': 'm_en_gbus0169930.014',\n  'definition': 'formally accuse (someone) of something, especially an offence under law',\n  'examples': ['He was also charged with the offence of disobeying a lawful order.',\n   'He was charged with the offence of which he was convicted and at that time handed in a prepared statement.',\n   'On no occasion has he been charged with any offence, has no outstanding charges and I strongly doubt that there would be any adverse record against him, at least at the national level.',\n   'In July 2002, he was charged with three drug-related offences.',\n   'He was not charged with that offence, as I understand it.',\n   \"The applicant's girlfriend was not charged with any offences in connection with these seizures.\",\n   'On 21st April, she was charged with the offence I have mentioned, that of assisting an offender.',\n   'He was charged with two criminal offences, and was acquitted of both offences.',\n   'On 16th June, nearly five months after the incidents, he was charged with both offences.',\n   'The man was acquitted but the young women were charged with perjury.',\n   \"She was charged with 12 offences at crown court, and a further three in the magistrates' court.\",\n   'In many cases, drivers are not charged with an offence: police deem the pedestrian to have been ‘at fault’ in the accident.',\n   'However she was charged with two offences of false accounting concerning housing benefit fraud.',\n   'However, on December 24 he was formally charged with illegally acquiring and sharing information.',\n   \"Police and fire crews labelled him ‘a stupid fool’ for putting his and other people's lives at risk but he was not charged with any offence.\",\n   'Originally he was charged with 16 offences, but yesterday they were withdrawn and five sample charges were substituted.',\n   'When he finally came down he was charged with offences including driving without insurance and threatening behaviour.',\n   'He was subsequently charged with a disciplinary offence, but was cleared following a hearing in May.',\n   'If someone is charged with an offence then they must face the full impact of the law.',\n   'they were charged with assault']},\n {'word': 'charge',\n  'sense': 'm_en_gbus0169930.018',\n  'definition': 'entrust (someone) with a task as a duty or responsibility',\n  'examples': ['We are social creatures, and as well as taking responsibility for ourselves we are charged with the duty of looking out for our nearest and dearest.',\n   'Every player is charged with the responsibility of making the performance an engaging experience for both the cast and the audience.',\n   'The two teams were charged with the task of selling ice-creams in down-town Manhattan.',\n   \"She is charged with the task of ensuring the government's lifelong learning plans make sense to the public.\",\n   'Yet he and virtually the same team were again charged with the task of winning a major tournament for Scotland.',\n   'Israeli-employed post office workers were charged with the task of verifying the identities of potential voters.',\n   'Indeed, these individuals are charged with the responsibility of public safety.',\n   'David Moore was charged with the task of taking the firm forward after Mr Lancaster retired in 2003.',\n   'Logistics leaders are charged with the duty to organize, train and equip the units under their command',\n   'As part of my intelligence duties, I was charged with interrogating German prisoners of war.',\n   'There are a lot of people who are charged with the responsibility of protecting, promoting and defending that reputation.',\n   'Governments are charged with a difficult responsibility of balancing economic development against environmental damage.',\n   'On the following day, he was charged with the duty of getting rid of these shares.',\n   'The news media are not charged with the duty of full court reporting, and it is necessarily fortuitous as to whether remarks upon sentence are reported or not.',\n   \"In fairness to the land commissioner, he isn't charged with protecting local school revenue.\",\n   'Additionally, he stood by and watched as laws were being broken by said children that he was charged to protect.',\n   'Those who knew these men intimately were charged with the duty to relate their heroic deaths to their families upon returning to the Capital.',\n   'The Board and district commissions are charged to protect and conserve the lands and environment of the state.',\n   'All three are equally charged to protect the Constitution.',\n   'Clearly, this senior level review charged to protect the public interest fully weighed all the issues, separating fact from assertion.',\n   'the committee was charged with reshaping the educational system']},\n {'word': 'charge',\n  'sense': 'm_en_gbus0169930.020',\n  'definition': 'store electrical energy in (a battery or battery-operated device)',\n  'examples': ['A large assemblage of tiny little storage batteries were charged up and gave a total, when they were all put in a series, of about a thousand volts.',\n   'An electrical charging source couples to the first and second electrical connectors to charge the battery.',\n   'Then at some point we might burn coal to supply electricity to charge batteries in electric cars.',\n   \"So anytime you're driving - highway or city - the battery can be charged up if it needs charging, and it should never run low.\",\n   \"Increase the life span of your cell phone and battery by following the manufacturer's directions for using the phone and charging the battery.\",\n   'As you read this, Brian Cashman is charging his ninth cell-phone battery of the day.',\n   'Small, isolated farms used wind turbines to charge batteries, run radios and draw water from deep wells.',\n   'Tonight we took short showers in the outside stained wood stalls, as another generator charged the batteries that ran the water pump and the electric water heater.',\n   'This battery is continuously charged by solar cells and the use of the cell obviates the need for separate charging of the battery.',\n   \"It is used to charge the battery and to power all the car's electric systems when its engine is running.\",\n   \"Diesel-powered submarines use combustion engines to provide power and charge the sub's batteries.\",\n   \"When the bank's charge drops below a certain level, the pump is shut off and the system resumes charging the batteries from the wind's energy.\",\n   'This changes the voltage to direct current which can then be used to charge your battery.',\n   'When the car is slowing down, the electric motor runs backwards, acting as a generator to charge the battery.',\n   'You do have to be organised as it takes forever to charge the batteries, but it is free energy.',\n   'Plug it in to your computer to charge the battery and transfer songs.',\n   'The plasma screen consists of tiny gas plasma cells that are charged at exact electrical voltages to make a picture.',\n   'It is now eleven days later and the big battery is still charged and the camera working perfectly.',\n   \"By then, they knew too that the power system was struggling and the battery wasn't charged as much as was desired.\",\n   'She made a mental note to plug her charger in and charge the battery.',\n   'the shaver can be charged up and used while travelling']},\n {'word': 'charge',\n  'sense': 'm_en_gbus0169930.025',\n  'definition': 'rush forward in attack',\n  'examples': ['The rest of the attack party charged, all shouting loudly.',\n   'She reached for it but quickly moved as he charged once again.',\n   'They were charging just as quickly, also blinded by chaos.',\n   'As he moved to charge, he found that his father was already upon him.',\n   'Godfrey did not hesitate, but attacked immediately, charging headlong while the Egyptians were still in their camp.',\n   'She charged so quickly at him, all you could see was a black blur.',\n   'He made the first move, he charged at her with his arms at his sides, waiting to strike.',\n   'His opponent charged at him quickly, sword held to the side.',\n   'Quickly three people came charging at him, one was his own teammate.',\n   'The underlying weakness of the hull meant that the ship could not charge headlong in the heat of battle.',\n   'Such forces can rarely be detected ahead of time, but to charge headlong without at least trying to assess your situation is like skipping nonchalantly through a mine field.',\n   'It is intriguing to watch those who run, those who hide, those that charge headlong and those that push their friends in front of themselves for protection.',\n   'It continued its attack on her, charging at her head-first!',\n   'the plan is to charge headlong at the enemy']},\n {'word': 'charge',\n  'sense': 'm_en_gbus0169930.029',\n  'definition': 'place a heraldic bearing on',\n  'examples': ['The Duke of Kent had his label charged with a cross gules between two fleurs-de-lis azure.',\n   'Two other variations are known, one for Woolcot with a chief charged with a cross between two fleur-de-lis, and one for Woolcott with the shield red and a chief with a fleur-de-lis between two red crosses.',\n   'Another illumination also illustrating Combat des Trentes shows the Breton-French knights with a narrow, forked white oriflam, charged with a cross couped.',\n   'a pennant argent, charged with a cross gules']},\n {'word': 'charge',\n  'sense': 'm_en_gbus0169930.032',\n  'definition': 'a price asked for goods or services',\n  'examples': ['our standard charge for a letter is £25']},\n {'word': 'charge',\n  'sense': 'm_en_gbus0169930.037',\n  'definition': 'an accusation, typically one formally made against a prisoner brought to trial',\n  'examples': ['he appeared in court on a charge of attempted murder']},\n {'word': 'charge',\n  'sense': 'm_en_gbus0169930.039',\n  'definition': 'responsibility for the care or control of someone or something',\n  'examples': ['the people in her charge are pupils and not experimental subjects']},\n {'word': 'charge',\n  'sense': 'm_en_gbus0169930.051',\n  'definition': 'a quantity of explosive to be detonated in order to fire a gun or similar weapon',\n  'examples': ['smaller charges, fired on three minute fuses lit by hand']},\n {'word': 'charge',\n  'sense': 'm_en_gbus0169930.053',\n  'definition': 'a headlong rush forward, typically in attack',\n  'examples': ['a cavalry charge']}]"
     },
     "execution_count": 69,
     "metadata": {},
     "output_type": "execute_result"
    }
   ],
   "source": [
    "senses"
   ],
   "metadata": {
    "collapsed": false
   }
  },
  {
   "cell_type": "code",
   "execution_count": 175,
   "outputs": [
    {
     "ename": "KeyboardInterrupt",
     "evalue": "",
     "output_type": "error",
     "traceback": [
      "\u001B[0;31m---------------------------------------------------------------------------\u001B[0m",
      "\u001B[0;31mKeyboardInterrupt\u001B[0m                         Traceback (most recent call last)",
      "Cell \u001B[0;32mIn[175], line 9\u001B[0m\n\u001B[1;32m      7\u001B[0m \u001B[38;5;28;01mfor\u001B[39;00m word \u001B[38;5;129;01min\u001B[39;00m full_text\u001B[38;5;241m.\u001B[39msplit(\u001B[38;5;124m'\u001B[39m\u001B[38;5;130;01m\\n\u001B[39;00m\u001B[38;5;124m'\u001B[39m):\n\u001B[1;32m      8\u001B[0m     \u001B[38;5;28;01mtry\u001B[39;00m:\n\u001B[0;32m----> 9\u001B[0m         out_dict \u001B[38;5;241m=\u001B[39m \u001B[43mrun_words\u001B[49m\u001B[43m(\u001B[49m\u001B[43mword\u001B[49m\u001B[43m)\u001B[49m\n\u001B[1;32m     10\u001B[0m         all_words\u001B[38;5;241m.\u001B[39mappend(out_dict)\n\u001B[1;32m     11\u001B[0m     \u001B[38;5;28;01mexcept\u001B[39;00m \u001B[38;5;167;01mValueError\u001B[39;00m:\n",
      "Cell \u001B[0;32mIn[131], line 24\u001B[0m, in \u001B[0;36mrun_words\u001B[0;34m(word)\u001B[0m\n\u001B[1;32m     22\u001B[0m \u001B[38;5;28;01mdef\u001B[39;00m \u001B[38;5;21mrun_words\u001B[39m(word:\u001B[38;5;28mstr\u001B[39m):\n\u001B[1;32m     23\u001B[0m     \u001B[38;5;28;01mfrom\u001B[39;00m \u001B[38;5;21;01mitertools\u001B[39;00m \u001B[38;5;28;01mimport\u001B[39;00m chain\n\u001B[0;32m---> 24\u001B[0m     senses_examples, sentences_examples \u001B[38;5;241m=\u001B[39m \u001B[43mprepare_api\u001B[49m\u001B[43m(\u001B[49m\u001B[43mword\u001B[49m\u001B[43m)\u001B[49m\n\u001B[1;32m     26\u001B[0m     \u001B[38;5;28;01mtry\u001B[39;00m:\n\u001B[1;32m     27\u001B[0m         senses_examples[\u001B[38;5;124m'\u001B[39m\u001B[38;5;124mresults\u001B[39m\u001B[38;5;124m'\u001B[39m]\n",
      "Cell \u001B[0;32mIn[131], line 15\u001B[0m, in \u001B[0;36mprepare_api\u001B[0;34m(word)\u001B[0m\n\u001B[1;32m     13\u001B[0m res_entries \u001B[38;5;241m=\u001B[39m requests\u001B[38;5;241m.\u001B[39mget(url_entries, headers \u001B[38;5;241m=\u001B[39m {\u001B[38;5;124m'\u001B[39m\u001B[38;5;124mapp_id\u001B[39m\u001B[38;5;124m'\u001B[39m : headers[\u001B[38;5;124m'\u001B[39m\u001B[38;5;124mapp_id\u001B[39m\u001B[38;5;124m'\u001B[39m], \u001B[38;5;124m'\u001B[39m\u001B[38;5;124mapp_key\u001B[39m\u001B[38;5;124m'\u001B[39m : headers[\u001B[38;5;124m'\u001B[39m\u001B[38;5;124mapp_key\u001B[39m\u001B[38;5;124m'\u001B[39m]})\n\u001B[1;32m     14\u001B[0m url_sentences \u001B[38;5;241m=\u001B[39m \u001B[38;5;124m'\u001B[39m\u001B[38;5;124mhttps://od-api.oxforddictionaries.com/api/v2/sentences/en/\u001B[39m\u001B[38;5;124m'\u001B[39m \u001B[38;5;241m+\u001B[39m word_id \u001B[38;5;241m+\u001B[39m \u001B[38;5;124m'\u001B[39m\u001B[38;5;124m?strictMatch=true\u001B[39m\u001B[38;5;124m'\u001B[39m\n\u001B[0;32m---> 15\u001B[0m res_sentences \u001B[38;5;241m=\u001B[39m \u001B[43mrequests\u001B[49m\u001B[38;5;241;43m.\u001B[39;49m\u001B[43mget\u001B[49m\u001B[43m(\u001B[49m\u001B[43murl_sentences\u001B[49m\u001B[43m,\u001B[49m\u001B[43m \u001B[49m\u001B[43mheaders\u001B[49m\u001B[43m \u001B[49m\u001B[38;5;241;43m=\u001B[39;49m\u001B[43m \u001B[49m\u001B[43m{\u001B[49m\u001B[38;5;124;43m'\u001B[39;49m\u001B[38;5;124;43mapp_id\u001B[39;49m\u001B[38;5;124;43m'\u001B[39;49m\u001B[43m \u001B[49m\u001B[43m:\u001B[49m\u001B[43m \u001B[49m\u001B[43mheaders\u001B[49m\u001B[43m[\u001B[49m\u001B[38;5;124;43m'\u001B[39;49m\u001B[38;5;124;43mapp_id\u001B[39;49m\u001B[38;5;124;43m'\u001B[39;49m\u001B[43m]\u001B[49m\u001B[43m,\u001B[49m\u001B[43m \u001B[49m\u001B[38;5;124;43m'\u001B[39;49m\u001B[38;5;124;43mapp_key\u001B[39;49m\u001B[38;5;124;43m'\u001B[39;49m\u001B[43m \u001B[49m\u001B[43m:\u001B[49m\u001B[43m \u001B[49m\u001B[43mheaders\u001B[49m\u001B[43m[\u001B[49m\u001B[38;5;124;43m'\u001B[39;49m\u001B[38;5;124;43mapp_key\u001B[39;49m\u001B[38;5;124;43m'\u001B[39;49m\u001B[43m]\u001B[49m\u001B[43m}\u001B[49m\u001B[43m)\u001B[49m\n\u001B[1;32m     17\u001B[0m senses_examples \u001B[38;5;241m=\u001B[39m json_load(res_entries)\n\u001B[1;32m     18\u001B[0m sentences_examples \u001B[38;5;241m=\u001B[39m json_load(res_sentences)\n",
      "File \u001B[0;32m~/Documents/TU Dortmund/Diachronic Embeddings/venv/lib/python3.9/site-packages/requests/api.py:73\u001B[0m, in \u001B[0;36mget\u001B[0;34m(url, params, **kwargs)\u001B[0m\n\u001B[1;32m     62\u001B[0m \u001B[38;5;28;01mdef\u001B[39;00m \u001B[38;5;21mget\u001B[39m(url, params\u001B[38;5;241m=\u001B[39m\u001B[38;5;28;01mNone\u001B[39;00m, \u001B[38;5;241m*\u001B[39m\u001B[38;5;241m*\u001B[39mkwargs):\n\u001B[1;32m     63\u001B[0m \u001B[38;5;250m    \u001B[39m\u001B[38;5;124mr\u001B[39m\u001B[38;5;124;03m\"\"\"Sends a GET request.\u001B[39;00m\n\u001B[1;32m     64\u001B[0m \n\u001B[1;32m     65\u001B[0m \u001B[38;5;124;03m    :param url: URL for the new :class:`Request` object.\u001B[39;00m\n\u001B[0;32m   (...)\u001B[0m\n\u001B[1;32m     70\u001B[0m \u001B[38;5;124;03m    :rtype: requests.Response\u001B[39;00m\n\u001B[1;32m     71\u001B[0m \u001B[38;5;124;03m    \"\"\"\u001B[39;00m\n\u001B[0;32m---> 73\u001B[0m     \u001B[38;5;28;01mreturn\u001B[39;00m \u001B[43mrequest\u001B[49m\u001B[43m(\u001B[49m\u001B[38;5;124;43m\"\u001B[39;49m\u001B[38;5;124;43mget\u001B[39;49m\u001B[38;5;124;43m\"\u001B[39;49m\u001B[43m,\u001B[49m\u001B[43m \u001B[49m\u001B[43murl\u001B[49m\u001B[43m,\u001B[49m\u001B[43m \u001B[49m\u001B[43mparams\u001B[49m\u001B[38;5;241;43m=\u001B[39;49m\u001B[43mparams\u001B[49m\u001B[43m,\u001B[49m\u001B[43m \u001B[49m\u001B[38;5;241;43m*\u001B[39;49m\u001B[38;5;241;43m*\u001B[39;49m\u001B[43mkwargs\u001B[49m\u001B[43m)\u001B[49m\n",
      "File \u001B[0;32m~/Documents/TU Dortmund/Diachronic Embeddings/venv/lib/python3.9/site-packages/requests/api.py:59\u001B[0m, in \u001B[0;36mrequest\u001B[0;34m(method, url, **kwargs)\u001B[0m\n\u001B[1;32m     55\u001B[0m \u001B[38;5;66;03m# By using the 'with' statement we are sure the session is closed, thus we\u001B[39;00m\n\u001B[1;32m     56\u001B[0m \u001B[38;5;66;03m# avoid leaving sockets open which can trigger a ResourceWarning in some\u001B[39;00m\n\u001B[1;32m     57\u001B[0m \u001B[38;5;66;03m# cases, and look like a memory leak in others.\u001B[39;00m\n\u001B[1;32m     58\u001B[0m \u001B[38;5;28;01mwith\u001B[39;00m sessions\u001B[38;5;241m.\u001B[39mSession() \u001B[38;5;28;01mas\u001B[39;00m session:\n\u001B[0;32m---> 59\u001B[0m     \u001B[38;5;28;01mreturn\u001B[39;00m \u001B[43msession\u001B[49m\u001B[38;5;241;43m.\u001B[39;49m\u001B[43mrequest\u001B[49m\u001B[43m(\u001B[49m\u001B[43mmethod\u001B[49m\u001B[38;5;241;43m=\u001B[39;49m\u001B[43mmethod\u001B[49m\u001B[43m,\u001B[49m\u001B[43m \u001B[49m\u001B[43murl\u001B[49m\u001B[38;5;241;43m=\u001B[39;49m\u001B[43murl\u001B[49m\u001B[43m,\u001B[49m\u001B[43m \u001B[49m\u001B[38;5;241;43m*\u001B[39;49m\u001B[38;5;241;43m*\u001B[39;49m\u001B[43mkwargs\u001B[49m\u001B[43m)\u001B[49m\n",
      "File \u001B[0;32m~/Documents/TU Dortmund/Diachronic Embeddings/venv/lib/python3.9/site-packages/requests/sessions.py:587\u001B[0m, in \u001B[0;36mSession.request\u001B[0;34m(self, method, url, params, data, headers, cookies, files, auth, timeout, allow_redirects, proxies, hooks, stream, verify, cert, json)\u001B[0m\n\u001B[1;32m    582\u001B[0m send_kwargs \u001B[38;5;241m=\u001B[39m {\n\u001B[1;32m    583\u001B[0m     \u001B[38;5;124m\"\u001B[39m\u001B[38;5;124mtimeout\u001B[39m\u001B[38;5;124m\"\u001B[39m: timeout,\n\u001B[1;32m    584\u001B[0m     \u001B[38;5;124m\"\u001B[39m\u001B[38;5;124mallow_redirects\u001B[39m\u001B[38;5;124m\"\u001B[39m: allow_redirects,\n\u001B[1;32m    585\u001B[0m }\n\u001B[1;32m    586\u001B[0m send_kwargs\u001B[38;5;241m.\u001B[39mupdate(settings)\n\u001B[0;32m--> 587\u001B[0m resp \u001B[38;5;241m=\u001B[39m \u001B[38;5;28;43mself\u001B[39;49m\u001B[38;5;241;43m.\u001B[39;49m\u001B[43msend\u001B[49m\u001B[43m(\u001B[49m\u001B[43mprep\u001B[49m\u001B[43m,\u001B[49m\u001B[43m \u001B[49m\u001B[38;5;241;43m*\u001B[39;49m\u001B[38;5;241;43m*\u001B[39;49m\u001B[43msend_kwargs\u001B[49m\u001B[43m)\u001B[49m\n\u001B[1;32m    589\u001B[0m \u001B[38;5;28;01mreturn\u001B[39;00m resp\n",
      "File \u001B[0;32m~/Documents/TU Dortmund/Diachronic Embeddings/venv/lib/python3.9/site-packages/requests/sessions.py:745\u001B[0m, in \u001B[0;36mSession.send\u001B[0;34m(self, request, **kwargs)\u001B[0m\n\u001B[1;32m    742\u001B[0m         \u001B[38;5;28;01mpass\u001B[39;00m\n\u001B[1;32m    744\u001B[0m \u001B[38;5;28;01mif\u001B[39;00m \u001B[38;5;129;01mnot\u001B[39;00m stream:\n\u001B[0;32m--> 745\u001B[0m     \u001B[43mr\u001B[49m\u001B[38;5;241;43m.\u001B[39;49m\u001B[43mcontent\u001B[49m\n\u001B[1;32m    747\u001B[0m \u001B[38;5;28;01mreturn\u001B[39;00m r\n",
      "File \u001B[0;32m~/Documents/TU Dortmund/Diachronic Embeddings/venv/lib/python3.9/site-packages/requests/models.py:899\u001B[0m, in \u001B[0;36mResponse.content\u001B[0;34m(self)\u001B[0m\n\u001B[1;32m    897\u001B[0m         \u001B[38;5;28mself\u001B[39m\u001B[38;5;241m.\u001B[39m_content \u001B[38;5;241m=\u001B[39m \u001B[38;5;28;01mNone\u001B[39;00m\n\u001B[1;32m    898\u001B[0m     \u001B[38;5;28;01melse\u001B[39;00m:\n\u001B[0;32m--> 899\u001B[0m         \u001B[38;5;28mself\u001B[39m\u001B[38;5;241m.\u001B[39m_content \u001B[38;5;241m=\u001B[39m \u001B[38;5;124;43mb\u001B[39;49m\u001B[38;5;124;43m\"\u001B[39;49m\u001B[38;5;124;43m\"\u001B[39;49m\u001B[38;5;241;43m.\u001B[39;49m\u001B[43mjoin\u001B[49m\u001B[43m(\u001B[49m\u001B[38;5;28;43mself\u001B[39;49m\u001B[38;5;241;43m.\u001B[39;49m\u001B[43miter_content\u001B[49m\u001B[43m(\u001B[49m\u001B[43mCONTENT_CHUNK_SIZE\u001B[49m\u001B[43m)\u001B[49m\u001B[43m)\u001B[49m \u001B[38;5;129;01mor\u001B[39;00m \u001B[38;5;124mb\u001B[39m\u001B[38;5;124m\"\u001B[39m\u001B[38;5;124m\"\u001B[39m\n\u001B[1;32m    901\u001B[0m \u001B[38;5;28mself\u001B[39m\u001B[38;5;241m.\u001B[39m_content_consumed \u001B[38;5;241m=\u001B[39m \u001B[38;5;28;01mTrue\u001B[39;00m\n\u001B[1;32m    902\u001B[0m \u001B[38;5;66;03m# don't need to release the connection; that's been handled by urllib3\u001B[39;00m\n\u001B[1;32m    903\u001B[0m \u001B[38;5;66;03m# since we exhausted the data.\u001B[39;00m\n",
      "File \u001B[0;32m~/Documents/TU Dortmund/Diachronic Embeddings/venv/lib/python3.9/site-packages/requests/models.py:816\u001B[0m, in \u001B[0;36mResponse.iter_content.<locals>.generate\u001B[0;34m()\u001B[0m\n\u001B[1;32m    814\u001B[0m \u001B[38;5;28;01mif\u001B[39;00m \u001B[38;5;28mhasattr\u001B[39m(\u001B[38;5;28mself\u001B[39m\u001B[38;5;241m.\u001B[39mraw, \u001B[38;5;124m\"\u001B[39m\u001B[38;5;124mstream\u001B[39m\u001B[38;5;124m\"\u001B[39m):\n\u001B[1;32m    815\u001B[0m     \u001B[38;5;28;01mtry\u001B[39;00m:\n\u001B[0;32m--> 816\u001B[0m         \u001B[38;5;28;01myield from\u001B[39;00m \u001B[38;5;28mself\u001B[39m\u001B[38;5;241m.\u001B[39mraw\u001B[38;5;241m.\u001B[39mstream(chunk_size, decode_content\u001B[38;5;241m=\u001B[39m\u001B[38;5;28;01mTrue\u001B[39;00m)\n\u001B[1;32m    817\u001B[0m     \u001B[38;5;28;01mexcept\u001B[39;00m ProtocolError \u001B[38;5;28;01mas\u001B[39;00m e:\n\u001B[1;32m    818\u001B[0m         \u001B[38;5;28;01mraise\u001B[39;00m ChunkedEncodingError(e)\n",
      "File \u001B[0;32m~/Documents/TU Dortmund/Diachronic Embeddings/venv/lib/python3.9/site-packages/urllib3/response.py:628\u001B[0m, in \u001B[0;36mHTTPResponse.stream\u001B[0;34m(self, amt, decode_content)\u001B[0m\n\u001B[1;32m    626\u001B[0m \u001B[38;5;28;01melse\u001B[39;00m:\n\u001B[1;32m    627\u001B[0m     \u001B[38;5;28;01mwhile\u001B[39;00m \u001B[38;5;129;01mnot\u001B[39;00m is_fp_closed(\u001B[38;5;28mself\u001B[39m\u001B[38;5;241m.\u001B[39m_fp):\n\u001B[0;32m--> 628\u001B[0m         data \u001B[38;5;241m=\u001B[39m \u001B[38;5;28;43mself\u001B[39;49m\u001B[38;5;241;43m.\u001B[39;49m\u001B[43mread\u001B[49m\u001B[43m(\u001B[49m\u001B[43mamt\u001B[49m\u001B[38;5;241;43m=\u001B[39;49m\u001B[43mamt\u001B[49m\u001B[43m,\u001B[49m\u001B[43m \u001B[49m\u001B[43mdecode_content\u001B[49m\u001B[38;5;241;43m=\u001B[39;49m\u001B[43mdecode_content\u001B[49m\u001B[43m)\u001B[49m\n\u001B[1;32m    630\u001B[0m         \u001B[38;5;28;01mif\u001B[39;00m data:\n\u001B[1;32m    631\u001B[0m             \u001B[38;5;28;01myield\u001B[39;00m data\n",
      "File \u001B[0;32m~/Documents/TU Dortmund/Diachronic Embeddings/venv/lib/python3.9/site-packages/urllib3/response.py:567\u001B[0m, in \u001B[0;36mHTTPResponse.read\u001B[0;34m(self, amt, decode_content, cache_content)\u001B[0m\n\u001B[1;32m    564\u001B[0m fp_closed \u001B[38;5;241m=\u001B[39m \u001B[38;5;28mgetattr\u001B[39m(\u001B[38;5;28mself\u001B[39m\u001B[38;5;241m.\u001B[39m_fp, \u001B[38;5;124m\"\u001B[39m\u001B[38;5;124mclosed\u001B[39m\u001B[38;5;124m\"\u001B[39m, \u001B[38;5;28;01mFalse\u001B[39;00m)\n\u001B[1;32m    566\u001B[0m \u001B[38;5;28;01mwith\u001B[39;00m \u001B[38;5;28mself\u001B[39m\u001B[38;5;241m.\u001B[39m_error_catcher():\n\u001B[0;32m--> 567\u001B[0m     data \u001B[38;5;241m=\u001B[39m \u001B[38;5;28;43mself\u001B[39;49m\u001B[38;5;241;43m.\u001B[39;49m\u001B[43m_fp_read\u001B[49m\u001B[43m(\u001B[49m\u001B[43mamt\u001B[49m\u001B[43m)\u001B[49m \u001B[38;5;28;01mif\u001B[39;00m \u001B[38;5;129;01mnot\u001B[39;00m fp_closed \u001B[38;5;28;01melse\u001B[39;00m \u001B[38;5;124mb\u001B[39m\u001B[38;5;124m\"\u001B[39m\u001B[38;5;124m\"\u001B[39m\n\u001B[1;32m    568\u001B[0m     \u001B[38;5;28;01mif\u001B[39;00m amt \u001B[38;5;129;01mis\u001B[39;00m \u001B[38;5;28;01mNone\u001B[39;00m:\n\u001B[1;32m    569\u001B[0m         flush_decoder \u001B[38;5;241m=\u001B[39m \u001B[38;5;28;01mTrue\u001B[39;00m\n",
      "File \u001B[0;32m~/Documents/TU Dortmund/Diachronic Embeddings/venv/lib/python3.9/site-packages/urllib3/response.py:533\u001B[0m, in \u001B[0;36mHTTPResponse._fp_read\u001B[0;34m(self, amt)\u001B[0m\n\u001B[1;32m    530\u001B[0m     \u001B[38;5;28;01mreturn\u001B[39;00m buffer\u001B[38;5;241m.\u001B[39mgetvalue()\n\u001B[1;32m    531\u001B[0m \u001B[38;5;28;01melse\u001B[39;00m:\n\u001B[1;32m    532\u001B[0m     \u001B[38;5;66;03m# StringIO doesn't like amt=None\u001B[39;00m\n\u001B[0;32m--> 533\u001B[0m     \u001B[38;5;28;01mreturn\u001B[39;00m \u001B[38;5;28;43mself\u001B[39;49m\u001B[38;5;241;43m.\u001B[39;49m\u001B[43m_fp\u001B[49m\u001B[38;5;241;43m.\u001B[39;49m\u001B[43mread\u001B[49m\u001B[43m(\u001B[49m\u001B[43mamt\u001B[49m\u001B[43m)\u001B[49m \u001B[38;5;28;01mif\u001B[39;00m amt \u001B[38;5;129;01mis\u001B[39;00m \u001B[38;5;129;01mnot\u001B[39;00m \u001B[38;5;28;01mNone\u001B[39;00m \u001B[38;5;28;01melse\u001B[39;00m \u001B[38;5;28mself\u001B[39m\u001B[38;5;241m.\u001B[39m_fp\u001B[38;5;241m.\u001B[39mread()\n",
      "File \u001B[0;32m/Library/Developer/CommandLineTools/Library/Frameworks/Python3.framework/Versions/3.9/lib/python3.9/http/client.py:459\u001B[0m, in \u001B[0;36mHTTPResponse.read\u001B[0;34m(self, amt)\u001B[0m\n\u001B[1;32m    456\u001B[0m \u001B[38;5;28;01mif\u001B[39;00m amt \u001B[38;5;129;01mis\u001B[39;00m \u001B[38;5;129;01mnot\u001B[39;00m \u001B[38;5;28;01mNone\u001B[39;00m:\n\u001B[1;32m    457\u001B[0m     \u001B[38;5;66;03m# Amount is given, implement using readinto\u001B[39;00m\n\u001B[1;32m    458\u001B[0m     b \u001B[38;5;241m=\u001B[39m \u001B[38;5;28mbytearray\u001B[39m(amt)\n\u001B[0;32m--> 459\u001B[0m     n \u001B[38;5;241m=\u001B[39m \u001B[38;5;28;43mself\u001B[39;49m\u001B[38;5;241;43m.\u001B[39;49m\u001B[43mreadinto\u001B[49m\u001B[43m(\u001B[49m\u001B[43mb\u001B[49m\u001B[43m)\u001B[49m\n\u001B[1;32m    460\u001B[0m     \u001B[38;5;28;01mreturn\u001B[39;00m \u001B[38;5;28mmemoryview\u001B[39m(b)[:n]\u001B[38;5;241m.\u001B[39mtobytes()\n\u001B[1;32m    461\u001B[0m \u001B[38;5;28;01melse\u001B[39;00m:\n\u001B[1;32m    462\u001B[0m     \u001B[38;5;66;03m# Amount is not given (unbounded read) so we must check self.length\u001B[39;00m\n\u001B[1;32m    463\u001B[0m     \u001B[38;5;66;03m# and self.chunked\u001B[39;00m\n",
      "File \u001B[0;32m/Library/Developer/CommandLineTools/Library/Frameworks/Python3.framework/Versions/3.9/lib/python3.9/http/client.py:503\u001B[0m, in \u001B[0;36mHTTPResponse.readinto\u001B[0;34m(self, b)\u001B[0m\n\u001B[1;32m    498\u001B[0m         b \u001B[38;5;241m=\u001B[39m \u001B[38;5;28mmemoryview\u001B[39m(b)[\u001B[38;5;241m0\u001B[39m:\u001B[38;5;28mself\u001B[39m\u001B[38;5;241m.\u001B[39mlength]\n\u001B[1;32m    500\u001B[0m \u001B[38;5;66;03m# we do not use _safe_read() here because this may be a .will_close\u001B[39;00m\n\u001B[1;32m    501\u001B[0m \u001B[38;5;66;03m# connection, and the user is reading more bytes than will be provided\u001B[39;00m\n\u001B[1;32m    502\u001B[0m \u001B[38;5;66;03m# (for example, reading in 1k chunks)\u001B[39;00m\n\u001B[0;32m--> 503\u001B[0m n \u001B[38;5;241m=\u001B[39m \u001B[38;5;28;43mself\u001B[39;49m\u001B[38;5;241;43m.\u001B[39;49m\u001B[43mfp\u001B[49m\u001B[38;5;241;43m.\u001B[39;49m\u001B[43mreadinto\u001B[49m\u001B[43m(\u001B[49m\u001B[43mb\u001B[49m\u001B[43m)\u001B[49m\n\u001B[1;32m    504\u001B[0m \u001B[38;5;28;01mif\u001B[39;00m \u001B[38;5;129;01mnot\u001B[39;00m n \u001B[38;5;129;01mand\u001B[39;00m b:\n\u001B[1;32m    505\u001B[0m     \u001B[38;5;66;03m# Ideally, we would raise IncompleteRead if the content-length\u001B[39;00m\n\u001B[1;32m    506\u001B[0m     \u001B[38;5;66;03m# wasn't satisfied, but it might break compatibility.\u001B[39;00m\n\u001B[1;32m    507\u001B[0m     \u001B[38;5;28mself\u001B[39m\u001B[38;5;241m.\u001B[39m_close_conn()\n",
      "File \u001B[0;32m/Library/Developer/CommandLineTools/Library/Frameworks/Python3.framework/Versions/3.9/lib/python3.9/socket.py:704\u001B[0m, in \u001B[0;36mSocketIO.readinto\u001B[0;34m(self, b)\u001B[0m\n\u001B[1;32m    702\u001B[0m \u001B[38;5;28;01mwhile\u001B[39;00m \u001B[38;5;28;01mTrue\u001B[39;00m:\n\u001B[1;32m    703\u001B[0m     \u001B[38;5;28;01mtry\u001B[39;00m:\n\u001B[0;32m--> 704\u001B[0m         \u001B[38;5;28;01mreturn\u001B[39;00m \u001B[38;5;28;43mself\u001B[39;49m\u001B[38;5;241;43m.\u001B[39;49m\u001B[43m_sock\u001B[49m\u001B[38;5;241;43m.\u001B[39;49m\u001B[43mrecv_into\u001B[49m\u001B[43m(\u001B[49m\u001B[43mb\u001B[49m\u001B[43m)\u001B[49m\n\u001B[1;32m    705\u001B[0m     \u001B[38;5;28;01mexcept\u001B[39;00m timeout:\n\u001B[1;32m    706\u001B[0m         \u001B[38;5;28mself\u001B[39m\u001B[38;5;241m.\u001B[39m_timeout_occurred \u001B[38;5;241m=\u001B[39m \u001B[38;5;28;01mTrue\u001B[39;00m\n",
      "File \u001B[0;32m/Library/Developer/CommandLineTools/Library/Frameworks/Python3.framework/Versions/3.9/lib/python3.9/ssl.py:1241\u001B[0m, in \u001B[0;36mSSLSocket.recv_into\u001B[0;34m(self, buffer, nbytes, flags)\u001B[0m\n\u001B[1;32m   1237\u001B[0m     \u001B[38;5;28;01mif\u001B[39;00m flags \u001B[38;5;241m!=\u001B[39m \u001B[38;5;241m0\u001B[39m:\n\u001B[1;32m   1238\u001B[0m         \u001B[38;5;28;01mraise\u001B[39;00m \u001B[38;5;167;01mValueError\u001B[39;00m(\n\u001B[1;32m   1239\u001B[0m           \u001B[38;5;124m\"\u001B[39m\u001B[38;5;124mnon-zero flags not allowed in calls to recv_into() on \u001B[39m\u001B[38;5;132;01m%s\u001B[39;00m\u001B[38;5;124m\"\u001B[39m \u001B[38;5;241m%\u001B[39m\n\u001B[1;32m   1240\u001B[0m           \u001B[38;5;28mself\u001B[39m\u001B[38;5;241m.\u001B[39m\u001B[38;5;18m__class__\u001B[39m)\n\u001B[0;32m-> 1241\u001B[0m     \u001B[38;5;28;01mreturn\u001B[39;00m \u001B[38;5;28;43mself\u001B[39;49m\u001B[38;5;241;43m.\u001B[39;49m\u001B[43mread\u001B[49m\u001B[43m(\u001B[49m\u001B[43mnbytes\u001B[49m\u001B[43m,\u001B[49m\u001B[43m \u001B[49m\u001B[43mbuffer\u001B[49m\u001B[43m)\u001B[49m\n\u001B[1;32m   1242\u001B[0m \u001B[38;5;28;01melse\u001B[39;00m:\n\u001B[1;32m   1243\u001B[0m     \u001B[38;5;28;01mreturn\u001B[39;00m \u001B[38;5;28msuper\u001B[39m()\u001B[38;5;241m.\u001B[39mrecv_into(buffer, nbytes, flags)\n",
      "File \u001B[0;32m/Library/Developer/CommandLineTools/Library/Frameworks/Python3.framework/Versions/3.9/lib/python3.9/ssl.py:1099\u001B[0m, in \u001B[0;36mSSLSocket.read\u001B[0;34m(self, len, buffer)\u001B[0m\n\u001B[1;32m   1097\u001B[0m \u001B[38;5;28;01mtry\u001B[39;00m:\n\u001B[1;32m   1098\u001B[0m     \u001B[38;5;28;01mif\u001B[39;00m buffer \u001B[38;5;129;01mis\u001B[39;00m \u001B[38;5;129;01mnot\u001B[39;00m \u001B[38;5;28;01mNone\u001B[39;00m:\n\u001B[0;32m-> 1099\u001B[0m         \u001B[38;5;28;01mreturn\u001B[39;00m \u001B[38;5;28;43mself\u001B[39;49m\u001B[38;5;241;43m.\u001B[39;49m\u001B[43m_sslobj\u001B[49m\u001B[38;5;241;43m.\u001B[39;49m\u001B[43mread\u001B[49m\u001B[43m(\u001B[49m\u001B[38;5;28;43mlen\u001B[39;49m\u001B[43m,\u001B[49m\u001B[43m \u001B[49m\u001B[43mbuffer\u001B[49m\u001B[43m)\u001B[49m\n\u001B[1;32m   1100\u001B[0m     \u001B[38;5;28;01melse\u001B[39;00m:\n\u001B[1;32m   1101\u001B[0m         \u001B[38;5;28;01mreturn\u001B[39;00m \u001B[38;5;28mself\u001B[39m\u001B[38;5;241m.\u001B[39m_sslobj\u001B[38;5;241m.\u001B[39mread(\u001B[38;5;28mlen\u001B[39m)\n",
      "\u001B[0;31mKeyboardInterrupt\u001B[0m: "
     ]
    }
   ],
   "source": [
    "## Read words and load into json file:\n",
    "TARGET_WORDS_PATH = '../data/target_words/target.txt'\n",
    "with open(TARGET_WORDS_PATH) as f:\n",
    "    full_text = f.read()\n",
    "\n",
    "all_words = []\n",
    "for word in full_text.split('\\n'):\n",
    "    try:\n",
    "        out_dict = run_words(word)\n",
    "        all_words.append(out_dict)\n",
    "    except ValueError:\n",
    "        continue\n",
    "\n",
    "all_words"
   ],
   "metadata": {
    "collapsed": false
   }
  },
  {
   "cell_type": "code",
   "execution_count": 169,
   "outputs": [],
   "source": [
    "def look_for_poly():\n",
    "    for word in all_words:\n",
    "        if len(word) > 4:\n",
    "            yield word[0]['word']\n",
    "\n",
    "# with open('../News-data-project/target words/senses_oxford_api.txt', 'w') as f:\n",
    "#     json.dump(list(look_for_poly()), f, indent=4)"
   ],
   "metadata": {
    "collapsed": false
   }
  },
  {
   "cell_type": "code",
   "execution_count": 172,
   "outputs": [
    {
     "data": {
      "text/plain": "['state', 'right', 'around', 'black', 'force', 'interest', 'support', 'charge']"
     },
     "execution_count": 172,
     "metadata": {},
     "output_type": "execute_result"
    }
   ],
   "source": [
    "list(look_for_poly())"
   ],
   "metadata": {
    "collapsed": false
   }
  },
  {
   "cell_type": "code",
   "execution_count": 105,
   "outputs": [
    {
     "name": "stdout",
     "output_type": "stream",
     "text": [
      "[('That', 'DT'), ('year', 'NN'), ('he', 'PRP'), ('moved', 'VBD'), ('to', 'TO'), ('London', 'NNP'), ('but', 'CC'), ('his', 'PRP$'), ('love', 'NN'), ('for', 'IN'), ('Wales', 'NNP'), ('was', 'VBD'), ('strong', 'JJ'), ('and', 'CC'), ('he', 'PRP'), ('eventually', 'RB'), ('settled', 'VBD'), ('permanently', 'RB'), ('there', 'RB'), ('.', '.')]\n",
      "\n",
      "\n",
      "[('His', 'PRP$'), ('love', 'NN'), ('for', 'IN'), ('children', 'NNS'), ('and', 'CC'), ('affection', 'NN'), ('for', 'IN'), ('the', 'DT'), ('sick', 'NN'), ('have', 'VBP'), ('endeared', 'VBN'), ('him', 'PRP'), ('to', 'TO'), ('all', 'DT'), ('.', '.')]\n",
      "\n",
      "\n",
      "[('My', 'PRP$'), ('brother', 'NN'), (',', ','), ('and', 'CC'), ('his', 'PRP$'), ('real', 'JJ'), (',', ','), ('strong', 'JJ'), ('love', 'NN'), ('for', 'IN'), ('me', 'PRP'), ('that', 'DT'), ('was', 'VBD'), ('able', 'JJ'), ('to', 'TO'), ('pull', 'VB'), ('me', 'PRP'), ('back', 'RB'), ('into', 'IN'), ('the', 'DT'), ('world', 'NN'), ('I', 'PRP'), ('know', 'VBP'), ('.', '.')]\n",
      "\n",
      "\n",
      "[('Each', 'DT'), ('one', 'CD'), ('is', 'VBZ'), ('very', 'RB'), ('powerful', 'JJ'), (',', ','), ('but', 'CC'), ('none', 'NN'), ('of', 'IN'), ('them', 'PRP'), ('is', 'VBZ'), ('as', 'RB'), ('strong', 'JJ'), ('as', 'IN'), ('your', 'PRP$'), ('love', 'NN'), ('for', 'IN'), ('your', 'PRP$'), ('daughter', 'NN'), ('.', '.')]\n",
      "\n",
      "\n",
      "[('There', 'EX'), ('is', 'VBZ'), ('no', 'DT'), ('romance', 'NN'), ('involved', 'VBN'), (',', ','), ('still', 'RB'), ('the', 'DT'), ('affection', 'NN'), ('and', 'CC'), ('love', 'VB'), ('for', 'IN'), ('a', 'DT'), ('friend', 'NN'), ('is', 'VBZ'), ('implied', 'VBN'), ('and', 'CC'), ('understood', 'NN'), ('.', '.')]\n",
      "\n",
      "\n",
      "[('Yet', 'RB'), ('they', 'PRP'), ('still', 'RB'), ('retain', 'VBP'), ('a', 'DT'), ('strong', 'JJ'), ('love', 'NN'), ('for', 'IN'), ('their', 'PRP$'), ('mother', 'NN'), ('land', 'NN'), (',', ','), ('its', 'PRP$'), ('culture', 'NN'), ('and', 'CC'), ('its', 'PRP$'), ('traditions', 'NNS'), ('.', '.')]\n",
      "\n",
      "\n",
      "[('The', 'DT'), ('long', 'JJ'), ('periods', 'NNS'), ('of', 'IN'), ('separation', 'NN'), ('never', 'RB'), ('affected', 'VBD'), ('her', 'PRP'), ('love', 'NN'), ('for', 'IN'), ('her', 'PRP$'), ('mother', 'NN'), ('.', '.')]\n",
      "\n",
      "\n",
      "[('He', 'PRP'), ('was', 'VBD'), ('acting', 'VBG'), ('on', 'IN'), ('his', 'PRP$'), ('love', 'NN'), ('for', 'IN'), ('her', 'PRP$'), ('and', 'CC'), ('his', 'PRP$'), ('strong', 'JJ'), ('need', 'NN'), ('to', 'TO'), ('make', 'VB'), ('sure', 'JJ'), ('that', 'IN'), ('she', 'PRP'), ('and', 'CC'), ('their', 'PRP$'), ('baby', 'NN'), ('were', 'VBD'), ('being', 'VBG'), ('taken', 'VBN'), ('care', 'NN'), ('of', 'IN'), ('.', '.')]\n",
      "\n",
      "\n",
      "[('But', 'CC'), ('the', 'DT'), ('biggest', 'JJS'), ('thing', 'NN'), ('in', 'IN'), ('Amanda', 'NNP'), (\"'s\", 'POS'), ('life', 'NN'), ('was', 'VBD'), ('children', 'NNS'), (',', ','), ('her', 'PRP$'), ('incredible', 'JJ'), ('love', 'NN'), ('for', 'IN'), ('them', 'PRP'), ('and', 'CC'), ('devotion', 'NN'), ('to', 'TO'), ('them', 'PRP'), ('.', '.')]\n",
      "\n",
      "\n",
      "[('The', 'DT'), ('conscientious', 'JJ'), ('objectors', 'NNS'), ('have', 'VBP'), ('nothing', 'NN'), ('but', 'CC'), ('admiration', 'NN'), (',', ','), ('pride', 'NN'), ('and', 'CC'), ('love', 'VB'), ('for', 'IN'), ('their', 'PRP$'), ('homeland', 'NN'), ('.', '.')]\n",
      "\n",
      "\n",
      "[('In', 'IN'), ('my', 'PRP$'), ('book', 'NN'), (',', ','), ('a', 'DT'), ('mother', 'NN'), (\"'s\", 'POS'), ('love', 'NN'), ('for', 'IN'), ('her', 'PRP$'), ('child', 'NN'), ('is', 'VBZ'), ('the', 'DT'), ('highest', 'JJS'), ('form', 'NN'), ('of', 'IN'), ('human', 'JJ'), ('love', 'NN'), ('.', '.')]\n",
      "\n",
      "\n",
      "[('In', 'IN'), ('short', 'JJ'), (',', ','), ('how', 'WRB'), ('can', 'MD'), ('there', 'RB'), ('be', 'VB'), ('love', 'JJR'), ('for', 'IN'), ('the', 'DT'), ('country', 'NN'), ('without', 'IN'), ('love', 'NN'), ('for', 'IN'), ('the', 'DT'), ('people', 'NNS'), ('?', '.')]\n",
      "\n",
      "\n",
      "[('His', 'PRP$'), ('devotion', 'NN'), ('to', 'TO'), ('his', 'PRP$'), ('work', 'NN'), ('and', 'CC'), ('his', 'PRP$'), ('love', 'NN'), ('for', 'IN'), ('children', 'NNS'), ('made', 'VBD'), ('him', 'PRP'), ('popular', 'JJ'), ('with', 'IN'), ('both', 'DT'), ('pupils', 'NNS'), ('and', 'CC'), ('parents', 'NNS'), ('.', '.')]\n",
      "\n",
      "\n",
      "[('It', 'PRP'), ('is', 'VBZ'), ('a', 'DT'), ('moving', 'VBG'), ('account', 'NN'), ('of', 'IN'), ('his', 'PRP$'), ('time', 'NN'), ('in', 'IN'), ('Chile', 'NNP'), (',', ','), ('his', 'PRP$'), ('love', 'NN'), ('for', 'IN'), ('the', 'DT'), ('people', 'NNS'), ('and', 'CC'), ('their', 'PRP$'), ('love', 'NN'), ('for', 'IN'), ('him', 'PRP'), ('.', '.')]\n",
      "\n",
      "\n",
      "[('If', 'IN'), ('there', 'EX'), ('is', 'VBZ'), ('one', 'CD'), ('thing', 'NN'), ('to', 'TO'), ('beat', 'VB'), ('crime', 'NN'), ('it', 'PRP'), ('is', 'VBZ'), ('love', 'RBR'), (',', ','), ('love', 'VB'), ('for', 'IN'), ('our', 'PRP$'), ('children', 'NNS'), (',', ','), ('love', 'NN'), ('for', 'IN'), ('our', 'PRP$'), ('family', 'NN'), ('and', 'CC'), ('friends', 'NNS'), (',', ','), ('and', 'CC'), ('love', 'VB'), ('for', 'IN'), ('all', 'DT'), ('!', '.')]\n",
      "\n",
      "\n",
      "[('He', 'PRP'), ('has', 'VBZ'), ('expressed', 'VBN'), ('his', 'PRP$'), ('love', 'NN'), ('for', 'IN'), ('his', 'PRP$'), ('mother', 'NN'), ('in', 'IN'), ('the', 'DT'), ('most', 'RBS'), ('tender', 'NN'), (',', ','), ('touching', 'VBG'), ('terms', 'NNS'), ('.', '.')]\n",
      "\n",
      "\n",
      "[('Is', 'VBZ'), ('it', 'PRP'), ('a', 'DT'), ('story', 'NN'), ('about', 'IN'), ('love', 'NN'), ('for', 'IN'), ('your', 'PRP$'), ('family', 'NN'), (',', ','), ('love', 'VB'), ('for', 'IN'), ('your', 'PRP$'), ('country', 'NN'), (',', ','), ('a', 'DT'), ('revolution', 'NN'), ('.', '.')]\n",
      "\n",
      "\n",
      "[('I', 'PRP'), ('guess', 'VBP'), ('Michael', 'NNP'), ('and', 'CC'), ('I', 'PRP'), ('were', 'VBD'), ('trying', 'VBG'), ('to', 'TO'), ('find', 'VB'), ('a', 'DT'), ('way', 'NN'), ('to', 'TO'), ('express', 'VB'), ('our', 'PRP$'), ('brotherly', 'JJ'), ('love', 'NN'), ('for', 'IN'), ('one', 'CD'), ('another', 'DT'), ('.', '.')]\n",
      "\n",
      "\n",
      "[('Brotherly', 'NNP'), ('love', 'NN'), ('comes', 'VBZ'), ('at', 'IN'), ('a', 'DT'), ('price', 'NN'), (',', ','), ('it', 'PRP'), ('seems', 'VBZ'), ('.', '.')]\n",
      "\n",
      "\n",
      "[('``', '``'), ('I', 'PRP'), (',', ','), ('too', 'RB'), (',', ','), ('have', 'VBP'), ('known', 'VBN'), ('a', 'DT'), ('mother', 'NN'), (\"'s\", 'POS'), ('love', 'NN'), ('for', 'IN'), ('her', 'PRP$'), ('child', 'NN'), ('.', '.')]\n",
      "\n",
      "\n",
      "[('babies', 'NNS'), ('fill', 'VBP'), ('parents', 'NNS'), ('with', 'IN'), ('feelings', 'NNS'), ('of', 'IN'), ('love', 'NN')]\n",
      "\n",
      "\n",
      "[('their', 'PRP$'), ('love', 'NN'), ('for', 'IN'), ('their', 'PRP$'), ('country', 'NN')]\n",
      "\n",
      "\n",
      "[('Willie', 'NNP'), ('was', 'VBD'), ('the', 'DT'), ('local', 'JJ'), ('historian', 'NN'), (',', ','), ('a', 'DT'), ('very', 'RB'), ('popular', 'JJ'), ('man', 'NN'), ('who', 'WP'), ('had', 'VBD'), ('a', 'DT'), ('great', 'JJ'), ('interest', 'NN'), ('and', 'CC'), ('love', 'NN'), ('of', 'IN'), ('his', 'PRP$'), ('locality', 'NN'), ('.', '.')]\n",
      "\n",
      "\n",
      "[('I', 'PRP'), ('had', 'VBD'), ('a', 'DT'), ('great', 'JJ'), ('interest', 'NN'), ('and', 'CC'), ('love', 'NN'), ('of', 'IN'), ('music', 'NN'), (',', ','), ('and', 'CC'), ('music', 'NN'), ('was', 'VBD'), ('always', 'RB'), ('a', 'DT'), ('part', 'NN'), ('of', 'IN'), ('the', 'DT'), ('family', 'NN'), (',', ','), ('but', 'CC'), ('no', 'DT'), ('one', 'NN'), ('had', 'VBD'), ('ever', 'RB'), ('pursued', 'VBN'), ('it', 'PRP'), ('.', '.')]\n",
      "\n",
      "\n",
      "[('You', 'PRP'), (\"'ll\", 'MD'), ('need', 'VB'), ('to', 'TO'), ('read', 'VB'), ('this', 'DT'), ('book', 'NN'), ('to', 'TO'), ('taste', 'VB'), ('his', 'PRP$'), ('love', 'NN'), ('of', 'IN'), ('the', 'DT'), ('hurley', 'NN'), (',', ','), ('the', 'DT'), ('alley', 'NN'), ('and', 'CC'), ('hurling', 'VBG'), ('itself', 'PRP'), ('.', '.')]\n",
      "\n",
      "\n",
      "[('But', 'CC'), ('he', 'PRP'), ('is', 'VBZ'), ('one', 'CD'), ('of', 'IN'), ('life', 'NN'), (\"'s\", 'POS'), ('great', 'JJ'), ('enthusiasts', 'NNS'), ('and', 'CC'), ('his', 'PRP$'), ('love', 'NN'), ('of', 'IN'), ('his', 'PRP$'), ('subject', 'NN'), ('is', 'VBZ'), ('getting', 'VBG'), ('quite', 'RB'), ('infectious', 'JJ'), ('.', '.')]\n",
      "\n",
      "\n",
      "[('Ian', 'NNP'), ('drinks', 'VBZ'), ('his', 'PRP$'), ('coffee', 'NN'), ('and', 'CC'), ('talks', 'NNS'), ('enthusiastically', 'RB'), ('about', 'IN'), ('his', 'PRP$'), ('love', 'NN'), ('of', 'IN'), ('singing', 'NN'), ('.', '.')]\n",
      "\n",
      "\n",
      "[('She', 'PRP'), ('dwells', 'VBZ'), ('on', 'IN'), ('her', 'PRP$'), ('charming', 'NN'), ('manner', 'NN'), (',', ','), ('love', 'NN'), ('of', 'IN'), ('clothes', 'NNS'), (',', ','), ('loyalty', 'NN'), ('to', 'TO'), ('her', 'PRP$'), ('brother', 'NN'), ('and', 'CC'), (',', ','), ('in', 'IN'), ('later', 'JJ'), ('life', 'NN'), (',', ','), ('to', 'TO'), ('her', 'PRP$'), ('adoptive', 'JJ'), ('city', 'NN'), ('.', '.')]\n",
      "\n",
      "\n",
      "[('And', 'CC'), ('these', 'DT'), ('days', 'NNS'), ('he', 'PRP'), ('loves', 'VBZ'), ('nothing', 'NN'), ('more', 'JJR'), ('than', 'IN'), ('combining', 'VBG'), ('his', 'PRP$'), ('love', 'NN'), ('of', 'IN'), ('running', 'VBG'), ('with', 'IN'), ('his', 'PRP$'), ('passion', 'NN'), ('for', 'IN'), ('travel', 'NN'), ('.', '.')]\n",
      "\n",
      "\n",
      "[('So', 'RB'), ('passionate', 'NN'), ('is', 'VBZ'), ('my', 'PRP$'), ('love', 'NN'), ('of', 'IN'), ('opera', 'NN'), (',', ','), ('that', 'IN'), ('I', 'PRP'), ('crave', 'VBP'), ('any', 'DT'), ('activity', 'NN'), ('that', 'IN'), ('extends', 'VBZ'), ('my', 'PRP$'), ('time', 'NN'), ('in', 'IN'), ('the', 'DT'), ('Arts', 'NNP'), ('Centre', 'NNP'), ('.', '.')]\n",
      "\n",
      "\n",
      "[('Though', 'IN'), ('coming', 'VBG'), ('from', 'IN'), ('a', 'DT'), ('football', 'NN'), ('heartland', 'NN'), (',', ','), ('he', 'PRP'), ('had', 'VBD'), ('an', 'DT'), ('even', 'RB'), ('bigger', 'JJR'), ('interest', 'NN'), ('and', 'CC'), ('love', 'VB'), ('for', 'IN'), ('hurling', 'NN'), ('.', '.')]\n",
      "\n",
      "\n",
      "[('Liam', 'NNP'), ('in', 'IN'), ('his', 'PRP$'), ('reply', 'NN'), ('spoke', 'NN'), ('of', 'IN'), ('his', 'PRP$'), ('love', 'NN'), ('of', 'IN'), ('the', 'DT'), ('game', 'NN'), ('and', 'CC'), ('the', 'DT'), ('enjoyment', 'NN'), ('he', 'PRP'), ('still', 'RB'), ('gets', 'VBZ'), ('out', 'IN'), ('of', 'IN'), ('coaching', 'NN'), ('.', '.')]\n",
      "\n",
      "\n",
      "[('He', 'PRP'), ('is', 'VBZ'), ('remembered', 'VBN'), ('for', 'IN'), ('his', 'PRP$'), ('joviality', 'NN'), ('and', 'CC'), ('zest', 'NN'), ('for', 'IN'), ('life', 'NN'), ('and', 'CC'), ('love', 'NN'), ('of', 'IN'), ('the', 'DT'), ('game', 'NN'), ('.', '.')]\n",
      "\n",
      "\n",
      "[('He', 'PRP'), ('turned', 'VBD'), ('his', 'PRP$'), ('love', 'NN'), ('of', 'IN'), ('surfing', 'VBG'), ('into', 'IN'), ('a', 'DT'), ('company', 'NN'), ('worth', 'VBZ'), ('more', 'JJR'), ('than', 'IN'), ('half', 'PDT'), ('a', 'DT'), ('billion', 'CD'), ('dollars', 'NNS'), ('.', '.')]\n",
      "\n",
      "\n",
      "[('His', 'PRP$'), ('love', 'NN'), ('of', 'IN'), ('animals', 'NNS'), ('preceded', 'VBD'), ('his', 'PRP$'), ('love', 'NN'), ('of', 'IN'), ('gardening', 'NN'), (',', ','), ('and', 'CC'), ('he', 'PRP'), ('says', 'VBZ'), ('a', 'DT'), ('good', 'JJ'), ('gardener', 'NN'), ('is', 'VBZ'), ('automatically', 'RB'), ('a', 'DT'), ('naturalist', 'NN'), ('.', '.')]\n",
      "\n",
      "\n",
      "[('He', 'PRP'), ('loved', 'VBD'), ('his', 'PRP$'), ('music', 'NN'), ('and', 'CC'), ('he', 'PRP'), ('passed', 'VBD'), ('on', 'IN'), ('his', 'PRP$'), ('love', 'NN'), ('for', 'IN'), ('music', 'NN'), ('to', 'TO'), ('his', 'PRP$'), ('children', 'NNS'), ('.', '.')]\n",
      "\n",
      "\n",
      "[('He', 'PRP'), ('lived', 'VBD'), ('on', 'IN'), ('a', 'DT'), ('farm', 'NN'), ('in', 'IN'), ('the', 'DT'), ('country', 'NN'), ('and', 'CC'), ('grew', 'VBD'), ('up', 'RP'), ('with', 'IN'), ('an', 'DT'), ('appreciation', 'NN'), ('and', 'CC'), ('love', 'NN'), ('for', 'IN'), ('nature', 'NN'), ('.', '.')]\n",
      "\n",
      "\n",
      "[('Years', 'NNS'), ('later', 'RB'), ('he', 'PRP'), ('has', 'VBZ'), ('combined', 'VBN'), ('his', 'PRP$'), ('love', 'NN'), ('for', 'IN'), ('zoology', 'NN'), ('with', 'IN'), ('his', 'PRP$'), ('appreciation', 'NN'), ('of', 'IN'), ('the', 'DT'), ('female', 'JJ'), ('form', 'NN'), ('.', '.')]\n",
      "\n",
      "\n",
      "[('Though', 'IN'), ('her', 'PRP$'), ('appreciation', 'NN'), ('and', 'CC'), ('love', 'NN'), ('for', 'IN'), ('music', 'NN'), ('never', 'RB'), ('subsided', 'VBD'), (',', ','), ('Jen', 'NNP'), ('did', 'VBD'), ('not', 'RB'), ('actively', 'RB'), ('compose', 'VB'), ('again', 'RB'), ('for', 'IN'), ('several', 'JJ'), ('years', 'NNS'), ('.', '.')]\n",
      "\n",
      "\n",
      "[('There', 'EX'), ('is', 'VBZ'), ('no', 'DT'), ('questioning', 'VBG'), ('his', 'PRP$'), ('enthusiasm', 'NN'), ('and', 'CC'), ('love', 'NN'), ('for', 'IN'), ('the', 'DT'), ('game', 'NN'), ('and', 'CC'), ('you', 'PRP'), ('are', 'VBP'), ('always', 'RB'), ('off', 'IN'), ('to', 'TO'), ('a', 'DT'), ('good', 'JJ'), ('start', 'NN'), ('when', 'WRB'), ('you', 'PRP'), ('have', 'VBP'), ('that', 'DT'), ('kind', 'NN'), ('of', 'IN'), ('passion', 'NN'), ('.', '.')]\n",
      "\n",
      "\n",
      "[('The', 'DT'), ('fact', 'NN'), ('that', 'IN'), ('you', 'PRP'), ('would', 'MD'), ('do', 'VB'), ('it', 'PRP'), ('for', 'IN'), ('free', 'JJ'), ('is', 'VBZ'), ('just', 'RB'), ('an', 'DT'), ('indicator', 'NN'), ('of', 'IN'), ('your', 'PRP$'), ('passion', 'NN'), ('and', 'CC'), ('love', 'NN'), ('for', 'IN'), ('it', 'PRP'), ('.', '.')]\n",
      "\n",
      "\n",
      "[('They', 'PRP'), ('share', 'NN'), ('a', 'DT'), ('mutual', 'JJ'), ('love', 'NN'), ('of', 'IN'), ('music', 'NN'), ('and', 'CC'), ('both', 'DT'), ('are', 'VBP'), ('very', 'RB'), ('deep', 'JJ'), ('thinkers', 'NNS'), ('.', '.')]\n",
      "\n",
      "\n",
      "[('his', 'PRP$'), ('love', 'NN'), ('for', 'IN'), ('football', 'NN')]\n",
      "\n",
      "\n",
      "[('we', 'PRP'), ('share', 'NN'), ('a', 'DT'), ('love', 'NN'), ('of', 'IN'), ('music', 'NN')]\n",
      "\n",
      "\n",
      "[('By', 'IN'), ('the', 'DT'), ('end', 'NN'), ('of', 'IN'), ('the', 'DT'), ('trip', 'NN'), ('I', 'PRP'), ('knew', 'VBD'), ('she', 'PRP'), ('had', 'VBD'), ('two', 'CD'), ('loves', 'NNS'), (';', ':'), ('her', 'PRP$'), ('son', 'NN'), ('and', 'CC'), ('her', 'PRP$'), ('carpets', 'NNS'), ('.', '.')]\n",
      "\n",
      "\n",
      "[('This', 'DT'), ('tale', 'NN'), ('of', 'IN'), ('country', 'NN'), ('folk', 'NN'), (',', ','), ('their', 'PRP$'), ('loves', 'NNS'), ('and', 'CC'), ('hates', 'NNS'), (',', ','), ('their', 'PRP$'), ('customs', 'NNS'), (',', ','), ('is', 'VBZ'), ('like', 'IN'), ('a', 'DT'), ('prescription', 'NN'), ('for', 'IN'), ('our', 'PRP$'), ('troubled', 'JJ'), ('age', 'NN'), ('.', '.')]\n",
      "\n",
      "\n",
      "[('The', 'DT'), ('prolific', 'JJ'), ('writer', 'NN'), ('spent', 'VBD'), ('his', 'PRP$'), ('life', 'NN'), ('combining', 'VBG'), ('his', 'PRP$'), ('two', 'CD'), ('great', 'JJ'), ('loves', 'NNS'), ('-', ':'), ('writing', 'NN'), ('and', 'CC'), ('the', 'DT'), ('Lake', 'NNP'), ('District', 'NNP'), ('.', '.')]\n",
      "\n",
      "\n",
      "[('By', 'IN'), ('the', 'DT'), ('time', 'NN'), ('he', 'PRP'), ('was', 'VBD'), ('a', 'DT'), ('young', 'JJ'), ('man', 'NN'), (',', ','), ('his', 'PRP$'), ('two', 'CD'), ('great', 'JJ'), ('loves', 'NNS'), (',', ','), ('politics', 'NNS'), ('and', 'CC'), ('horse-racing', 'NN'), (',', ','), ('soon', 'RB'), ('became', 'VBD'), ('apparent', 'JJ'), ('.', '.')]\n",
      "\n",
      "\n",
      "[('She', 'PRP'), ('was', 'VBD'), ('a', 'DT'), ('young', 'JJ'), ('woman', 'NN'), ('who', 'WP'), ('had', 'VBD'), ('many', 'JJ'), ('loves', 'NNS'), ('in', 'IN'), ('her', 'PRP$'), ('life', 'NN'), ('-', ':'), ('most', 'JJS'), ('of', 'IN'), ('which', 'WDT'), ('revolved', 'VBD'), ('around', 'IN'), ('her', 'PRP$'), ('family', 'NN'), ('.', '.')]\n",
      "\n",
      "\n",
      "[('His', 'PRP$'), ('chief', 'NN'), ('love', 'NN'), ('is', 'VBZ'), ('painting', 'VBG'), (',', ','), ('sorry', 'NN'), (',', ','), ('his', 'PRP$'), ('two', 'CD'), ('chief', 'NN'), ('loves', 'NNS'), ('are', 'VBP'), ('painting', 'VBG'), ('and', 'CC'), ('some', 'DT'), ('old', 'JJ'), ('guru', 'NN'), ('or', 'CC'), ('other', 'JJ'), ('.', '.')]\n",
      "\n",
      "\n",
      "[('She', 'PRP'), ('is', 'VBZ'), ('fascinated', 'VBN'), ('with', 'IN'), ('history', 'NN'), ('and', 'CC'), ('theatre', 'NN'), (',', ','), ('two', 'CD'), ('loves', 'NNS'), ('passed', 'VBD'), ('down', 'RB'), ('from', 'IN'), ('her', 'PRP$'), ('mother', 'NN'), ('.', '.')]\n",
      "\n",
      "\n",
      "[('While', 'IN'), ('she', 'PRP'), ('was', 'VBD'), ('a', 'DT'), ('singer', 'NN'), ('first', 'RB'), ('and', 'CC'), ('foremost', 'RB'), (',', ','), ('she', 'PRP'), ('is', 'VBZ'), ('loathe', 'JJ'), ('to', 'TO'), ('choose', 'VB'), ('between', 'IN'), ('her', 'PRP'), ('two', 'CD'), ('loves', 'NNS'), ('.', '.')]\n",
      "\n",
      "\n",
      "[('My', 'PRP$'), ('job', 'NN'), ('and', 'CC'), ('my', 'PRP$'), ('family', 'NN'), ('are', 'VBP'), ('both', 'DT'), ('great', 'JJ'), ('loves', 'NNS'), ('of', 'IN'), ('my', 'PRP$'), ('life', 'NN'), ('and', 'CC'), ('have', 'VBP'), ('helped', 'VBN'), ('.', '.')]\n",
      "\n",
      "\n",
      "[('She', 'PRP'), ('tours', 'VBZ'), ('America', 'NNP'), ('and', 'CC'), ('in', 'IN'), ('the', 'DT'), ('process', 'NN'), ('of', 'IN'), ('winning', 'VBG'), ('recognition', 'NN'), ('she', 'PRP'), ('betrays', 'VBZ'), ('her', 'PRP$'), ('loves', 'NNS'), ('and', 'CC'), ('her', 'PRP$'), ('artistic', 'JJ'), ('beliefs', 'NN'), ('.', '.')]\n",
      "\n",
      "\n",
      "[('The', 'DT'), ('two', 'CD'), ('loves', 'NNS'), ('of', 'IN'), ('the', 'DT'), ('club', 'NN'), ('crooner', 'NN'), (\"'s\", 'POS'), ('life', 'NN'), ('were', 'VBD'), ('always', 'RB'), ('his', 'PRP$'), ('wife', 'NN'), ('-', ':'), ('and', 'CC'), ('song', 'NN'), ('.', '.')]\n",
      "\n",
      "\n",
      "[('Music', 'NNP'), ('was', 'VBD'), ('one', 'CD'), ('of', 'IN'), ('his', 'PRP$'), ('great', 'JJ'), ('loves', 'NNS'), ('and', 'CC'), ('before', 'IN'), ('long', 'RB'), ('he', 'PRP'), ('could', 'MD'), ('play', 'VB'), ('several', 'JJ'), ('instruments', 'NNS'), ('.', '.')]\n",
      "\n",
      "\n",
      "[('He', 'PRP'), ('had', 'VBD'), ('three', 'CD'), ('great', 'JJ'), (',', ','), ('simple', 'JJ'), ('loves', 'NNS'), ('in', 'IN'), ('his', 'PRP$'), ('life', 'NN'), (',', ','), ('his', 'PRP$'), ('family', 'NN'), ('and', 'CC'), ('friends', 'NNS'), (',', ','), ('his', 'PRP$'), ('football', 'NN'), ('and', 'CC'), ('his', 'PRP$'), ('faith', 'NN'), ('.', '.')]\n",
      "\n",
      "\n",
      "[('The', 'DT'), ('lives', 'NNS'), (',', ','), ('loves', 'NNS'), ('and', 'CC'), ('actions', 'NNS'), ('of', 'IN'), ('everybody', 'NN'), ('are', 'VBP'), ('shrunk', 'VBN'), ('down', 'RP'), ('so', 'RB'), ('that', 'IN'), ('everyone', 'NN'), ('can', 'MD'), ('have', 'VB'), ('their', 'PRP$'), ('fifteen', 'JJ'), ('minutes', 'NNS'), ('of', 'IN'), ('fame', 'NN'), ('.', '.')]\n",
      "\n",
      "\n",
      "[('The', 'DT'), ('talk', 'NN'), ('covered', 'VBD'), ('not', 'RB'), ('only', 'RB'), ('her', 'PRP$'), ('life', 'NN'), ('and', 'CC'), ('loves', 'NNS'), ('but', 'CC'), ('also', 'RB'), ('family', 'NN'), ('and', 'CC'), ('domestic', 'JJ'), ('life', 'NN'), ('in', 'IN'), ('the', 'DT'), ('13', 'CD'), ('th', 'JJ'), ('century', 'NN'), ('.', '.')]\n",
      "\n",
      "\n",
      "[('she', 'PRP'), ('was', 'VBD'), ('the', 'DT'), ('love', 'NN'), ('of', 'IN'), ('his', 'PRP$'), ('life', 'NN')]\n",
      "\n",
      "\n",
      "[('their', 'PRP$'), ('two', 'CD'), ('great', 'JJ'), ('loves', 'NNS'), ('are', 'VBP'), ('tobacco', 'JJ'), ('and', 'CC'), ('whisky', 'JJ')]\n",
      "\n",
      "\n",
      "[('More', 'RBR'), ('so', 'RB'), ('in', 'IN'), ('the', 'DT'), ('second', 'JJ'), ('set', 'NN'), ('where', 'WRB'), ('Jones', 'NNP'), ('held', 'VBD'), ('four', 'CD'), ('out', 'IN'), ('of', 'IN'), ('five', 'CD'), ('service', 'NN'), ('games', 'NNS'), ('at', 'IN'), ('love', 'NN'), ('.', '.')]\n",
      "\n",
      "\n",
      "[('To', 'TO'), ('come', 'VB'), ('back', 'RB'), ('from', 'IN'), ('two', 'CD'), ('sets', 'NNS'), ('to', 'TO'), ('love', 'VB'), ('and', 'CC'), ('win', 'VB'), ('it', 'PRP'), ('is', 'VBZ'), ('an', 'DT'), ('awesome', 'JJ'), ('feeling', 'NN'), ('.', '.')]\n",
      "\n",
      "\n",
      "[('The', 'DT'), ('running', 'VBG'), ('tennis', 'NN'), ('score', 'NN'), ('of', 'IN'), ('each', 'DT'), ('of', 'IN'), ('the', 'DT'), ('games', 'NNS'), ('is', 'VBZ'), ('expressed', 'VBN'), ('in', 'IN'), ('a', 'DT'), ('style', 'NN'), ('peculiar', 'NN'), ('to', 'TO'), ('tennis', 'VB'), (':', ':'), ('score', 'NN'), ('in', 'IN'), ('a', 'DT'), ('game', 'NN'), ('from', 'IN'), ('zero', 'CD'), ('to', 'TO'), ('three', 'CD'), ('points', 'NNS'), ('is', 'VBZ'), ('represented', 'VBN'), ('as', 'IN'), ('zero', 'NN'), ('(', '('), ('or', 'CC'), ('``', '``'), ('love', 'VB'), (\"''\", \"''\"), (')', ')'), (',', ','), ('fifteen', 'JJ'), (',', ','), ('thirty', 'NN'), (',', ','), ('and', 'CC'), ('forty', 'RB'), ('correspondingly', 'RB'), ('.', '.')]\n",
      "\n",
      "\n",
      "[('love', 'NN'), ('fifteen', 'NN')]\n",
      "\n",
      "\n"
     ]
    },
    {
     "name": "stderr",
     "output_type": "stream",
     "text": [
      "[nltk_data] Downloading package punkt to\n",
      "[nltk_data]     /Users/aymanehachcham/nltk_data...\n",
      "[nltk_data]   Package punkt is already up-to-date!\n"
     ]
    }
   ],
   "source": [
    "from nltk import pos_tag, word_tokenize\n",
    "\n",
    "def search_word_tag(tagged_words:list, word_s:str):\n",
    "    return next(word for word in tagged_words if word[0] == word_s)\n",
    "\n",
    "for sens in senses:\n",
    "    for ex in sens['examples']:\n",
    "        tokens = word_tokenize(ex)\n",
    "        tags = pos_tag(tokens)\n",
    "        print(tags)\n",
    "        print('\\n')\n",
    "        # print(search_word_tag(tags, 'love'))\n"
   ],
   "metadata": {
    "collapsed": false
   }
  },
  {
   "cell_type": "code",
   "execution_count": null,
   "outputs": [],
   "source": [],
   "metadata": {
    "collapsed": false
   }
  }
 ],
 "metadata": {
  "kernelspec": {
   "display_name": "imenepy",
   "language": "python",
   "name": "python3"
  },
  "language_info": {
   "codemirror_mode": {
    "name": "ipython",
    "version": 3
   },
   "file_extension": ".py",
   "mimetype": "text/x-python",
   "name": "python",
   "nbconvert_exporter": "python",
   "pygments_lexer": "ipython3",
   "version": "3.9.13"
  },
  "orig_nbformat": 4,
  "vscode": {
   "interpreter": {
    "hash": "a504093cd48dbf41332b0076d682ce93e05d52a892a597f2a787966ee958626a"
   }
  }
 },
 "nbformat": 4,
 "nbformat_minor": 2
}
