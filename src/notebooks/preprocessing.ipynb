{
 "cells": [
  {
   "cell_type": "code",
   "execution_count": 52,
   "metadata": {},
   "outputs": [],
   "source": [
    "import pandas as pd\n",
    "import numpy as np\n",
    "import nltk\n",
    "import re\n",
    "import matplotlib.pyplot as plt"
   ]
  },
  {
   "cell_type": "code",
   "execution_count": 58,
   "metadata": {},
   "outputs": [],
   "source": [
    "data = pd.read_csv('df_2013.csv')"
   ]
  },
  {
   "cell_type": "code",
   "execution_count": 59,
   "metadata": {},
   "outputs": [
    {
     "name": "stdout",
     "output_type": "stream",
     "text": [
      "<class 'pandas.core.frame.DataFrame'>\n",
      "RangeIndex: 938464 entries, 0 to 938463\n",
      "Data columns (total 5 columns):\n",
      " #   Column      Non-Null Count   Dtype  \n",
      "---  ------      --------------   -----  \n",
      " 0   overall     938464 non-null  float64\n",
      " 1   asin        938464 non-null  object \n",
      " 2   reviewText  938464 non-null  object \n",
      " 3   time        938464 non-null  object \n",
      " 4   year        938464 non-null  int64  \n",
      "dtypes: float64(1), int64(1), object(3)\n",
      "memory usage: 35.8+ MB\n"
     ]
    }
   ],
   "source": [
    "data.info()"
   ]
  },
  {
   "cell_type": "code",
   "execution_count": 60,
   "metadata": {},
   "outputs": [
    {
     "data": {
      "text/html": [
       "<div>\n",
       "<style scoped>\n",
       "    .dataframe tbody tr th:only-of-type {\n",
       "        vertical-align: middle;\n",
       "    }\n",
       "\n",
       "    .dataframe tbody tr th {\n",
       "        vertical-align: top;\n",
       "    }\n",
       "\n",
       "    .dataframe thead th {\n",
       "        text-align: right;\n",
       "    }\n",
       "</style>\n",
       "<table border=\"1\" class=\"dataframe\">\n",
       "  <thead>\n",
       "    <tr style=\"text-align: right;\">\n",
       "      <th></th>\n",
       "      <th>overall</th>\n",
       "      <th>asin</th>\n",
       "      <th>reviewText</th>\n",
       "      <th>time</th>\n",
       "      <th>year</th>\n",
       "    </tr>\n",
       "  </thead>\n",
       "  <tbody>\n",
       "    <tr>\n",
       "      <th>0</th>\n",
       "      <td>5.0</td>\n",
       "      <td>0001713353</td>\n",
       "      <td>I remember reading my parents' copy of this bo...</td>\n",
       "      <td>2013-10-08</td>\n",
       "      <td>2013</td>\n",
       "    </tr>\n",
       "    <tr>\n",
       "      <th>1</th>\n",
       "      <td>5.0</td>\n",
       "      <td>0001713353</td>\n",
       "      <td>I am very happy with the book!!!  It is one of...</td>\n",
       "      <td>2013-01-12</td>\n",
       "      <td>2013</td>\n",
       "    </tr>\n",
       "    <tr>\n",
       "      <th>2</th>\n",
       "      <td>5.0</td>\n",
       "      <td>0001061240</td>\n",
       "      <td>I rated this a five because it's the first boo...</td>\n",
       "      <td>2013-10-02</td>\n",
       "      <td>2013</td>\n",
       "    </tr>\n",
       "    <tr>\n",
       "      <th>3</th>\n",
       "      <td>5.0</td>\n",
       "      <td>0001061240</td>\n",
       "      <td>A must for every home, with or without childre...</td>\n",
       "      <td>2013-09-13</td>\n",
       "      <td>2013</td>\n",
       "    </tr>\n",
       "    <tr>\n",
       "      <th>4</th>\n",
       "      <td>5.0</td>\n",
       "      <td>0001061240</td>\n",
       "      <td>One of my daughters, growing up, also loved th...</td>\n",
       "      <td>2013-08-27</td>\n",
       "      <td>2013</td>\n",
       "    </tr>\n",
       "    <tr>\n",
       "      <th>...</th>\n",
       "      <td>...</td>\n",
       "      <td>...</td>\n",
       "      <td>...</td>\n",
       "      <td>...</td>\n",
       "      <td>...</td>\n",
       "    </tr>\n",
       "    <tr>\n",
       "      <th>938459</th>\n",
       "      <td>3.0</td>\n",
       "      <td>0692716297</td>\n",
       "      <td>Bottom line is find the thing your dog likes b...</td>\n",
       "      <td>2013-05-25</td>\n",
       "      <td>2013</td>\n",
       "    </tr>\n",
       "    <tr>\n",
       "      <th>938460</th>\n",
       "      <td>3.0</td>\n",
       "      <td>0692716297</td>\n",
       "      <td>I enjoyed the content of the book, but found m...</td>\n",
       "      <td>2013-05-17</td>\n",
       "      <td>2013</td>\n",
       "    </tr>\n",
       "    <tr>\n",
       "      <th>938461</th>\n",
       "      <td>5.0</td>\n",
       "      <td>0692716297</td>\n",
       "      <td>I have a large dog that is hard to take for wa...</td>\n",
       "      <td>2013-05-16</td>\n",
       "      <td>2013</td>\n",
       "    </tr>\n",
       "    <tr>\n",
       "      <th>938462</th>\n",
       "      <td>2.0</td>\n",
       "      <td>0692730303</td>\n",
       "      <td>This book needs to be in paperback/hardcover, ...</td>\n",
       "      <td>2013-12-21</td>\n",
       "      <td>2013</td>\n",
       "    </tr>\n",
       "    <tr>\n",
       "      <th>938463</th>\n",
       "      <td>4.0</td>\n",
       "      <td>0692730303</td>\n",
       "      <td>I enjoyed the tips on recommendation letters a...</td>\n",
       "      <td>2013-04-09</td>\n",
       "      <td>2013</td>\n",
       "    </tr>\n",
       "  </tbody>\n",
       "</table>\n",
       "<p>938464 rows × 5 columns</p>\n",
       "</div>"
      ],
      "text/plain": [
       "        overall        asin  \\\n",
       "0           5.0  0001713353   \n",
       "1           5.0  0001713353   \n",
       "2           5.0  0001061240   \n",
       "3           5.0  0001061240   \n",
       "4           5.0  0001061240   \n",
       "...         ...         ...   \n",
       "938459      3.0  0692716297   \n",
       "938460      3.0  0692716297   \n",
       "938461      5.0  0692716297   \n",
       "938462      2.0  0692730303   \n",
       "938463      4.0  0692730303   \n",
       "\n",
       "                                               reviewText        time  year  \n",
       "0       I remember reading my parents' copy of this bo...  2013-10-08  2013  \n",
       "1       I am very happy with the book!!!  It is one of...  2013-01-12  2013  \n",
       "2       I rated this a five because it's the first boo...  2013-10-02  2013  \n",
       "3       A must for every home, with or without childre...  2013-09-13  2013  \n",
       "4       One of my daughters, growing up, also loved th...  2013-08-27  2013  \n",
       "...                                                   ...         ...   ...  \n",
       "938459  Bottom line is find the thing your dog likes b...  2013-05-25  2013  \n",
       "938460  I enjoyed the content of the book, but found m...  2013-05-17  2013  \n",
       "938461  I have a large dog that is hard to take for wa...  2013-05-16  2013  \n",
       "938462  This book needs to be in paperback/hardcover, ...  2013-12-21  2013  \n",
       "938463  I enjoyed the tips on recommendation letters a...  2013-04-09  2013  \n",
       "\n",
       "[938464 rows x 5 columns]"
      ]
     },
     "execution_count": 60,
     "metadata": {},
     "output_type": "execute_result"
    }
   ],
   "source": [
    "data"
   ]
  },
  {
   "cell_type": "code",
   "execution_count": 61,
   "metadata": {},
   "outputs": [],
   "source": [
    "df = data.copy()"
   ]
  },
  {
   "cell_type": "code",
   "execution_count": 62,
   "metadata": {},
   "outputs": [],
   "source": [
    "df.drop(['time', 'year'], axis = 1, inplace = True)"
   ]
  },
  {
   "cell_type": "code",
   "execution_count": 63,
   "metadata": {},
   "outputs": [
    {
     "data": {
      "image/png": "[encoded data removed]",
      "text/plain": [
       "<Figure size 640x480 with 1 Axes>"
      ]
     },
     "metadata": {},
     "output_type": "display_data"
    }
   ],
   "source": [
    "length_review = df['reviewText'].str.len() \n",
    "plt.hist(length_review, bins=100)\n",
    "plt.show()"
   ]
  },
  {
   "cell_type": "code",
   "execution_count": 64,
   "metadata": {},
   "outputs": [],
   "source": [
    "df['word_count'] = df['reviewText'].str.len() "
   ]
  },
  {
   "cell_type": "code",
   "execution_count": 65,
   "metadata": {},
   "outputs": [
    {
     "data": {
      "text/html": [
       "<div>\n",
       "<style scoped>\n",
       "    .dataframe tbody tr th:only-of-type {\n",
       "        vertical-align: middle;\n",
       "    }\n",
       "\n",
       "    .dataframe tbody tr th {\n",
       "        vertical-align: top;\n",
       "    }\n",
       "\n",
       "    .dataframe thead th {\n",
       "        text-align: right;\n",
       "    }\n",
       "</style>\n",
       "<table border=\"1\" class=\"dataframe\">\n",
       "  <thead>\n",
       "    <tr style=\"text-align: right;\">\n",
       "      <th></th>\n",
       "      <th>overall</th>\n",
       "      <th>word_count</th>\n",
       "    </tr>\n",
       "  </thead>\n",
       "  <tbody>\n",
       "    <tr>\n",
       "      <th>count</th>\n",
       "      <td>938464.000000</td>\n",
       "      <td>938464.000000</td>\n",
       "    </tr>\n",
       "    <tr>\n",
       "      <th>mean</th>\n",
       "      <td>4.389108</td>\n",
       "      <td>345.974444</td>\n",
       "    </tr>\n",
       "    <tr>\n",
       "      <th>std</th>\n",
       "      <td>0.958847</td>\n",
       "      <td>538.084909</td>\n",
       "    </tr>\n",
       "    <tr>\n",
       "      <th>min</th>\n",
       "      <td>1.000000</td>\n",
       "      <td>1.000000</td>\n",
       "    </tr>\n",
       "    <tr>\n",
       "      <th>25%</th>\n",
       "      <td>4.000000</td>\n",
       "      <td>133.000000</td>\n",
       "    </tr>\n",
       "    <tr>\n",
       "      <th>50%</th>\n",
       "      <td>5.000000</td>\n",
       "      <td>190.000000</td>\n",
       "    </tr>\n",
       "    <tr>\n",
       "      <th>75%</th>\n",
       "      <td>5.000000</td>\n",
       "      <td>341.000000</td>\n",
       "    </tr>\n",
       "    <tr>\n",
       "      <th>max</th>\n",
       "      <td>5.000000</td>\n",
       "      <td>32699.000000</td>\n",
       "    </tr>\n",
       "  </tbody>\n",
       "</table>\n",
       "</div>"
      ],
      "text/plain": [
       "             overall     word_count\n",
       "count  938464.000000  938464.000000\n",
       "mean        4.389108     345.974444\n",
       "std         0.958847     538.084909\n",
       "min         1.000000       1.000000\n",
       "25%         4.000000     133.000000\n",
       "50%         5.000000     190.000000\n",
       "75%         5.000000     341.000000\n",
       "max         5.000000   32699.000000"
      ]
     },
     "execution_count": 65,
     "metadata": {},
     "output_type": "execute_result"
    }
   ],
   "source": [
    "df.describe()"
   ]
  },
  {
   "cell_type": "code",
   "execution_count": 66,
   "metadata": {},
   "outputs": [
    {
     "data": {
      "text/plain": [
       "(937322, 4)"
      ]
     },
     "execution_count": 66,
     "metadata": {},
     "output_type": "execute_result"
    }
   ],
   "source": [
    "df.drop_duplicates(inplace = True, ignore_index=True)\n",
    "df.shape"
   ]
  },
  {
   "cell_type": "code",
   "execution_count": 67,
   "metadata": {},
   "outputs": [
    {
     "data": {
      "text/plain": [
       "(886088, 4)"
      ]
     },
     "execution_count": 67,
     "metadata": {},
     "output_type": "execute_result"
    }
   ],
   "source": [
    "df = df[df['word_count'] < 1001]\n",
    "df.shape"
   ]
  },
  {
   "cell_type": "code",
   "execution_count": 68,
   "metadata": {},
   "outputs": [],
   "source": [
    "def preprocess(text_string):\n",
    "    space_pattern = '\\s+'\n",
    "    new_line = '\\n+'\n",
    "    giant_url_regex = ('http[s]?://(?:[a-zA-Z]|[0-9]|[$-_@.&+]|'\n",
    "        '[!*\\(\\),]|(?:%[0-9a-fA-F][0-9a-fA-F]))+')\n",
    "    mention_regex = '@[\\w\\-]+'\n",
    "    non_word_char = '[^\\w]'\n",
    "    underscore = '_[\\w]+'\n",
    "    \n",
    "    parsed_text = re.sub(space_pattern, ' ', text_string)\n",
    "    parsed_text = re.sub(new_line, ' ', parsed_text)\n",
    "    parsed_text = re.sub(giant_url_regex, '', parsed_text)\n",
    "    parsed_text = re.sub(mention_regex, '', parsed_text)\n",
    "    parsed_text = re.sub(non_word_char, ' ', parsed_text)\n",
    "    parsed_text = re.sub('([0-9]+)', '', parsed_text)\n",
    "    parsed_text = re.sub(underscore, ' ', parsed_text)\n",
    "    \n",
    "    return parsed_text\n",
    "\n",
    "def deEmojify(text):\n",
    "    regrex_pattern = re.compile(pattern = \"[\"\n",
    "        u\"\\U0001F600-\\U0001F64F\"  # emoticons\n",
    "        u\"\\U0001F300-\\U0001F5FF\"  # symbols & pictographs\n",
    "        u\"\\U0001F680-\\U0001F6FF\"  # transport & map symbols\n",
    "        u\"\\U0001F1E0-\\U0001F1FF\"  # flags (iOS)\n",
    "                           \"]+\", flags = re.UNICODE)\n",
    "    return regrex_pattern.sub(r'',text)"
   ]
  },
  {
   "cell_type": "code",
   "execution_count": 69,
   "metadata": {},
   "outputs": [],
   "source": [
    "df['review'] = np.vectorize(preprocess)(df['reviewText'])"
   ]
  },
  {
   "cell_type": "code",
   "execution_count": 70,
   "metadata": {},
   "outputs": [],
   "source": [
    "df['review'] = np.vectorize(deEmojify)(df['review'])"
   ]
  },
  {
   "cell_type": "code",
   "execution_count": 71,
   "metadata": {},
   "outputs": [],
   "source": [
    "df['review'] = df['review'].str.strip()"
   ]
  },
  {
   "cell_type": "code",
   "execution_count": 72,
   "metadata": {},
   "outputs": [],
   "source": [
    "df['review'] = df['review'].apply(lambda x: x.split())"
   ]
  },
  {
   "cell_type": "code",
   "execution_count": 73,
   "metadata": {},
   "outputs": [],
   "source": [
    "from nltk.corpus import stopwords\n",
    "stop_words = list(set(stopwords.words('english')))"
   ]
  },
  {
   "cell_type": "code",
   "execution_count": 74,
   "metadata": {},
   "outputs": [],
   "source": [
    "df['review'] = df['review'].apply(lambda x: list(filter(lambda y: not y in stop_words, x)))\n"
   ]
  },
  {
   "cell_type": "code",
   "execution_count": 75,
   "metadata": {},
   "outputs": [],
   "source": [
    "df['n_words'] = df['review'].str.len() "
   ]
  },
  {
   "cell_type": "code",
   "execution_count": 76,
   "metadata": {},
   "outputs": [],
   "source": [
    "df = df.reset_index(drop=True)"
   ]
  },
  {
   "cell_type": "code",
   "execution_count": 77,
   "metadata": {},
   "outputs": [
    {
     "data": {
      "text/html": [
       "<div>\n",
       "<style scoped>\n",
       "    .dataframe tbody tr th:only-of-type {\n",
       "        vertical-align: middle;\n",
       "    }\n",
       "\n",
       "    .dataframe tbody tr th {\n",
       "        vertical-align: top;\n",
       "    }\n",
       "\n",
       "    .dataframe thead th {\n",
       "        text-align: right;\n",
       "    }\n",
       "</style>\n",
       "<table border=\"1\" class=\"dataframe\">\n",
       "  <thead>\n",
       "    <tr style=\"text-align: right;\">\n",
       "      <th></th>\n",
       "      <th>overall</th>\n",
       "      <th>asin</th>\n",
       "      <th>reviewText</th>\n",
       "      <th>word_count</th>\n",
       "      <th>review</th>\n",
       "      <th>n_words</th>\n",
       "    </tr>\n",
       "  </thead>\n",
       "  <tbody>\n",
       "    <tr>\n",
       "      <th>0</th>\n",
       "      <td>5.0</td>\n",
       "      <td>0001713353</td>\n",
       "      <td>I remember reading my parents' copy of this bo...</td>\n",
       "      <td>404</td>\n",
       "      <td>[I, remember, reading, parents, copy, book, fe...</td>\n",
       "      <td>38</td>\n",
       "    </tr>\n",
       "    <tr>\n",
       "      <th>1</th>\n",
       "      <td>5.0</td>\n",
       "      <td>0001713353</td>\n",
       "      <td>I am very happy with the book!!!  It is one of...</td>\n",
       "      <td>121</td>\n",
       "      <td>[I, happy, book, It, one, children, favorite, ...</td>\n",
       "      <td>13</td>\n",
       "    </tr>\n",
       "    <tr>\n",
       "      <th>2</th>\n",
       "      <td>5.0</td>\n",
       "      <td>0001061240</td>\n",
       "      <td>I rated this a five because it's the first boo...</td>\n",
       "      <td>399</td>\n",
       "      <td>[I, rated, five, first, book, I, used, introdu...</td>\n",
       "      <td>37</td>\n",
       "    </tr>\n",
       "    <tr>\n",
       "      <th>3</th>\n",
       "      <td>5.0</td>\n",
       "      <td>0001061240</td>\n",
       "      <td>A must for every home, with or without childre...</td>\n",
       "      <td>131</td>\n",
       "      <td>[A, must, every, home, without, children, Deli...</td>\n",
       "      <td>15</td>\n",
       "    </tr>\n",
       "    <tr>\n",
       "      <th>4</th>\n",
       "      <td>5.0</td>\n",
       "      <td>0001061240</td>\n",
       "      <td>One of my daughters, growing up, also loved th...</td>\n",
       "      <td>436</td>\n",
       "      <td>[One, daughters, growing, also, loved, book, I...</td>\n",
       "      <td>40</td>\n",
       "    </tr>\n",
       "    <tr>\n",
       "      <th>...</th>\n",
       "      <td>...</td>\n",
       "      <td>...</td>\n",
       "      <td>...</td>\n",
       "      <td>...</td>\n",
       "      <td>...</td>\n",
       "      <td>...</td>\n",
       "    </tr>\n",
       "    <tr>\n",
       "      <th>886083</th>\n",
       "      <td>3.0</td>\n",
       "      <td>0692716297</td>\n",
       "      <td>Bottom line is find the thing your dog likes b...</td>\n",
       "      <td>112</td>\n",
       "      <td>[Bottom, line, find, thing, dog, likes, best, ...</td>\n",
       "      <td>12</td>\n",
       "    </tr>\n",
       "    <tr>\n",
       "      <th>886084</th>\n",
       "      <td>3.0</td>\n",
       "      <td>0692716297</td>\n",
       "      <td>I enjoyed the content of the book, but found m...</td>\n",
       "      <td>159</td>\n",
       "      <td>[I, enjoyed, content, book, found, wanting, On...</td>\n",
       "      <td>16</td>\n",
       "    </tr>\n",
       "    <tr>\n",
       "      <th>886085</th>\n",
       "      <td>5.0</td>\n",
       "      <td>0692716297</td>\n",
       "      <td>I have a large dog that is hard to take for wa...</td>\n",
       "      <td>229</td>\n",
       "      <td>[I, large, dog, hard, take, walks, I, going, t...</td>\n",
       "      <td>26</td>\n",
       "    </tr>\n",
       "    <tr>\n",
       "      <th>886086</th>\n",
       "      <td>2.0</td>\n",
       "      <td>0692730303</td>\n",
       "      <td>This book needs to be in paperback/hardcover, ...</td>\n",
       "      <td>131</td>\n",
       "      <td>[This, book, needs, paperback, hardcover, some...</td>\n",
       "      <td>12</td>\n",
       "    </tr>\n",
       "    <tr>\n",
       "      <th>886087</th>\n",
       "      <td>4.0</td>\n",
       "      <td>0692730303</td>\n",
       "      <td>I enjoyed the tips on recommendation letters a...</td>\n",
       "      <td>213</td>\n",
       "      <td>[I, enjoyed, tips, recommendation, letters, ge...</td>\n",
       "      <td>24</td>\n",
       "    </tr>\n",
       "  </tbody>\n",
       "</table>\n",
       "<p>886088 rows × 6 columns</p>\n",
       "</div>"
      ],
      "text/plain": [
       "        overall        asin  \\\n",
       "0           5.0  0001713353   \n",
       "1           5.0  0001713353   \n",
       "2           5.0  0001061240   \n",
       "3           5.0  0001061240   \n",
       "4           5.0  0001061240   \n",
       "...         ...         ...   \n",
       "886083      3.0  0692716297   \n",
       "886084      3.0  0692716297   \n",
       "886085      5.0  0692716297   \n",
       "886086      2.0  0692730303   \n",
       "886087      4.0  0692730303   \n",
       "\n",
       "                                               reviewText  word_count  \\\n",
       "0       I remember reading my parents' copy of this bo...         404   \n",
       "1       I am very happy with the book!!!  It is one of...         121   \n",
       "2       I rated this a five because it's the first boo...         399   \n",
       "3       A must for every home, with or without childre...         131   \n",
       "4       One of my daughters, growing up, also loved th...         436   \n",
       "...                                                   ...         ...   \n",
       "886083  Bottom line is find the thing your dog likes b...         112   \n",
       "886084  I enjoyed the content of the book, but found m...         159   \n",
       "886085  I have a large dog that is hard to take for wa...         229   \n",
       "886086  This book needs to be in paperback/hardcover, ...         131   \n",
       "886087  I enjoyed the tips on recommendation letters a...         213   \n",
       "\n",
       "                                                   review  n_words  \n",
       "0       [I, remember, reading, parents, copy, book, fe...       38  \n",
       "1       [I, happy, book, It, one, children, favorite, ...       13  \n",
       "2       [I, rated, five, first, book, I, used, introdu...       37  \n",
       "3       [A, must, every, home, without, children, Deli...       15  \n",
       "4       [One, daughters, growing, also, loved, book, I...       40  \n",
       "...                                                   ...      ...  \n",
       "886083  [Bottom, line, find, thing, dog, likes, best, ...       12  \n",
       "886084  [I, enjoyed, content, book, found, wanting, On...       16  \n",
       "886085  [I, large, dog, hard, take, walks, I, going, t...       26  \n",
       "886086  [This, book, needs, paperback, hardcover, some...       12  \n",
       "886087  [I, enjoyed, tips, recommendation, letters, ge...       24  \n",
       "\n",
       "[886088 rows x 6 columns]"
      ]
     },
     "execution_count": 77,
     "metadata": {},
     "output_type": "execute_result"
    }
   ],
   "source": [
    "df"
   ]
  },
  {
   "cell_type": "code",
   "execution_count": null,
   "metadata": {},
   "outputs": [],
   "source": []
  }
 ],
 "metadata": {
  "kernelspec": {
   "display_name": "imenepy",
   "language": "python",
   "name": "python3"
  },
  "language_info": {
   "codemirror_mode": {
    "name": "ipython",
    "version": 3
   },
   "file_extension": ".py",
   "mimetype": "text/x-python",
   "name": "python",
   "nbconvert_exporter": "python",
   "pygments_lexer": "ipython3",
   "version": "3.9.13 (main, Oct 13 2022, 16:12:19) \n[Clang 12.0.0 ]"
  },
  "orig_nbformat": 4,
  "vscode": {
   "interpreter": {
    "hash": "a504093cd48dbf41332b0076d682ce93e05d52a892a597f2a787966ee958626a"
   }
  }
 },
 "nbformat": 4,
 "nbformat_minor": 2
}
