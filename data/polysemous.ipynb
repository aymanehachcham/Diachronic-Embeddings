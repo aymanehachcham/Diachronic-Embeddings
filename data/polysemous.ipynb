{
 "cells": [
  {
   "cell_type": "code",
   "execution_count": 1,
   "metadata": {},
   "outputs": [],
   "source": [
    "import  requests\n",
    "import json"
   ]
  },
  {
   "cell_type": "code",
   "execution_count": 41,
   "outputs": [],
   "source": [
    "def json_load(res):\n",
    "  t = json.dumps(res.json())\n",
    "  return json.loads(t)\n",
    "\n",
    "def prepare_api(word:str):\n",
    "    headers = {\n",
    "        \"Accept\": \"application/json\",\n",
    "        \"app_id\": \"8beabadc\",\n",
    "        \"app_key\": \"4d85f3e2e7cd293da9a811f156c99841\"\n",
    "    }\n",
    "    word_id = word\n",
    "    url_entries = 'https://od-api.oxforddictionaries.com/api/v2/entries/en/' + word_id + '?strictMatch=true'\n",
    "    res_entries = requests.get(url_entries, headers = {'app_id' : headers['app_id'], 'app_key' : headers['app_key']})\n",
    "    url_sentences = 'https://od-api.oxforddictionaries.com/api/v2/sentences/en/' + word_id + '?strictMatch=true'\n",
    "    res_sentences = requests.get(url_sentences, headers = {'app_id' : headers['app_id'], 'app_key' : headers['app_key']})\n",
    "\n",
    "    senses_examples = json_load(res_entries)\n",
    "    sentences_examples = json_load(res_sentences)\n",
    "\n",
    "    return senses_examples, sentences_examples\n",
    "\n",
    "def run_words(word:str):\n",
    "\n",
    "    senses_examples, sentences_examples = prepare_api(word)\n",
    "\n",
    "    api_call_senses = senses_examples['results'][0]['lexicalEntries'][0]['entries'][0]['senses']\n",
    "    senses = []\n",
    "    sense_with_examples = {}\n",
    "    diff_sense_ids = []\n",
    "    sentences = sentences_examples['results'][0]['lexicalEntries'][0]['sentences']\n",
    "\n",
    "    for el in sentences:\n",
    "        diff_sense_ids.append(el['senseIds'][0])\n",
    "\n",
    "    sense_ids = set(diff_sense_ids)\n",
    "\n",
    "    def search(id):\n",
    "        return list(sent['text'] for sent in sentences if sent['senseIds'][0] == id)\n",
    "\n",
    "    for idx, sens in enumerate(api_call_senses):\n",
    "\n",
    "        sense_with_examples['sense'] = idx\n",
    "        sense_with_examples['definition'] = sens['definitions'][0]\n",
    "\n",
    "        if sens['id'] in list(sense_ids):\n",
    "            examples_sense = search(sens['id'])\n",
    "            sense_with_examples['examples'] = examples_sense\n",
    "\n",
    "        senses.append(sense_with_examples.copy())\n",
    "\n",
    "    return senses"
   ],
   "metadata": {
    "collapsed": false
   }
  },
  {
   "cell_type": "code",
   "execution_count": 43,
   "outputs": [
    {
     "data": {
      "text/plain": "[{'sense': 0,\n  'definition': 'an assembly of people for a particular purpose, especially for formal discussion',\n  'examples': ['They also became focal points for group discussion and formal meetings.',\n   'Union officials have written to executives seeking an urgent meeting to discuss the matter.',\n   'The purpose of the meeting was to discuss the merits of the former ambassador traveling to Niger.',\n   'The purpose of the meeting is to discuss the set-up of a local Farmers Market planned for the near future.',\n   'It was the first time in 15 years they had held a formal meeting to discuss problems in the area.',\n   'They understood the purpose of the meeting was to discuss incorporating a new company.',\n   'Health bosses held urgent meetings to decide how to cope with an expected surge in the number of patients over Easter.',\n   'The actual discussion at meetings is not recorded formally, or contained in the minutes.',\n   \"The main item for discussion at the meeting was the guild's annual weekend outing.\",\n   'This might include breakfasts, lunches, formal meetings, client meetings and trial projects.',\n   'The purpose of the meeting was to execute a legal document.',\n   'Council passed a motion that further questions on the sessions not be discussed again at council meetings.',\n   'How can meetings and discussions solve a problem like this?',\n   'Those meetings were very formal and few ideas were exchanged.',\n   'Please put these in writing, sign and place in the box at the back of the Church for discussion at the monthly meetings.',\n   'The problem of cannabis is now a regular topic of discussion at meetings of the Swindon Association of Secondary Heads.',\n   'There will also be a number of consultation meetings held to discuss what residents would like to see done with the community space.',\n   'He had therefore been entitled to attend the area assembly meetings, often held in non-council buildings.',\n   'She also hopes to visit Britain every few months to attend council meetings.',\n   'But some who attended the meeting felt their questions were yet to be answered.']},\n {'sense': 1,\n  'definition': 'a situation when two or more people meet, by chance or arrangement',\n  'examples': ['Without conscious direction there are only chance meetings that create situations between separated beings.',\n   'Diverse characters happen together either by chance or in arranged meetings.',\n   \"While there, I've met people I already knew by chance and had chance meetings with new people.\",\n   \"Sofia Coppola's Lost In Translation follows two wandering souls that connect through these very chance meetings.\",\n   'It took a couple more chance meetings before he actually asked me on a date, but he did and that was 7 years ago.',\n   'The chance meeting is even more uncanny because Barbara had been searching for John on the internet last week to try to locate him in America.',\n   \"They didn't see each other very often, except for chance meetings at meal times, when they felt strong enough to go to the mess hall.\",\n   'They open up opportunities for fleeting or chance meetings.',\n   'Here, chance meetings and sexual encounters create a mood where anything can happen, even murder.',\n   'This is the perfect chance to end these meetings without offending her.',\n   'I never expect the chance meetings, yet I am always somewhere, at the same time as they are.',\n   'Those meetings give us a chance to see one another and to have coffee - and they keep us all together.',\n   'The film is full of chance meetings, coincidences, romance and confused hearts.',\n   'Their meeting was chance when they happened to be walking in the same vicinity.',\n   'Whether it was a chance meeting or a planned meeting is not relevant to the point we were making.']}]"
     },
     "execution_count": 43,
     "metadata": {},
     "output_type": "execute_result"
    }
   ],
   "source": [
    "run_words('meeting')"
   ],
   "metadata": {
    "collapsed": false
   }
  },
  {
   "cell_type": "code",
   "execution_count": null,
   "outputs": [],
   "source": [],
   "metadata": {
    "collapsed": false
   }
  }
 ],
 "metadata": {
  "kernelspec": {
   "display_name": "imenepy",
   "language": "python",
   "name": "python3"
  },
  "language_info": {
   "codemirror_mode": {
    "name": "ipython",
    "version": 3
   },
   "file_extension": ".py",
   "mimetype": "text/x-python",
   "name": "python",
   "nbconvert_exporter": "python",
   "pygments_lexer": "ipython3",
   "version": "3.9.13"
  },
  "orig_nbformat": 4,
  "vscode": {
   "interpreter": {
    "hash": "a504093cd48dbf41332b0076d682ce93e05d52a892a597f2a787966ee958626a"
   }
  }
 },
 "nbformat": 4,
 "nbformat_minor": 2
}
