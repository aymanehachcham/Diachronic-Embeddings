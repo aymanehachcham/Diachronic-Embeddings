{
 "cells": [
  {
   "cell_type": "code",
   "execution_count": 1,
   "metadata": {},
   "outputs": [
    {
     "name": "stdout",
     "output_type": "stream",
     "text": [
      "Requirement already satisfied: xmltodict in /opt/homebrew/Caskroom/miniconda/base/envs/imenepy/lib/python3.9/site-packages (0.13.0)\n"
     ]
    }
   ],
   "source": [
    "#!pip install xmltodict"
   ]
  },
  {
   "cell_type": "code",
   "execution_count": 1,
   "metadata": {},
   "outputs": [],
   "source": [
    "import xmltodict\n",
    "import json\n",
    "import pandas as pd"
   ]
  },
  {
   "cell_type": "code",
   "execution_count": 2,
   "metadata": {},
   "outputs": [],
   "source": [
    "periods = [1980, 1985, 1990, 1995, 2000, 2005, 2010, 2015]\n",
    "\n",
    "all_data = {}"
   ]
  },
  {
   "cell_type": "code",
   "execution_count": 3,
   "metadata": {},
   "outputs": [],
   "source": [
    "for period in periods:\n",
    "    period = str(period)\n",
    "\n",
    "    with open('data/TheNewYorkTimes.' + period +'.xml') as xml_file:\n",
    "        all_data[period] = xmltodict.parse(xml_file.read())"
   ]
  },
  {
   "cell_type": "code",
   "execution_count": 4,
   "metadata": {},
   "outputs": [
    {
     "data": {
      "text/plain": [
       "94697"
      ]
     },
     "execution_count": 4,
     "metadata": {},
     "output_type": "execute_result"
    }
   ],
   "source": [
    "len(all_data['1980']['records']['record'])"
   ]
  },
  {
   "cell_type": "code",
   "execution_count": 5,
   "metadata": {},
   "outputs": [],
   "source": [
    "for period in periods:\n",
    "    period = str(period)\n",
    "\n",
    "    a = len(all_data[period]['records']['record'])\n",
    "    data = {}\n",
    "\n",
    "    for i in range(a):\n",
    "        data[i] = all_data[period]['records']['record'][i]\n",
    "\n",
    "    all_data[period] = pd.DataFrame.from_dict(data, orient='index')\n"
   ]
  },
  {
   "cell_type": "code",
   "execution_count": 7,
   "metadata": {},
   "outputs": [],
   "source": [
    "for period in periods:\n",
    "    period = str(period)\n",
    "\n",
    "    df = all_data[period]\n",
    "    df = df[df['fulltext'].notna()]\n",
    "    all_data[period] = df"
   ]
  },
  {
   "cell_type": "code",
   "execution_count": 13,
   "metadata": {},
   "outputs": [
    {
     "data": {
      "text/html": [
       "<div>\n",
       "<style scoped>\n",
       "    .dataframe tbody tr th:only-of-type {\n",
       "        vertical-align: middle;\n",
       "    }\n",
       "\n",
       "    .dataframe tbody tr th {\n",
       "        vertical-align: top;\n",
       "    }\n",
       "\n",
       "    .dataframe thead th {\n",
       "        text-align: right;\n",
       "    }\n",
       "</style>\n",
       "<table border=\"1\" class=\"dataframe\">\n",
       "  <thead>\n",
       "    <tr style=\"text-align: right;\">\n",
       "      <th></th>\n",
       "      <th>record_id</th>\n",
       "      <th>source_id</th>\n",
       "      <th>publishDate</th>\n",
       "      <th>series</th>\n",
       "      <th>series2</th>\n",
       "      <th>title</th>\n",
       "      <th>author</th>\n",
       "      <th>leadtext</th>\n",
       "      <th>fulltext</th>\n",
       "      <th>link</th>\n",
       "      <th>year</th>\n",
       "      <th>text</th>\n",
       "    </tr>\n",
       "  </thead>\n",
       "  <tbody>\n",
       "    <tr>\n",
       "      <th>0</th>\n",
       "      <td>5F0R-HCS1-DXY4-X2RB</td>\n",
       "      <td>https://www.nexis.com/docview/getDocForCuiReq?...</td>\n",
       "      <td>20150105T000000Z</td>\n",
       "      <td>The New York Times</td>\n",
       "      <td>Section B; Column 0; Business/Financial Desk; ...</td>\n",
       "      <td>Tax Increase on Digital Goods to Hit Europe, T...</td>\n",
       "      <td>By MARK SCOTT</td>\n",
       "      <td>LONDON -- Europe's tax showdown could be heade...</td>\n",
       "      <td>What remains unclear is who in the 28-country ...</td>\n",
       "      <td>http://www.nytimes.com/2015/01/02/business/int...</td>\n",
       "      <td>2015</td>\n",
       "      <td>LONDON -- Europe's tax showdown could be heade...</td>\n",
       "    </tr>\n",
       "  </tbody>\n",
       "</table>\n",
       "</div>"
      ],
      "text/plain": [
       "             record_id                                          source_id  \\\n",
       "0  5F0R-HCS1-DXY4-X2RB  https://www.nexis.com/docview/getDocForCuiReq?...   \n",
       "\n",
       "        publishDate              series  \\\n",
       "0  20150105T000000Z  The New York Times   \n",
       "\n",
       "                                             series2  \\\n",
       "0  Section B; Column 0; Business/Financial Desk; ...   \n",
       "\n",
       "                                               title         author  \\\n",
       "0  Tax Increase on Digital Goods to Hit Europe, T...  By MARK SCOTT   \n",
       "\n",
       "                                            leadtext  \\\n",
       "0  LONDON -- Europe's tax showdown could be heade...   \n",
       "\n",
       "                                            fulltext  \\\n",
       "0  What remains unclear is who in the 28-country ...   \n",
       "\n",
       "                                                link  year  \\\n",
       "0  http://www.nytimes.com/2015/01/02/business/int...  2015   \n",
       "\n",
       "                                                text  \n",
       "0  LONDON -- Europe's tax showdown could be heade...  "
      ]
     },
     "execution_count": 13,
     "metadata": {},
     "output_type": "execute_result"
    }
   ],
   "source": [
    "all_data[period].head(1)"
   ]
  },
  {
   "cell_type": "code",
   "execution_count": 14,
   "metadata": {},
   "outputs": [
    {
     "name": "stderr",
     "output_type": "stream",
     "text": [
      "/var/folders/_5/mxyj0m894r7_07snmq0h20240000gn/T/ipykernel_59699/393057299.py:3: SettingWithCopyWarning: \n",
      "A value is trying to be set on a copy of a slice from a DataFrame.\n",
      "Try using .loc[row_indexer,col_indexer] = value instead\n",
      "\n",
      "See the caveats in the documentation: https://pandas.pydata.org/pandas-docs/stable/user_guide/indexing.html#returning-a-view-versus-a-copy\n",
      "  all_data[period]['year'] = list(map(lambda x: int(x[:4]), all_data[period]['publishDate']))\n",
      "/var/folders/_5/mxyj0m894r7_07snmq0h20240000gn/T/ipykernel_59699/393057299.py:5: SettingWithCopyWarning: \n",
      "A value is trying to be set on a copy of a slice from a DataFrame.\n",
      "Try using .loc[row_indexer,col_indexer] = value instead\n",
      "\n",
      "See the caveats in the documentation: https://pandas.pydata.org/pandas-docs/stable/user_guide/indexing.html#returning-a-view-versus-a-copy\n",
      "  all_data[period]['text'] = all_data[period]['leadtext'] + all_data[period]['fulltext']\n",
      "/var/folders/_5/mxyj0m894r7_07snmq0h20240000gn/T/ipykernel_59699/393057299.py:7: SettingWithCopyWarning: \n",
      "A value is trying to be set on a copy of a slice from a DataFrame\n",
      "\n",
      "See the caveats in the documentation: https://pandas.pydata.org/pandas-docs/stable/user_guide/indexing.html#returning-a-view-versus-a-copy\n",
      "  all_data[period].drop(['source_id', 'publishDate', 'series', 'series2', 'author', 'title', 'link', 'leadtext', 'fulltext'], axis = 1, inplace= True)\n"
     ]
    }
   ],
   "source": [
    "for period in periods:\n",
    "    period = str(period)\n",
    "    all_data[period]['year'] = list(map(lambda x: int(x[:4]), all_data[period]['publishDate']))\n",
    "\n",
    "    all_data[period]['text'] = all_data[period]['leadtext'] + all_data[period]['fulltext']\n",
    "\n",
    "    all_data[period].drop(['source_id', 'publishDate', 'series', 'series2', 'author', 'title', 'link', 'leadtext', 'fulltext'], axis = 1, inplace= True)"
   ]
  },
  {
   "cell_type": "code",
   "execution_count": 15,
   "metadata": {},
   "outputs": [],
   "source": [
    "for period in periods:\n",
    "    period = str(period)\n",
    "    all_data[period] = all_data[period][all_data[period]['year'] == int(period)]"
   ]
  },
  {
   "cell_type": "code",
   "execution_count": 17,
   "metadata": {},
   "outputs": [
    {
     "name": "stderr",
     "output_type": "stream",
     "text": [
      "/var/folders/_5/mxyj0m894r7_07snmq0h20240000gn/T/ipykernel_59699/934704081.py:4: SettingWithCopyWarning: \n",
      "A value is trying to be set on a copy of a slice from a DataFrame.\n",
      "Try using .loc[row_indexer,col_indexer] = value instead\n",
      "\n",
      "See the caveats in the documentation: https://pandas.pydata.org/pandas-docs/stable/user_guide/indexing.html#returning-a-view-versus-a-copy\n",
      "  all_data[period]['word_count'] = list(map(lambda x: len(str(x).split()), all_data[period]['text']))\n"
     ]
    }
   ],
   "source": [
    "for period in periods:\n",
    "    period = str(period)\n",
    "\n",
    "    all_data[period]['word_count'] = list(map(lambda x: len(str(x).split()), all_data[period]['text']))"
   ]
  },
  {
   "cell_type": "code",
   "execution_count": 18,
   "metadata": {},
   "outputs": [
    {
     "data": {
      "text/html": [
       "<div>\n",
       "<style scoped>\n",
       "    .dataframe tbody tr th:only-of-type {\n",
       "        vertical-align: middle;\n",
       "    }\n",
       "\n",
       "    .dataframe tbody tr th {\n",
       "        vertical-align: top;\n",
       "    }\n",
       "\n",
       "    .dataframe thead th {\n",
       "        text-align: right;\n",
       "    }\n",
       "</style>\n",
       "<table border=\"1\" class=\"dataframe\">\n",
       "  <thead>\n",
       "    <tr style=\"text-align: right;\">\n",
       "      <th></th>\n",
       "      <th>record_id</th>\n",
       "      <th>year</th>\n",
       "      <th>text</th>\n",
       "      <th>word_count</th>\n",
       "    </tr>\n",
       "  </thead>\n",
       "  <tbody>\n",
       "    <tr>\n",
       "      <th>0</th>\n",
       "      <td>5F0R-HCS1-DXY4-X2RB</td>\n",
       "      <td>2015</td>\n",
       "      <td>LONDON -- Europe's tax showdown could be heade...</td>\n",
       "      <td>900</td>\n",
       "    </tr>\n",
       "    <tr>\n",
       "      <th>1</th>\n",
       "      <td>5F0R-HCS1-DXY4-X2RF</td>\n",
       "      <td>2015</td>\n",
       "      <td>EAST HAMPTON, N.Y. -- Frank Dalene never put t...</td>\n",
       "      <td>1045</td>\n",
       "    </tr>\n",
       "    <tr>\n",
       "      <th>2</th>\n",
       "      <td>5F0R-HCS1-DXY4-X2RG</td>\n",
       "      <td>2015</td>\n",
       "      <td>One big argument for ''all you can eat'' music...</td>\n",
       "      <td>1146</td>\n",
       "    </tr>\n",
       "    <tr>\n",
       "      <th>3</th>\n",
       "      <td>5F0R-HCS1-DXY4-X2RH</td>\n",
       "      <td>2015</td>\n",
       "      <td>The religious scholar Karen Armstrong spent se...</td>\n",
       "      <td>1598</td>\n",
       "    </tr>\n",
       "    <tr>\n",
       "      <th>4</th>\n",
       "      <td>5F0R-HCS1-DXY4-X2RJ</td>\n",
       "      <td>2015</td>\n",
       "      <td>It's telling that Haydn's name does not featur...</td>\n",
       "      <td>483</td>\n",
       "    </tr>\n",
       "    <tr>\n",
       "      <th>...</th>\n",
       "      <td>...</td>\n",
       "      <td>...</td>\n",
       "      <td>...</td>\n",
       "      <td>...</td>\n",
       "    </tr>\n",
       "    <tr>\n",
       "      <th>93949</th>\n",
       "      <td>5HPF-5NN1-JBG3-63TS</td>\n",
       "      <td>2015</td>\n",
       "      <td>On a stretch of the East Village, New York Cit...</td>\n",
       "      <td>746</td>\n",
       "    </tr>\n",
       "    <tr>\n",
       "      <th>93950</th>\n",
       "      <td>5HPF-5NN1-JBG3-63SV</td>\n",
       "      <td>2015</td>\n",
       "      <td>Before sailing in Australia's great race, whic...</td>\n",
       "      <td>716</td>\n",
       "    </tr>\n",
       "    <tr>\n",
       "      <th>93951</th>\n",
       "      <td>5HPG-SGC1-DY2M-W00W</td>\n",
       "      <td>2015</td>\n",
       "      <td>VARIETY PUZZLE - For most people, the old trad...</td>\n",
       "      <td>201</td>\n",
       "    </tr>\n",
       "    <tr>\n",
       "      <th>93952</th>\n",
       "      <td>5HPK-T351-JBKK-533F</td>\n",
       "      <td>2015</td>\n",
       "      <td>SUNDAY PUZZLE - It seems like the year just fl...</td>\n",
       "      <td>716</td>\n",
       "    </tr>\n",
       "    <tr>\n",
       "      <th>93953</th>\n",
       "      <td>5HPH-DVJ1-JBKK-52FJ</td>\n",
       "      <td>2015</td>\n",
       "      <td>As I've said, it's hard these days for liberal...</td>\n",
       "      <td>294</td>\n",
       "    </tr>\n",
       "  </tbody>\n",
       "</table>\n",
       "<p>73511 rows × 4 columns</p>\n",
       "</div>"
      ],
      "text/plain": [
       "                 record_id  year  \\\n",
       "0      5F0R-HCS1-DXY4-X2RB  2015   \n",
       "1      5F0R-HCS1-DXY4-X2RF  2015   \n",
       "2      5F0R-HCS1-DXY4-X2RG  2015   \n",
       "3      5F0R-HCS1-DXY4-X2RH  2015   \n",
       "4      5F0R-HCS1-DXY4-X2RJ  2015   \n",
       "...                    ...   ...   \n",
       "93949  5HPF-5NN1-JBG3-63TS  2015   \n",
       "93950  5HPF-5NN1-JBG3-63SV  2015   \n",
       "93951  5HPG-SGC1-DY2M-W00W  2015   \n",
       "93952  5HPK-T351-JBKK-533F  2015   \n",
       "93953  5HPH-DVJ1-JBKK-52FJ  2015   \n",
       "\n",
       "                                                    text  word_count  \n",
       "0      LONDON -- Europe's tax showdown could be heade...         900  \n",
       "1      EAST HAMPTON, N.Y. -- Frank Dalene never put t...        1045  \n",
       "2      One big argument for ''all you can eat'' music...        1146  \n",
       "3      The religious scholar Karen Armstrong spent se...        1598  \n",
       "4      It's telling that Haydn's name does not featur...         483  \n",
       "...                                                  ...         ...  \n",
       "93949  On a stretch of the East Village, New York Cit...         746  \n",
       "93950  Before sailing in Australia's great race, whic...         716  \n",
       "93951  VARIETY PUZZLE - For most people, the old trad...         201  \n",
       "93952  SUNDAY PUZZLE - It seems like the year just fl...         716  \n",
       "93953  As I've said, it's hard these days for liberal...         294  \n",
       "\n",
       "[73511 rows x 4 columns]"
      ]
     },
     "execution_count": 18,
     "metadata": {},
     "output_type": "execute_result"
    }
   ],
   "source": [
    "all_data[period]"
   ]
  },
  {
   "cell_type": "code",
   "execution_count": null,
   "metadata": {},
   "outputs": [],
   "source": []
  }
 ],
 "metadata": {
  "kernelspec": {
   "display_name": "imenepy",
   "language": "python",
   "name": "python3"
  },
  "language_info": {
   "codemirror_mode": {
    "name": "ipython",
    "version": 3
   },
   "file_extension": ".py",
   "mimetype": "text/x-python",
   "name": "python",
   "nbconvert_exporter": "python",
   "pygments_lexer": "ipython3",
   "version": "3.9.13"
  },
  "orig_nbformat": 4,
  "vscode": {
   "interpreter": {
    "hash": "a504093cd48dbf41332b0076d682ce93e05d52a892a597f2a787966ee958626a"
   }
  }
 },
 "nbformat": 4,
 "nbformat_minor": 2
}
