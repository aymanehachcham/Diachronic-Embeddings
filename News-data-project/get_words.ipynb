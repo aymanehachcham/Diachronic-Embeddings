{
 "cells": [
  {
   "cell_type": "code",
   "execution_count": 1,
   "metadata": {},
   "outputs": [
    {
     "name": "stdout",
     "output_type": "stream",
     "text": [
      "Requirement already satisfied: xmltodict in /opt/homebrew/Caskroom/miniconda/base/envs/imenepy/lib/python3.9/site-packages (0.13.0)\n"
     ]
    }
   ],
   "source": [
    "#!pip install xmltodict"
   ]
  },
  {
   "cell_type": "code",
   "execution_count": 18,
   "metadata": {},
   "outputs": [],
   "source": [
    "import xmltodict\n",
    "import json\n",
    "import pandas as pd"
   ]
  },
  {
   "cell_type": "code",
   "execution_count": 19,
   "metadata": {},
   "outputs": [],
   "source": [
    "with open(\"data/TheNewYorkTimes.1980.xml\") as xml_file:\n",
    "    data_dict = xmltodict.parse(xml_file.read())"
   ]
  },
  {
   "cell_type": "code",
   "execution_count": 20,
   "metadata": {},
   "outputs": [
    {
     "data": {
      "text/plain": [
       "94697"
      ]
     },
     "execution_count": 20,
     "metadata": {},
     "output_type": "execute_result"
    }
   ],
   "source": [
    "len(data_dict['records']['record'])"
   ]
  },
  {
   "cell_type": "code",
   "execution_count": 21,
   "metadata": {},
   "outputs": [
    {
     "data": {
      "text/plain": [
       "94697"
      ]
     },
     "execution_count": 21,
     "metadata": {},
     "output_type": "execute_result"
    }
   ],
   "source": [
    "data = data_dict['records']['record']\n",
    "len(data)"
   ]
  },
  {
   "cell_type": "code",
   "execution_count": 22,
   "metadata": {},
   "outputs": [],
   "source": [
    "data_dictionary = {}\n",
    "\n",
    "for i in range(len(data)):\n",
    "    data_dictionary[i] = data[i]"
   ]
  },
  {
   "cell_type": "code",
   "execution_count": 23,
   "metadata": {},
   "outputs": [],
   "source": [
    "df = pd.DataFrame.from_dict(data_dictionary, orient='index')"
   ]
  },
  {
   "cell_type": "code",
   "execution_count": 25,
   "metadata": {},
   "outputs": [
    {
     "name": "stdout",
     "output_type": "stream",
     "text": [
      "<class 'pandas.core.frame.DataFrame'>\n",
      "Int64Index: 94697 entries, 0 to 94696\n",
      "Data columns (total 10 columns):\n",
      " #   Column       Non-Null Count  Dtype \n",
      "---  ------       --------------  ----- \n",
      " 0   record_id    94697 non-null  object\n",
      " 1   source_id    94697 non-null  object\n",
      " 2   publishDate  94697 non-null  object\n",
      " 3   series       94697 non-null  object\n",
      " 4   series2      94697 non-null  object\n",
      " 5   author       51890 non-null  object\n",
      " 6   title        56960 non-null  object\n",
      " 7   leadtext     49840 non-null  object\n",
      " 8   fulltext     47297 non-null  object\n",
      " 9   link         176 non-null    object\n",
      "dtypes: object(10)\n",
      "memory usage: 7.9+ MB\n"
     ]
    }
   ],
   "source": [
    "df.info()"
   ]
  },
  {
   "cell_type": "code",
   "execution_count": 34,
   "metadata": {},
   "outputs": [],
   "source": [
    "df = df[df['fulltext'].notna()]"
   ]
  },
  {
   "cell_type": "code",
   "execution_count": 37,
   "metadata": {},
   "outputs": [
    {
     "name": "stderr",
     "output_type": "stream",
     "text": [
      "/var/folders/_5/mxyj0m894r7_07snmq0h20240000gn/T/ipykernel_55038/1870623946.py:1: SettingWithCopyWarning: \n",
      "A value is trying to be set on a copy of a slice from a DataFrame.\n",
      "Try using .loc[row_indexer,col_indexer] = value instead\n",
      "\n",
      "See the caveats in the documentation: https://pandas.pydata.org/pandas-docs/stable/user_guide/indexing.html#returning-a-view-versus-a-copy\n",
      "  df['publishDate'] = list(map(lambda x: x[:8], df['publishDate']))\n"
     ]
    }
   ],
   "source": [
    "df['publishDate'] = list(map(lambda x: x[:8], df['publishDate']))"
   ]
  },
  {
   "cell_type": "code",
   "execution_count": 39,
   "metadata": {},
   "outputs": [
    {
     "name": "stderr",
     "output_type": "stream",
     "text": [
      "/var/folders/_5/mxyj0m894r7_07snmq0h20240000gn/T/ipykernel_55038/644535852.py:1: SettingWithCopyWarning: \n",
      "A value is trying to be set on a copy of a slice from a DataFrame.\n",
      "Try using .loc[row_indexer,col_indexer] = value instead\n",
      "\n",
      "See the caveats in the documentation: https://pandas.pydata.org/pandas-docs/stable/user_guide/indexing.html#returning-a-view-versus-a-copy\n",
      "  df['date'] = pd.to_datetime(df['publishDate'], format= '%Y%m%d')\n"
     ]
    }
   ],
   "source": [
    "df['date'] = pd.to_datetime(df['publishDate'], format= '%Y%m%d')\n"
   ]
  },
  {
   "cell_type": "code",
   "execution_count": 41,
   "metadata": {},
   "outputs": [
    {
     "name": "stderr",
     "output_type": "stream",
     "text": [
      "/var/folders/_5/mxyj0m894r7_07snmq0h20240000gn/T/ipykernel_55038/3463613036.py:1: SettingWithCopyWarning: \n",
      "A value is trying to be set on a copy of a slice from a DataFrame\n",
      "\n",
      "See the caveats in the documentation: https://pandas.pydata.org/pandas-docs/stable/user_guide/indexing.html#returning-a-view-versus-a-copy\n",
      "  df.drop(['source_id', 'publishDate', 'series', 'series2', 'author', 'title', 'link'], axis = 1, inplace= True)\n"
     ]
    }
   ],
   "source": [
    "df.drop(['source_id', 'publishDate', 'series', 'series2', 'author', 'title', 'link'], axis = 1, inplace= True)"
   ]
  },
  {
   "cell_type": "code",
   "execution_count": 44,
   "metadata": {},
   "outputs": [
    {
     "name": "stderr",
     "output_type": "stream",
     "text": [
      "/var/folders/_5/mxyj0m894r7_07snmq0h20240000gn/T/ipykernel_55038/3057093038.py:1: SettingWithCopyWarning: \n",
      "A value is trying to be set on a copy of a slice from a DataFrame.\n",
      "Try using .loc[row_indexer,col_indexer] = value instead\n",
      "\n",
      "See the caveats in the documentation: https://pandas.pydata.org/pandas-docs/stable/user_guide/indexing.html#returning-a-view-versus-a-copy\n",
      "  df['year'] = pd.DatetimeIndex(df['date']).year\n"
     ]
    }
   ],
   "source": [
    "df['year'] = pd.DatetimeIndex(df['date']).year\n",
    "\n",
    "df = df[df['year'] == 1980]"
   ]
  },
  {
   "cell_type": "code",
   "execution_count": 46,
   "metadata": {},
   "outputs": [
    {
     "name": "stderr",
     "output_type": "stream",
     "text": [
      "/var/folders/_5/mxyj0m894r7_07snmq0h20240000gn/T/ipykernel_55038/780211090.py:1: SettingWithCopyWarning: \n",
      "A value is trying to be set on a copy of a slice from a DataFrame\n",
      "\n",
      "See the caveats in the documentation: https://pandas.pydata.org/pandas-docs/stable/user_guide/indexing.html#returning-a-view-versus-a-copy\n",
      "  df.drop(['date'], axis = 1, inplace= True)\n"
     ]
    }
   ],
   "source": [
    "df.drop(['date'], axis = 1, inplace= True)"
   ]
  },
  {
   "cell_type": "code",
   "execution_count": 51,
   "metadata": {},
   "outputs": [
    {
     "data": {
      "text/html": [
       "<div>\n",
       "<style scoped>\n",
       "    .dataframe tbody tr th:only-of-type {\n",
       "        vertical-align: middle;\n",
       "    }\n",
       "\n",
       "    .dataframe tbody tr th {\n",
       "        vertical-align: top;\n",
       "    }\n",
       "\n",
       "    .dataframe thead th {\n",
       "        text-align: right;\n",
       "    }\n",
       "</style>\n",
       "<table border=\"1\" class=\"dataframe\">\n",
       "  <thead>\n",
       "    <tr style=\"text-align: right;\">\n",
       "      <th></th>\n",
       "      <th>record_id</th>\n",
       "      <th>leadtext</th>\n",
       "      <th>fulltext</th>\n",
       "      <th>year</th>\n",
       "    </tr>\n",
       "  </thead>\n",
       "  <tbody>\n",
       "    <tr>\n",
       "      <th>38692</th>\n",
       "      <td>3S8G-DCN0-000B-Y1YW</td>\n",
       "      <td>William E. Simon, former Secretary of the Trea...</td>\n",
       "      <td>Mr. Simon confirmed the reports yesterday, say...</td>\n",
       "      <td>1980</td>\n",
       "    </tr>\n",
       "    <tr>\n",
       "      <th>38693</th>\n",
       "      <td>3S8G-DCN0-000B-Y1YX</td>\n",
       "      <td>voters in five states CARTER AND KENNEDY TO ME...</td>\n",
       "      <td>''My anticipation is that he will carry his fo...</td>\n",
       "      <td>1980</td>\n",
       "    </tr>\n",
       "    <tr>\n",
       "      <th>38694</th>\n",
       "      <td>3S8G-DCN0-000B-Y1YY</td>\n",
       "      <td>Lieut. Gen. Chon Too Hwan, the army strongman,...</td>\n",
       "      <td>The subcommittees will report to a 30-member s...</td>\n",
       "      <td>1980</td>\n",
       "    </tr>\n",
       "    <tr>\n",
       "      <th>38695</th>\n",
       "      <td>3S8G-DCN0-000B-Y200</td>\n",
       "      <td>A major increase in New York City subway and b...</td>\n",
       "      <td>''I can't believe after what we've been throug...</td>\n",
       "      <td>1980</td>\n",
       "    </tr>\n",
       "    <tr>\n",
       "      <th>38697</th>\n",
       "      <td>3S8G-DCN0-000B-Y202</td>\n",
       "      <td>AIR SERVICE POSSIBLE BY FALL                  ...</td>\n",
       "      <td>An agreement is also expected within a couple ...</td>\n",
       "      <td>1980</td>\n",
       "    </tr>\n",
       "    <tr>\n",
       "      <th>...</th>\n",
       "      <td>...</td>\n",
       "      <td>...</td>\n",
       "      <td>...</td>\n",
       "      <td>...</td>\n",
       "    </tr>\n",
       "    <tr>\n",
       "      <th>94692</th>\n",
       "      <td>3S8G-CF30-000B-Y1SS</td>\n",
       "      <td>The Larry Bird Show played Madison Square Gard...</td>\n",
       "      <td>''The fourth quarter was the difference,'' Bir...</td>\n",
       "      <td>1980</td>\n",
       "    </tr>\n",
       "    <tr>\n",
       "      <th>94693</th>\n",
       "      <td>3S8G-CF30-000B-Y1ST</td>\n",
       "      <td>Bob MacKinnon had several reasons to expect hi...</td>\n",
       "      <td>But the Nets wound up losing, 109-94, before a...</td>\n",
       "      <td>1980</td>\n",
       "    </tr>\n",
       "    <tr>\n",
       "      <th>94694</th>\n",
       "      <td>3S8G-CF30-000B-Y1SV</td>\n",
       "      <td>Brian Buckley of Harvard and Rick Casko of Dra...</td>\n",
       "      <td>A 65-yard scoring pass from Buckley to Kevin W...</td>\n",
       "      <td>1980</td>\n",
       "    </tr>\n",
       "    <tr>\n",
       "      <th>94695</th>\n",
       "      <td>3S8G-CF30-000B-Y1SW</td>\n",
       "      <td>St. John's will seek its second straight Holid...</td>\n",
       "      <td>The loss was to Princeton by 47-46.           ...</td>\n",
       "      <td>1980</td>\n",
       "    </tr>\n",
       "    <tr>\n",
       "      <th>94696</th>\n",
       "      <td>3S8G-CF30-000B-Y1SX</td>\n",
       "      <td>RETURNS are in on the Eclipse Awards for the b...</td>\n",
       "      <td>Their opinion was supported by Spectacular Bid...</td>\n",
       "      <td>1980</td>\n",
       "    </tr>\n",
       "  </tbody>\n",
       "</table>\n",
       "<p>47289 rows × 4 columns</p>\n",
       "</div>"
      ],
      "text/plain": [
       "                 record_id                                           leadtext  \\\n",
       "38692  3S8G-DCN0-000B-Y1YW  William E. Simon, former Secretary of the Trea...   \n",
       "38693  3S8G-DCN0-000B-Y1YX  voters in five states CARTER AND KENNEDY TO ME...   \n",
       "38694  3S8G-DCN0-000B-Y1YY  Lieut. Gen. Chon Too Hwan, the army strongman,...   \n",
       "38695  3S8G-DCN0-000B-Y200  A major increase in New York City subway and b...   \n",
       "38697  3S8G-DCN0-000B-Y202  AIR SERVICE POSSIBLE BY FALL                  ...   \n",
       "...                    ...                                                ...   \n",
       "94692  3S8G-CF30-000B-Y1SS  The Larry Bird Show played Madison Square Gard...   \n",
       "94693  3S8G-CF30-000B-Y1ST  Bob MacKinnon had several reasons to expect hi...   \n",
       "94694  3S8G-CF30-000B-Y1SV  Brian Buckley of Harvard and Rick Casko of Dra...   \n",
       "94695  3S8G-CF30-000B-Y1SW  St. John's will seek its second straight Holid...   \n",
       "94696  3S8G-CF30-000B-Y1SX  RETURNS are in on the Eclipse Awards for the b...   \n",
       "\n",
       "                                                fulltext  year  \n",
       "38692  Mr. Simon confirmed the reports yesterday, say...  1980  \n",
       "38693  ''My anticipation is that he will carry his fo...  1980  \n",
       "38694  The subcommittees will report to a 30-member s...  1980  \n",
       "38695  ''I can't believe after what we've been throug...  1980  \n",
       "38697  An agreement is also expected within a couple ...  1980  \n",
       "...                                                  ...   ...  \n",
       "94692  ''The fourth quarter was the difference,'' Bir...  1980  \n",
       "94693  But the Nets wound up losing, 109-94, before a...  1980  \n",
       "94694  A 65-yard scoring pass from Buckley to Kevin W...  1980  \n",
       "94695  The loss was to Princeton by 47-46.           ...  1980  \n",
       "94696  Their opinion was supported by Spectacular Bid...  1980  \n",
       "\n",
       "[47289 rows x 4 columns]"
      ]
     },
     "execution_count": 51,
     "metadata": {},
     "output_type": "execute_result"
    }
   ],
   "source": [
    "df"
   ]
  },
  {
   "cell_type": "code",
   "execution_count": 50,
   "metadata": {},
   "outputs": [
    {
     "ename": "KeyError",
     "evalue": "0",
     "output_type": "error",
     "traceback": [
      "\u001b[0;31m---------------------------------------------------------------------------\u001b[0m",
      "\u001b[0;31mKeyError\u001b[0m                                  Traceback (most recent call last)",
      "File \u001b[0;32m/opt/homebrew/Caskroom/miniconda/base/envs/imenepy/lib/python3.9/site-packages/pandas/core/indexes/base.py:3803\u001b[0m, in \u001b[0;36mIndex.get_loc\u001b[0;34m(self, key, method, tolerance)\u001b[0m\n\u001b[1;32m   3802\u001b[0m \u001b[39mtry\u001b[39;00m:\n\u001b[0;32m-> 3803\u001b[0m     \u001b[39mreturn\u001b[39;00m \u001b[39mself\u001b[39;49m\u001b[39m.\u001b[39;49m_engine\u001b[39m.\u001b[39;49mget_loc(casted_key)\n\u001b[1;32m   3804\u001b[0m \u001b[39mexcept\u001b[39;00m \u001b[39mKeyError\u001b[39;00m \u001b[39mas\u001b[39;00m err:\n",
      "File \u001b[0;32m/opt/homebrew/Caskroom/miniconda/base/envs/imenepy/lib/python3.9/site-packages/pandas/_libs/index.pyx:138\u001b[0m, in \u001b[0;36mpandas._libs.index.IndexEngine.get_loc\u001b[0;34m()\u001b[0m\n",
      "File \u001b[0;32m/opt/homebrew/Caskroom/miniconda/base/envs/imenepy/lib/python3.9/site-packages/pandas/_libs/index.pyx:165\u001b[0m, in \u001b[0;36mpandas._libs.index.IndexEngine.get_loc\u001b[0;34m()\u001b[0m\n",
      "File \u001b[0;32mpandas/_libs/hashtable_class_helper.pxi:2263\u001b[0m, in \u001b[0;36mpandas._libs.hashtable.Int64HashTable.get_item\u001b[0;34m()\u001b[0m\n",
      "File \u001b[0;32mpandas/_libs/hashtable_class_helper.pxi:2273\u001b[0m, in \u001b[0;36mpandas._libs.hashtable.Int64HashTable.get_item\u001b[0;34m()\u001b[0m\n",
      "\u001b[0;31mKeyError\u001b[0m: 0",
      "\nThe above exception was the direct cause of the following exception:\n",
      "\u001b[0;31mKeyError\u001b[0m                                  Traceback (most recent call last)",
      "Cell \u001b[0;32mIn [50], line 4\u001b[0m\n\u001b[1;32m      1\u001b[0m number_of_words \u001b[39m=\u001b[39m []\n\u001b[1;32m      3\u001b[0m \u001b[39mfor\u001b[39;00m i \u001b[39min\u001b[39;00m df[\u001b[39m'\u001b[39m\u001b[39mleadtext\u001b[39m\u001b[39m'\u001b[39m]:\n\u001b[0;32m----> 4\u001b[0m     \u001b[39mprint\u001b[39m(df[\u001b[39m'\u001b[39;49m\u001b[39mleadtext\u001b[39;49m\u001b[39m'\u001b[39;49m][\u001b[39m0\u001b[39;49m])\n\u001b[1;32m      5\u001b[0m     \u001b[39mbreak\u001b[39;00m\n",
      "File \u001b[0;32m/opt/homebrew/Caskroom/miniconda/base/envs/imenepy/lib/python3.9/site-packages/pandas/core/series.py:981\u001b[0m, in \u001b[0;36mSeries.__getitem__\u001b[0;34m(self, key)\u001b[0m\n\u001b[1;32m    978\u001b[0m     \u001b[39mreturn\u001b[39;00m \u001b[39mself\u001b[39m\u001b[39m.\u001b[39m_values[key]\n\u001b[1;32m    980\u001b[0m \u001b[39melif\u001b[39;00m key_is_scalar:\n\u001b[0;32m--> 981\u001b[0m     \u001b[39mreturn\u001b[39;00m \u001b[39mself\u001b[39;49m\u001b[39m.\u001b[39;49m_get_value(key)\n\u001b[1;32m    983\u001b[0m \u001b[39mif\u001b[39;00m is_hashable(key):\n\u001b[1;32m    984\u001b[0m     \u001b[39m# Otherwise index.get_value will raise InvalidIndexError\u001b[39;00m\n\u001b[1;32m    985\u001b[0m     \u001b[39mtry\u001b[39;00m:\n\u001b[1;32m    986\u001b[0m         \u001b[39m# For labels that don't resolve as scalars like tuples and frozensets\u001b[39;00m\n",
      "File \u001b[0;32m/opt/homebrew/Caskroom/miniconda/base/envs/imenepy/lib/python3.9/site-packages/pandas/core/series.py:1089\u001b[0m, in \u001b[0;36mSeries._get_value\u001b[0;34m(self, label, takeable)\u001b[0m\n\u001b[1;32m   1086\u001b[0m     \u001b[39mreturn\u001b[39;00m \u001b[39mself\u001b[39m\u001b[39m.\u001b[39m_values[label]\n\u001b[1;32m   1088\u001b[0m \u001b[39m# Similar to Index.get_value, but we do not fall back to positional\u001b[39;00m\n\u001b[0;32m-> 1089\u001b[0m loc \u001b[39m=\u001b[39m \u001b[39mself\u001b[39;49m\u001b[39m.\u001b[39;49mindex\u001b[39m.\u001b[39;49mget_loc(label)\n\u001b[1;32m   1090\u001b[0m \u001b[39mreturn\u001b[39;00m \u001b[39mself\u001b[39m\u001b[39m.\u001b[39mindex\u001b[39m.\u001b[39m_get_values_for_loc(\u001b[39mself\u001b[39m, loc, label)\n",
      "File \u001b[0;32m/opt/homebrew/Caskroom/miniconda/base/envs/imenepy/lib/python3.9/site-packages/pandas/core/indexes/base.py:3805\u001b[0m, in \u001b[0;36mIndex.get_loc\u001b[0;34m(self, key, method, tolerance)\u001b[0m\n\u001b[1;32m   3803\u001b[0m     \u001b[39mreturn\u001b[39;00m \u001b[39mself\u001b[39m\u001b[39m.\u001b[39m_engine\u001b[39m.\u001b[39mget_loc(casted_key)\n\u001b[1;32m   3804\u001b[0m \u001b[39mexcept\u001b[39;00m \u001b[39mKeyError\u001b[39;00m \u001b[39mas\u001b[39;00m err:\n\u001b[0;32m-> 3805\u001b[0m     \u001b[39mraise\u001b[39;00m \u001b[39mKeyError\u001b[39;00m(key) \u001b[39mfrom\u001b[39;00m \u001b[39merr\u001b[39;00m\n\u001b[1;32m   3806\u001b[0m \u001b[39mexcept\u001b[39;00m \u001b[39mTypeError\u001b[39;00m:\n\u001b[1;32m   3807\u001b[0m     \u001b[39m# If we have a listlike key, _check_indexing_error will raise\u001b[39;00m\n\u001b[1;32m   3808\u001b[0m     \u001b[39m#  InvalidIndexError. Otherwise we fall through and re-raise\u001b[39;00m\n\u001b[1;32m   3809\u001b[0m     \u001b[39m#  the TypeError.\u001b[39;00m\n\u001b[1;32m   3810\u001b[0m     \u001b[39mself\u001b[39m\u001b[39m.\u001b[39m_check_indexing_error(key)\n",
      "\u001b[0;31mKeyError\u001b[0m: 0"
     ]
    }
   ],
   "source": [
    "number_of_words = []\n",
    "\n",
    "for i in df['leadtext']:\n",
    "    number_of_words.append(len(i.split()))\n",
    "    \n",
    "df['count_lead_text'] = number_of_words\n",
    "\n"
   ]
  },
  {
   "cell_type": "code",
   "execution_count": null,
   "metadata": {},
   "outputs": [],
   "source": []
  }
 ],
 "metadata": {
  "kernelspec": {
   "display_name": "imenepy",
   "language": "python",
   "name": "python3"
  },
  "language_info": {
   "codemirror_mode": {
    "name": "ipython",
    "version": 3
   },
   "file_extension": ".py",
   "mimetype": "text/x-python",
   "name": "python",
   "nbconvert_exporter": "python",
   "pygments_lexer": "ipython3",
   "version": "3.9.13"
  },
  "orig_nbformat": 4,
  "vscode": {
   "interpreter": {
    "hash": "a504093cd48dbf41332b0076d682ce93e05d52a892a597f2a787966ee958626a"
   }
  }
 },
 "nbformat": 4,
 "nbformat_minor": 2
}
