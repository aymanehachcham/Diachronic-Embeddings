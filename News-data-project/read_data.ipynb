{
 "cells": [
  {
   "cell_type": "code",
   "execution_count": 1,
   "metadata": {},
   "outputs": [
    {
     "name": "stdout",
     "output_type": "stream",
     "text": [
      "Requirement already satisfied: xmltodict in /opt/homebrew/Caskroom/miniconda/base/envs/imenepy/lib/python3.9/site-packages (0.13.0)\n"
     ]
    }
   ],
   "source": [
    "#!pip install xmltodict"
   ]
  },
  {
   "cell_type": "code",
   "execution_count": null,
   "metadata": {},
   "outputs": [
    {
     "ename": "",
     "evalue": "",
     "output_type": "error",
     "traceback": [
      "\u001b[1;31mFailed to start the Kernel. \n",
      "\u001b[1;31mPython Extension failed to activate. \n",
      "\u001b[1;31mView Jupyter <a href='command:jupyter.viewOutput'>log</a> for further details."
     ]
    }
   ],
   "source": [
    "import xmltodict\n",
    "import json\n",
    "import pandas as pd"
   ]
  },
  {
   "cell_type": "code",
   "execution_count": 2,
   "metadata": {},
   "outputs": [],
   "source": [
    "periods = [1980, 1985, 1990, 1995, 2000, 2005, 2010, 2015]\n",
    "\n",
    "all_data = {}"
   ]
  },
  {
   "cell_type": "code",
   "execution_count": 3,
   "metadata": {},
   "outputs": [],
   "source": [
    "for period in periods:\n",
    "    period = str(period)\n",
    "\n",
    "    with open('data/TheNewYorkTimes.' + period +'.xml') as xml_file:\n",
    "        all_data[period] = xmltodict.parse(xml_file.read())"
   ]
  },
  {
   "cell_type": "code",
   "execution_count": 4,
   "metadata": {},
   "outputs": [
    {
     "data": {
      "text/plain": [
       "94697"
      ]
     },
     "execution_count": 4,
     "metadata": {},
     "output_type": "execute_result"
    }
   ],
   "source": [
    "len(all_data['1980']['records']['record'])"
   ]
  },
  {
   "cell_type": "code",
   "execution_count": 5,
   "metadata": {},
   "outputs": [],
   "source": [
    "for period in periods:\n",
    "    period = str(period)\n",
    "\n",
    "    a = len(all_data[period]['records']['record'])\n",
    "    data = {}\n",
    "\n",
    "    for i in range(a):\n",
    "        data[i] = all_data[period]['records']['record'][i]\n",
    "\n",
    "    all_data[period] = pd.DataFrame.from_dict(data, orient='index')\n"
   ]
  },
  {
   "cell_type": "code",
   "execution_count": 6,
   "metadata": {},
   "outputs": [],
   "source": [
    "for period in periods:\n",
    "    period = str(period)\n",
    "    all_data[period] = all_data[period].fillna('')"
   ]
  },
  {
   "cell_type": "code",
   "execution_count": 7,
   "metadata": {},
   "outputs": [
    {
     "data": {
      "text/html": [
       "<div>\n",
       "<style scoped>\n",
       "    .dataframe tbody tr th:only-of-type {\n",
       "        vertical-align: middle;\n",
       "    }\n",
       "\n",
       "    .dataframe tbody tr th {\n",
       "        vertical-align: top;\n",
       "    }\n",
       "\n",
       "    .dataframe thead th {\n",
       "        text-align: right;\n",
       "    }\n",
       "</style>\n",
       "<table border=\"1\" class=\"dataframe\">\n",
       "  <thead>\n",
       "    <tr style=\"text-align: right;\">\n",
       "      <th></th>\n",
       "      <th>record_id</th>\n",
       "      <th>source_id</th>\n",
       "      <th>publishDate</th>\n",
       "      <th>series</th>\n",
       "      <th>series2</th>\n",
       "      <th>title</th>\n",
       "      <th>author</th>\n",
       "      <th>leadtext</th>\n",
       "      <th>fulltext</th>\n",
       "      <th>link</th>\n",
       "    </tr>\n",
       "  </thead>\n",
       "  <tbody>\n",
       "    <tr>\n",
       "      <th>0</th>\n",
       "      <td>5F0R-HCS1-DXY4-X2RB</td>\n",
       "      <td>https://www.nexis.com/docview/getDocForCuiReq?...</td>\n",
       "      <td>20150105T000000Z</td>\n",
       "      <td>The New York Times</td>\n",
       "      <td>Section B; Column 0; Business/Financial Desk; ...</td>\n",
       "      <td>Tax Increase on Digital Goods to Hit Europe, T...</td>\n",
       "      <td>By MARK SCOTT</td>\n",
       "      <td>LONDON -- Europe's tax showdown could be heade...</td>\n",
       "      <td>What remains unclear is who in the 28-country ...</td>\n",
       "      <td>http://www.nytimes.com/2015/01/02/business/int...</td>\n",
       "    </tr>\n",
       "  </tbody>\n",
       "</table>\n",
       "</div>"
      ],
      "text/plain": [
       "             record_id                                          source_id  \\\n",
       "0  5F0R-HCS1-DXY4-X2RB  https://www.nexis.com/docview/getDocForCuiReq?...   \n",
       "\n",
       "        publishDate              series  \\\n",
       "0  20150105T000000Z  The New York Times   \n",
       "\n",
       "                                             series2  \\\n",
       "0  Section B; Column 0; Business/Financial Desk; ...   \n",
       "\n",
       "                                               title         author  \\\n",
       "0  Tax Increase on Digital Goods to Hit Europe, T...  By MARK SCOTT   \n",
       "\n",
       "                                            leadtext  \\\n",
       "0  LONDON -- Europe's tax showdown could be heade...   \n",
       "\n",
       "                                            fulltext  \\\n",
       "0  What remains unclear is who in the 28-country ...   \n",
       "\n",
       "                                                link  \n",
       "0  http://www.nytimes.com/2015/01/02/business/int...  "
      ]
     },
     "execution_count": 7,
     "metadata": {},
     "output_type": "execute_result"
    }
   ],
   "source": [
    "all_data[period].head(1)"
   ]
  },
  {
   "cell_type": "code",
   "execution_count": 8,
   "metadata": {},
   "outputs": [],
   "source": [
    "for period in periods:\n",
    "    period = str(period)\n",
    "    all_data[period]['year'] = list(map(lambda x: int(x[:4]), all_data[period]['publishDate']))\n",
    "\n",
    "    all_data[period]['text'] = all_data[period]['leadtext'] + all_data[period]['fulltext']\n",
    "\n",
    "    all_data[period].drop(['source_id', 'publishDate', 'series', 'series2', 'author', 'title', 'link', 'leadtext', 'fulltext'], axis = 1, inplace= True)"
   ]
  },
  {
   "cell_type": "code",
   "execution_count": 9,
   "metadata": {},
   "outputs": [],
   "source": [
    "for period in periods:\n",
    "    period = str(period)\n",
    "    all_data[period] = all_data[period][all_data[period]['year'] == int(period)]"
   ]
  },
  {
   "cell_type": "code",
   "execution_count": 10,
   "metadata": {},
   "outputs": [],
   "source": [
    "for period in periods:\n",
    "    period = str(period)\n",
    "\n",
    "    all_data[period]['word_count'] = list(map(lambda x: len(str(x).split()), all_data[period]['text']))\n",
    "\n",
    "    all_data[period] = all_data[period][all_data[period]['word_count'] > 0]"
   ]
  },
  {
   "cell_type": "code",
   "execution_count": 11,
   "metadata": {},
   "outputs": [
    {
     "data": {
      "text/plain": [
       "\"LONDON -- Europe's tax showdown could be headed straight to people's wallets. With the new year, a change in fiscal rules in the European Union is increasing the tax on many purchases of digital content like e-books and smartphone applications. Under the new rules, first approved in 2008, the tax rate on digital services like cloud storage and movie streaming will be determined by where consumers live, and not where the company selling the product has its European headquarters. Tax experts say Europe's revamped rules could add up to an extra $1 billion in annual tax revenue for European governments.What remains unclear is who in the 28-country bloc will pay most of the bill. ''There inevitably will be a price change,'' said Richard Mollet, chief executive of the Publishers Association, a British trade body. ''The question is whether retailers, publishers or customers will have to take on board any increase.'' The changes to Europe's so-called value-added tax -- a tax on goods and services similar to sales taxes in the United States -- are part of a continuing push by lawmakers to tax the region's digital economy more heavily. Companies like Apple and Amazon have been roundly criticized for housing their European operations in low-tax countries like Ireland and Luxembourg. The companies say they operate there legally. Many of the world's largest tech companies selling digital products, like Amazon and Microsoft, now house their European digital businesses in Luxembourg, where the V.A.T. rate is as low as 3 percent for e-book purchases. In contrast, countries like Britain charge companies a 20 percent sales tax for selling e-books. Analysts say the current rules provide an advantage to global companies that have the financial muscle to shop around for the lowest tax rate. Microsoft has said that charges for Skype, the Internet calling service, will increase for European consumers, as the company alters the V.A.T. levels in line with individual countries' tax rates. The European prices for Microsoft's other services, including game downloads, are not expected to change. Netflix, the video-streaming service that is expanding aggressively across Europe, does not plan to increase its monthly charge, and Amazon said that the cost of its annual Prime membership, which includes online video content in some countries, would not rise. An Amazon spokesman, however, declined to comment on whether the expected tax increase for e-books would be passed on to customers or if the company or publishers would eventually pick up additional costs. ''People will take their cue from Amazon,'' said Mr. Mollet of the Publishers Association, who added that the company's dominant position in Europe's e-book market gave it significant weight in setting pricing. ''In the first few weeks, we'll likely see a lot of price volatility.'' Google and Apple, which run the world's two largest app stores, will also not reduce the 30 percent cut that they take from each digital sale. The American tech giants, however, will collect each country's V.A.T. charge on behalf of app developers. Some of those are expected to absorb the tax increases to avoid angering European customers, who are unlikely to welcome any increase in the price of games, apps or other digital downloads. ''Everyone is going to face the same problem; it will be tough to raise prices,'' said Andy Payne, co-founder of Mastertronic Group, a small British video game publisher. ''Will the V.A.T. changes reduce our revenue? The answer is probably yes.'' Europe's efforts follow similar attempts in the United States to pass an Internet sales tax that would force online retailers to collect sales taxes for state and local governments, even if the companies do not have a physical presence in the state. Congress, however, has yet to pass such a bill. The tax overhauls also come as policy makers on both sides of the Atlantic struggle to keep pace with technological advances. Since Europe's V.A.T. changes were approved in 2008, for example, companies like Netflix have significantly changed how they operate, moving to relying on Internet movie streaming that takes advantage of high-speed broadband and away from DVD rentals sent through the mail. ''Tech developments are happening very quickly,'' said Gijsbert Bulk, a tax partner at the accounting firm Ernst & Young in Amsterdam. ''Politicians are trying to find a way to tax the digital economy.'' One of the European countries most affected by the tax change will be Luxembourg. The small country's low value-added tax rates have enticed Apple to set up its international iTunes business there, and Microsoft's digital download operation is also based there. Luxembourg's corporate tax system is being challenged by several European investigations into whether politicians gave preferential treatment to the likes of Amazon and a financing unit of Fiat, the Italian carmaker. And Jean-Claude Juncker, Luxembourg's former prime minister, who now runs the executive arm of the European Union responsible for the continuing investigations, has been criticized for his role in promoting the country's low-tax policies. In preparation for potential lost income from value-added taxes, Luxembourg's lawmakers have announced an increase in the country's value-added rate on most goods to 17 percent from 15 percent, though it will still offer heavily discounted rates for e-books and some other products. ''Luxembourg is going to lose an enormous amount of revenue,'' said Karen Robb, a tax partner at the accounting firm Grant Thornton in London. ''There will be fewer compelling tax reasons for companies to stay in Luxembourg.''\""
      ]
     },
     "execution_count": 11,
     "metadata": {},
     "output_type": "execute_result"
    }
   ],
   "source": [
    "all_data[period].iloc[0]['text']"
   ]
  },
  {
   "cell_type": "markdown",
   "metadata": {},
   "source": [
    "# Pre-processing "
   ]
  },
  {
   "cell_type": "code",
   "execution_count": 12,
   "metadata": {},
   "outputs": [],
   "source": [
    "from nltk.stem import WordNetLemmatizer\n",
    "import re\n",
    "import numpy as np\n",
    "import nltk\n",
    "\n",
    "lemmatizer = WordNetLemmatizer()\n",
    "\n",
    "from nltk.corpus import stopwords\n",
    "stop_words = list(set(stopwords.words('english')))"
   ]
  },
  {
   "cell_type": "code",
   "execution_count": 13,
   "metadata": {},
   "outputs": [],
   "source": [
    "def preprocess(text_string):\n",
    "    \n",
    "    non_word_char = \"[^\\w\\']\"\n",
    "    \n",
    "    parsed_text = re.sub(non_word_char, ' ', text_string)\n",
    "\n",
    "    parsed_text = parsed_text.lower()\n",
    "\n",
    "    parsed_text = parsed_text.split()\n",
    "\n",
    "    parsed_text = list(filter(lambda x: not x in stop_words, parsed_text))\n",
    "\n",
    "    parsed_text = list(map(lambda x: lemmatizer.lemmatize(x), parsed_text))\n",
    "\n",
    "    parsed_text = ' '.join(parsed_text)\n",
    "    \n",
    "    return parsed_text"
   ]
  },
  {
   "cell_type": "code",
   "execution_count": 14,
   "metadata": {},
   "outputs": [],
   "source": [
    "all_data['1980']['text'] = np.vectorize(preprocess)(all_data['1980']['text'])\n",
    "all_data['1980'].to_csv('data_csv/news_1980.csv')"
   ]
  },
  {
   "cell_type": "code",
   "execution_count": 15,
   "metadata": {},
   "outputs": [],
   "source": [
    "all_data['1985']['text'] = np.vectorize(preprocess)(all_data['1985']['text'])\n",
    "all_data['1985'].to_csv('data_csv/news_1985.csv')"
   ]
  },
  {
   "cell_type": "code",
   "execution_count": 16,
   "metadata": {},
   "outputs": [],
   "source": [
    "all_data['1990']['text'] = np.vectorize(preprocess)(all_data['1990']['text'])\n",
    "all_data['1990'].to_csv('data_csv/news_1990.csv')"
   ]
  },
  {
   "cell_type": "code",
   "execution_count": 17,
   "metadata": {},
   "outputs": [],
   "source": [
    "all_data['1995']['text'] = np.vectorize(preprocess)(all_data['1995']['text'])\n",
    "all_data['1995'].to_csv('data_csv/news_1995.csv')"
   ]
  },
  {
   "cell_type": "code",
   "execution_count": 14,
   "metadata": {},
   "outputs": [
    {
     "ename": "",
     "evalue": "",
     "output_type": "error",
     "traceback": [
      "\u001b[1;31mThe Kernel crashed while executing code in the the current cell or a previous cell. Please review the code in the cell(s) to identify a possible cause of the failure. Click <a href='https://aka.ms/vscodeJupyterKernelCrash'>here</a> for more info. View Jupyter <a href='command:jupyter.viewOutput'>log</a> for further details."
     ]
    },
    {
     "ename": "",
     "evalue": "",
     "output_type": "error",
     "traceback": [
      "\u001b[1;31mCanceled future for execute_request message before replies were done"
     ]
    }
   ],
   "source": [
    "all_data['2000']['text'] = np.vectorize(preprocess)(all_data['2000']['text'])\n",
    "all_data['2000'].to_csv('data_csv/news_2000.csv')"
   ]
  },
  {
   "cell_type": "code",
   "execution_count": null,
   "metadata": {},
   "outputs": [],
   "source": [
    "all_data['2005']['text'] = np.vectorize(preprocess)(all_data['2005']['text'])\n",
    "all_data['2005'].to_csv('data_csv/news_2005.csv')"
   ]
  },
  {
   "cell_type": "code",
   "execution_count": null,
   "metadata": {},
   "outputs": [],
   "source": [
    "all_data['2010']['text'] = np.vectorize(preprocess)(all_data['2010']['text'])\n",
    "all_data['2010'].to_csv('data_csv/news_2010.csv')"
   ]
  },
  {
   "cell_type": "code",
   "execution_count": null,
   "metadata": {},
   "outputs": [],
   "source": [
    "all_data['2015']['text'] = np.vectorize(preprocess)(all_data['2015']['text'])\n",
    "all_data['2015'].to_csv('data_csv/news_2015.csv')"
   ]
  },
  {
   "cell_type": "code",
   "execution_count": null,
   "metadata": {},
   "outputs": [],
   "source": []
  }
 ],
 "metadata": {
  "kernelspec": {
   "display_name": "imenepy",
   "language": "python",
   "name": "imenepy"
  },
  "orig_nbformat": 4,
  "vscode": {
   "interpreter": {
    "hash": "a504093cd48dbf41332b0076d682ce93e05d52a892a597f2a787966ee958626a"
   }
  }
 },
 "nbformat": 4,
 "nbformat_minor": 2
}
